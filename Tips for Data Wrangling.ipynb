{
 "cells": [
  {
   "cell_type": "markdown",
   "metadata": {
    "collapsed": true,
    "nbpresent": {
     "id": "26b3b9ad-6a1d-474b-8f6c-40acd315151a"
    },
    "slideshow": {
     "slide_type": "slide"
    }
   },
   "source": [
    "# Consejos para data wrangling con Python  \n",
    "\n",
    "\n",
    "**Naomi Ceder, @naomiceder**\n",
    "\n",
    "- **Presidenta Saliente de la Python Software Foundation**\n",
    "- **La autora del Quick Python Book, 3rd ed**\n",
    "- **Dick Blick Art Materials**\n",
    "\n",
    "* **Exploring Python twitch stream** - 2020-05-9 2 PM CDT, via https://www.twitch.tv/nceder/\n",
    "* https://naomiceder.tech, @naomiceder\n",
    "\n",
    "**Este cuaderno** (pero no los archivos de datos) está disponible en Github - "
   ]
  },
  {
   "cell_type": "markdown",
   "metadata": {
    "slideshow": {
     "slide_type": "slide"
    }
   },
   "source": [
    "## Cuidado - Spanglish ahead ;-)"
   ]
  },
  {
   "cell_type": "markdown",
   "metadata": {
    "nbpresent": {
     "id": "cca27bf6-5f61-46a7-bb21-e5759ea6981d"
    },
    "slideshow": {
     "slide_type": "slide"
    }
   },
   "source": [
    "## Agenda\n",
    "\n",
    "\n",
    "* Introducción\n",
    "  * Herriamientas\n",
    "  * Buscar ayuda\n",
    "\n",
    "* Problemas de muestra - código y explicación \n",
    "\n",
    "  * Archivos de texto\n",
    "  * Fixed Width\n",
    "  * Binary\n",
    "  * CSV\n",
    "  * JSON\n",
    "  * XML\n",
    "  \n",
    "* Consejos generales\n",
    "   * Redimiento\n",
    "   * Cómo manejar archivos muy largos\n",
    "   * Depuración\n"
   ]
  },
  {
   "cell_type": "markdown",
   "metadata": {
    "slideshow": {
     "slide_type": "slide"
    }
   },
   "source": [
    "### El enfoque de este taller\n",
    "\n",
    "* trabajar con varios ejemplos simples\n",
    "* usar las herriemientas las más básicas posible \n",
    "* compartir mi experiencia\n",
    "\n",
    "No va a ser prescriptivo ni un \"cookbook\"\n"
   ]
  },
  {
   "cell_type": "markdown",
   "metadata": {
    "nbpresent": {
     "id": "d52073c0-a871-4bed-aab5-77f0514d8031"
    },
    "slideshow": {
     "slide_type": "slide"
    }
   },
   "source": [
    "## Filosofía del taller\n",
    "\n",
    "“Todas las familias felices se parecen unas a otras, pero cada familia infeliz lo es a su manera.” - Tolstoy\n",
    "\n",
    "“¿Qué podría salir mal?” - Naomi, and many others\n",
    "\n",
    "“Si algo puede salir mal, lo hará” - Murphy\n"
   ]
  },
  {
   "cell_type": "markdown",
   "metadata": {
    "nbpresent": {
     "id": "d89f0121-0c7c-4b75-8807-b4707ae468f0"
    },
    "slideshow": {
     "slide_type": "fragment"
    }
   },
   "source": [
    "**o**\n",
    "\n",
    "Si todo va bien, puede usar las herramientas de alto nivel, pero cuando las cosas salen mal, debe trabajar en un nivel inferior. Y muchas veces las cosas salen mal.\n",
    "\n",
    "\n"
   ]
  },
  {
   "cell_type": "markdown",
   "metadata": {
    "nbpresent": {
     "id": "7638f572-4bae-4b96-adb0-1fae64570d7e"
    },
    "slideshow": {
     "slide_type": "slide"
    }
   },
   "source": [
    "## Herriamientas\n",
    "\n",
    "* Python 3.8+\n",
    "* la librería estándar - `collections, sys, os, str, re` módulos\n",
    "* `pip`\n",
    "  * `conda` si usas una distribución de Anaconda\n",
    "* los entornos virturales\n",
    "  * virtualenv o conda-env\n",
    "* pandas\n"
   ]
  },
  {
   "cell_type": "markdown",
   "metadata": {
    "slideshow": {
     "slide_type": "slide"
    }
   },
   "source": [
    "### Por qué no siempre usamos pandas?\n",
    "\n",
    "* pandas muchas veces no está adecuada para el uso en producción o pipelines\n",
    "* pandas no es optimizada para el rendimiento máximo \n",
    "* ve la filosofía del taller "
   ]
  },
  {
   "cell_type": "markdown",
   "metadata": {
    "nbpresent": {
     "id": "adecdecf-3fae-4cbe-924a-f771e1472170"
    },
    "slideshow": {
     "slide_type": "slide"
    }
   },
   "source": [
    "### La documentación en Python.org \n",
    "\n",
    "* Python Tutorial - https://docs.python.org/3/tutorial/index.html / https://python-docs-es.readthedocs.io/es/3.8/tutorial/index.html\n",
    "* La ~~librería~~biblioteca estándar - https://docs.python.org/3/library/index.html - (aún no se traduce) https://python-docs-es.readthedocs.io/es/3.8/library/index.html\n"
   ]
  },
  {
   "cell_type": "markdown",
   "metadata": {
    "slideshow": {
     "slide_type": "slide"
    }
   },
   "source": [
    "## Los consejos generales\n",
    "\n",
    "* Empieza con lo simple\n",
    "* Toma en cuenta el propósito\n",
    "* Haz las comprobaciones de sanidad frecuentes\n",
    "* Limpiar los datos es destruir información, hazlo con cuidado"
   ]
  },
  {
   "cell_type": "markdown",
   "metadata": {
    "slideshow": {
     "slide_type": "slide"
    }
   },
   "source": [
    "## Las técnicas básicas\n",
    "\n",
    "* Usa los métodos incorporados -  str.translate, lower(), etc\n",
    "* Los conjuntos (sets) son los más rápidos con `in`\n",
    "* Usa funciones - códico comun debe ponerse en funciones\n",
    "* Los decorators - útil para funciones que apoyan a otras funciones\n",
    "* Usa la bibioteca estándar\n",
    "* Las expresiones regulares - más potentes, pero más lentas, deberían compilarse\n",
    "* Usa otras bibliotecas - de PyPI, Pandas, NumPy, etc\n",
    "* Usa las comprensiones de listas para filtrar"
   ]
  },
  {
   "cell_type": "markdown",
   "metadata": {
    "slideshow": {
     "slide_type": "slide"
    }
   },
   "source": [
    "## Archivos de text\n",
    "\n",
    "\n",
    "* problemas con newline\n",
    "  * los fines de líneas pueden ser '\\n', '\\r', '\\r\\n'\n",
    "  * `strip()`, `rstrip()`,  depués añade los fines de líneas\n",
    "  * `newline` - None, '', '\\n', '\\r', '\\r\\n'\n",
    "* errors de codificación\n",
    "  * abre el archivo en modo binário\n",
    "  * `errors` = ignore, replace, or otra opción  \n",
    "* null carácter - \"x\\00\"\n",
    "* como los otros formatos usan archivos de tipo text, estos problemas pueden ocurrir también con ellos"
   ]
  },
  {
   "cell_type": "markdown",
   "metadata": {
    "slideshow": {
     "slide_type": "subslide"
    }
   },
   "source": [
    "### strings vs. bytes\n",
    "* En Python 2 no hubo ningún diferencia\n",
    "  * cadena/string - una serie de bytes o carácteres de una cadena\n",
    "  * se necesita codificación para unicode \n",
    "* una **enorme** diferencia en Python 3\n",
    "  * bytes - una serie de bytes, pero en verdad solamente bytes (0-255 integers)\n",
    "  * cadena/string - Unicode \n",
    "  * hay que convertir una a la otra, bytes no son cadenas!"
   ]
  },
  {
   "cell_type": "code",
   "execution_count": null,
   "metadata": {
    "nbpresent": {
     "id": "ee172c6b-3420-4ffc-b39a-f5272cd4c886"
    },
    "slideshow": {
     "slide_type": "subslide"
    }
   },
   "outputs": [],
   "source": [
    "b = [0, 9, 32, 48, 65, 66, 67]\n",
    "#b = [0, 9, 32, 48, 65, 66, 67, 255]\n",
    "b_string = bytes(b)\n",
    "print(b_string.decode())\n",
    "b_string.decode()"
   ]
  },
  {
   "cell_type": "code",
   "execution_count": null,
   "metadata": {
    "nbpresent": {
     "id": "8e4a498c-06d0-4faa-9f67-34d9500963a2"
    },
    "scrolled": true,
    "slideshow": {
     "slide_type": "slide"
    }
   },
   "outputs": [],
   "source": [
    "# text file example\n",
    "\n",
    "open(\"test\", \"wb\").write(bytes(\"this is\\nä\\x80\\ff\\r\\ntest\\xc3\\x28\", encoding='utf8')+bytes([255]))\n"
   ]
  },
  {
   "cell_type": "code",
   "execution_count": null,
   "metadata": {
    "nbpresent": {
     "id": "e401e860-8472-4fe9-9627-2c3ca0ff9166"
    },
    "slideshow": {
     "slide_type": "slide"
    }
   },
   "outputs": [],
   "source": [
    "text = open(\"test\", \"r\", newline='', errors=\"strict\").read()\n",
    "\n",
    "text = open(\"test\", \"r\", newline='', errors=\"replace\").read()\n",
    "print(text)\n",
    "text"
   ]
  },
  {
   "cell_type": "code",
   "execution_count": null,
   "metadata": {
    "nbpresent": {
     "id": "e401e860-8472-4fe9-9627-2c3ca0ff9166"
    },
    "slideshow": {
     "slide_type": "slide"
    }
   },
   "outputs": [],
   "source": [
    "text2 = open(\"test2\", \"r\").read()\n",
    "print(text2)\n",
    "text2"
   ]
  },
  {
   "cell_type": "code",
   "execution_count": null,
   "metadata": {
    "nbpresent": {
     "id": "9a80d0eb-1430-4077-b413-362fdd14fa37"
    },
    "scrolled": true,
    "slideshow": {
     "slide_type": "slide"
    }
   },
   "outputs": [],
   "source": [
    "open(\"test2\", \"wb\").write(b\"this,is,a\\ntest\\x00,null,file\")\n",
    "import csv\n",
    "for x in csv.reader(open(\"test2\", \"r\", errors=\"replace\")):\n",
    "    print(x)\n",
    "\n",
    "# Cleaning NULL (\\x00) bytes from a data file\n",
    "def clean_null(filename):\n",
    "    with open(filename, 'rb') as fi:\n",
    "        data = fi.read()\n",
    "        fi.close()\n",
    "    with open(f'{filename}.new', 'wb') as fo:\n",
    "        fo.write(data.replace(b'\\x00', b''))\n",
    "        fo.close()\n",
    "\n",
    "clean_null(\"test2\")\n",
    "for x in csv.reader(open(\"test2.new\", \"r\")):\n",
    "     print(x)"
   ]
  },
  {
   "cell_type": "markdown",
   "metadata": {
    "nbpresent": {
     "id": "31e0a3fe-eedb-4467-8a34-a573daccc81f"
    },
    "slideshow": {
     "slide_type": "slide"
    }
   },
   "source": [
    "## Fixed Width Records\n",
    "\n",
    "Problema - clima de Londres\n",
    "* plain python\n",
    "* biblioteca FixedWidth\n",
    "* pandas\n",
    "\n",
    "http://pandas.pydata.org/pandas-docs/stable/generated/pandas.read_fwf.html\n",
    "\n",
    "https://pypi.python.org/pypi/FixedWidth/0.99.3\n"
   ]
  },
  {
   "cell_type": "code",
   "execution_count": null,
   "metadata": {
    "slideshow": {
     "slide_type": "slide"
    }
   },
   "outputs": [],
   "source": [
    "lhr_lines = []\n",
    "with open(\"heathrowdata.txt\") as LHR_input:\n",
    "    for row in LHR_input:\n",
    "        print(row.strip(\"\\n\"))\n",
    "        lhr_lines.append(row)\n",
    "    "
   ]
  },
  {
   "cell_type": "markdown",
   "metadata": {
    "slideshow": {
     "slide_type": "slide"
    }
   },
   "source": [
    "### Plain Python\n",
    "* `split()` - funciona si el separador es espacio(s) en blanco y no hay espacios en los campos\n",
    "* list of start/end positions or field lengths\n",
    "* lists of lists vs. lists of dicts (o dictionary of dictionaries or of lists)"
   ]
  },
  {
   "cell_type": "code",
   "execution_count": null,
   "metadata": {
    "nbpresent": {
     "id": "8a2d3988-8dc4-443e-9e71-75e33809d53b"
    },
    "slideshow": {
     "slide_type": "slide"
    }
   },
   "outputs": [],
   "source": [
    "with open(\"heathrowdata.txt\") as LHR_input:\n",
    "    # read the entire file\n",
    "    LHR = LHR_input.read()\n",
    "    \n",
    "# explanation of the file    \n",
    "lines= LHR.split(\"\\n\")[5:] \n",
    "header_1 = lines[0].split()\n",
    "#print(header_1)\n",
    "header_2 = [\"\"] * 2 + lines[1].split()\n",
    "#print(header_2) \n",
    "header = [\"\\n\".join(x) for x in zip(header_1, header_2)]\n",
    "#print(header)\n",
    "lhr_list = [line.split() for line in lines[2:]]\n",
    "lhr_tuple = [tuple(line.split()) for line in lines[2:]]\n",
    "\n",
    "\n",
    "\n",
    "for row in lhr_tuple:\n",
    "#for row in lhr_list:\n",
    "    print(row)\n",
    "    "
   ]
  },
  {
   "cell_type": "code",
   "execution_count": null,
   "metadata": {
    "nbpresent": {
     "id": "8a2d3988-8dc4-443e-9e71-75e33809d53b"
    },
    "slideshow": {
     "slide_type": "slide"
    }
   },
   "outputs": [],
   "source": [
    "\n",
    "lhr_dict = [dict(zip(header_1, row))  for row in lhr_list]\n",
    "for record in lhr_dict:\n",
    "    print(record)\n"
   ]
  },
  {
   "cell_type": "code",
   "execution_count": null,
   "metadata": {
    "slideshow": {
     "slide_type": "slide"
    }
   },
   "outputs": [],
   "source": [
    "field_lengths = (7, 4, 8, 8, 8, 8, 9)\n",
    "\n",
    "start_end_pos = ((0, 7), (7, 11), (11, 19), (19, 27), (27, 35), (35, 43), (43, 52))\n",
    "\n",
    "def normalize(field):\n",
    "    try:\n",
    "        return int(field.strip(\" #\" ))\n",
    "    except ValueError as e:\n",
    "        try:\n",
    "            return float(field.strip())\n",
    "        except ValueError as e:\n",
    "            return None\n",
    "    \n",
    "with open(\"heathrowdata.txt\") as LHR_input:\n",
    "    LHR = LHR_input.read()\n",
    "    lines = LHR.split(\"\\n\")[5:]\n",
    "    records = []\n",
    "    for line in lines[2:]:\n",
    "        # using field lengths\n",
    "        record = []\n",
    "        pos = 0\n",
    "        for field in field_lengths:\n",
    "            record.append(line[pos : pos + field])\n",
    "            pos += field\n",
    "        # using start and end positions\n",
    "        record = [normalize(line[a:b]) for a, b in start_end_pos]\n",
    "        records.append(record)\n",
    "        print(record)\n",
    "  "
   ]
  },
  {
   "cell_type": "code",
   "execution_count": null,
   "metadata": {
    "slideshow": {
     "slide_type": "slide"
    }
   },
   "outputs": [],
   "source": [
    "# list comprehension in a list comprehension\n",
    "# shorter is not always better\n",
    "lhr_records = [[normalize(line[a:b]) for a, b in start_end_pos] for line in lines[2:] if line.strip()]\n",
    "lhr_records"
   ]
  },
  {
   "cell_type": "code",
   "execution_count": null,
   "metadata": {
    "nbpresent": {
     "id": "8a2d3988-8dc4-443e-9e71-75e33809d53b"
    },
    "slideshow": {
     "slide_type": "slide"
    }
   },
   "outputs": [],
   "source": [
    "import pandas\n",
    "infile_obj = open(\"heathrowdata.txt\")\n",
    "for i in range(5):\n",
    "    next(infile_obj)\n",
    "\n",
    "\n",
    "df_lhr = pandas.read_fwf(infile_obj)\n",
    "print(df_lhr)\n"
   ]
  },
  {
   "cell_type": "code",
   "execution_count": null,
   "metadata": {
    "scrolled": true,
    "slideshow": {
     "slide_type": "slide"
    }
   },
   "outputs": [],
   "source": [
    "! pip install fixedwidth"
   ]
  },
  {
   "cell_type": "code",
   "execution_count": null,
   "metadata": {
    "slideshow": {
     "slide_type": "slide"
    }
   },
   "outputs": [],
   "source": [
    "from fixedwidth.fixedwidth import FixedWidth\n",
    "import fixedwidth.fixedwidth as fixed\n",
    "\n",
    "CONFIG = {\n",
    "    \"yyyy\": {\n",
    "        \"required\": True,\n",
    "        \"type\": \"integer\",\n",
    "        \"start_pos\": 1,\n",
    "        \"end_pos\": 7,\n",
    "        \"alignment\": \"left\",\n",
    "        \"padding\": \" \",\n",
    "    },\n",
    "    \"mm\": {\n",
    "        \"required\": True,\n",
    "        \"type\": \"integer\",\n",
    "        \"start_pos\": 8,\n",
    "        \"end_pos\": 11,\n",
    "        \"alignment\": \"left\",\n",
    "        \"padding\": \" \",\n",
    "    },\n",
    "    \"tmax\": {\n",
    "        \"required\": True,\n",
    "        \"type\": \"decimal\",\n",
    "        \"start_pos\": 12,\n",
    "        \"end_pos\": 18,\n",
    "        \"alignment\": \"left\",\n",
    "        \"padding\": \" \",\n",
    "    },\n",
    "    \"tmin\": {\n",
    "        \"required\": True,\n",
    "        \"type\": \"decimal\",\n",
    "        \"start_pos\": 19,\n",
    "        \"end_pos\": 26,\n",
    "        \"alignment\": \"left\",\n",
    "        \"padding\": \" \",\n",
    "    },\n",
    "    \"af\": {\n",
    "        \"required\": True,\n",
    "        \"type\": \"string\",\n",
    "        \"start_pos\": 27,\n",
    "        \"end_pos\": 34,\n",
    "        \"alignment\": \"left\",\n",
    "        \"padding\": \" \",\n",
    "    },\n",
    "    \"rain\": {\n",
    "        \"required\": True,\n",
    "        \"type\": \"decimal\",\n",
    "        \"start_pos\": 35,\n",
    "        \"end_pos\": 42,\n",
    "        \"alignment\": \"left\",\n",
    "        \"padding\": \" \",\n",
    "    },\n",
    "    \"sun\": {\n",
    "        \"required\": True,\n",
    "        \"type\": \"string\",\n",
    "        \"start_pos\": 43,\n",
    "        \"end_pos\": 51,\n",
    "        \"alignment\": \"left\",\n",
    "        \"padding\": \" \",\n",
    "    },\n",
    "}"
   ]
  },
  {
   "cell_type": "code",
   "execution_count": null,
   "metadata": {
    "slideshow": {
     "slide_type": "slide"
    }
   },
   "outputs": [],
   "source": [
    "fw = FixedWidth(CONFIG)\n",
    "with open(\"heathrowdata.txt\") as LHR_input:\n",
    "    LHR = LHR_input.read()\n",
    "    lines= LHR.split(\"\\n\")[7:]\n",
    "    for line in lines:\n",
    "        if not line.strip():\n",
    "            continue\n",
    "        data = fw._string_to_dict(line)\n",
    "        fw.update( **data)\n",
    "        print(fw.data)"
   ]
  },
  {
   "cell_type": "code",
   "execution_count": null,
   "metadata": {},
   "outputs": [],
   "source": [
    "fw.data "
   ]
  },
  {
   "cell_type": "code",
   "execution_count": null,
   "metadata": {
    "slideshow": {
     "slide_type": "slide"
    }
   },
   "outputs": [],
   "source": [
    "fw.line"
   ]
  },
  {
   "cell_type": "code",
   "execution_count": null,
   "metadata": {
    "slideshow": {
     "slide_type": "slide"
    }
   },
   "outputs": [],
   "source": [
    "header_1"
   ]
  },
  {
   "cell_type": "markdown",
   "metadata": {
    "nbpresent": {
     "id": "191ab12e-9042-48dd-88b5-786615ea198d"
    },
    "slideshow": {
     "slide_type": "slide"
    }
   },
   "source": [
    "## Archivos delimitados (CSV)\n",
    "\n",
    "* Un de los formats más comunes\n",
    "* delimitado por un coma, tab, barra o otro carácter\n",
    "* si un campo contiene el delimitador, hay que conlocar el campo entre comillas\n",
    "* existe un módulo en la biblioteca estándar - https://docs.python.org/3/library/csv.html\n"
   ]
  },
  {
   "cell_type": "code",
   "execution_count": null,
   "metadata": {},
   "outputs": [],
   "source": [
    "import requests\n",
    "resultado = requests.get(\"https://raw.githubusercontent.com/CSSEGISandData/COVID-19/master/csse_covid_19_data/csse_covid_19_daily_reports/05-24-2020.csv\")\n",
    "\n",
    "open(\"covid-19_2020-05-24.csv\", \"w\").write(resultado.text)"
   ]
  },
  {
   "cell_type": "code",
   "execution_count": null,
   "metadata": {
    "scrolled": true,
    "slideshow": {
     "slide_type": "slide"
    }
   },
   "outputs": [],
   "source": [
    "lines = []\n",
    "with open(\"csv/temp_data_01.csv\") as input_file:\n",
    "    for row in input_file:\n",
    "        lines.append(row)\n",
    "        print(row.strip(\"\\n\")) "
   ]
  },
  {
   "cell_type": "markdown",
   "metadata": {
    "slideshow": {
     "slide_type": "slide"
    }
   },
   "source": [
    "### No re-implemente la biblioteca estándar\n",
    "* ya se ha hecho\n",
    "* se ha depurado y optimizado por los desarolladores core y los usuarios \n"
   ]
  },
  {
   "cell_type": "code",
   "execution_count": null,
   "metadata": {
    "scrolled": true,
    "slideshow": {
     "slide_type": "slide"
    }
   },
   "outputs": [],
   "source": [
    "# no haz esto jamás!\n",
    "\n",
    "with open(\"csv/temp_data_01.csv\") as input_file:\n",
    "    records = [[field.strip('\"\\n') for field in row.split(\",\")] for row in input_file]\n",
    "        \n",
    "for record in records:\n",
    "    print(record)\n"
   ]
  },
  {
   "cell_type": "code",
   "execution_count": null,
   "metadata": {
    "scrolled": true,
    "slideshow": {
     "slide_type": "slide"
    }
   },
   "outputs": [],
   "source": [
    "def strip_commas(func):\n",
    "    def wrapper(*params):\n",
    "        result = func(*params)\n",
    "        return result.replace(\",\", \"\")\n",
    "    return wrapper\n",
    "\n",
    "@strip_commas\n",
    "def normalize(field):\n",
    "    return field.replace(\"Missing\", \"\")\n",
    "\n",
    "import csv\n",
    "\n",
    "with open(\"csv/temp_data_01.csv\") as input_file:\n",
    "    records = [[normalize(x) for x in row] for row in csv.reader(input_file)]\n",
    "    \n",
    "for record in records:\n",
    "    print(record)\n"
   ]
  },
  {
   "cell_type": "markdown",
   "metadata": {
    "slideshow": {
     "slide_type": "slide"
    }
   },
   "source": [
    "### comprensiones de listas  vs. expressiones generadores\n",
    "* comprensiones de listas son la manera Pythonica para filtrar y hacer operaciones map\n",
    "* expresiones generadores son equivalentes\n",
    "  * comprensiones de listas requieren más memoria y son más rápidas\n",
    "  * en el ejemplo encima, con un archivo muy grande la expresión externa podría requirer demasiada memoria"
   ]
  },
  {
   "cell_type": "code",
   "execution_count": null,
   "metadata": {
    "scrolled": true,
    "slideshow": {
     "slide_type": "slide"
    }
   },
   "outputs": [],
   "source": [
    "# memory efficient version\n",
    "\n",
    "def strip_commas(func):\n",
    "    def wrapper(*params):\n",
    "        result = func(*params)\n",
    "        return result.replace(\",\", \"\")\n",
    "    return wrapper\n",
    "\n",
    "@strip_commas\n",
    "def normalize(field):\n",
    "    return field.replace(\"Missing\", \"\")\n",
    "\n",
    "import csv\n",
    "\n",
    "with open(\"csv/temp_data_01.csv\") as input_file:\n",
    "    # creates a generator object but does NOT read from file here\n",
    "    records_list = ([normalize(x) for x in row] for row \n",
    "                      in csv.reader(input_file))\n",
    "    \n",
    "    # print must now be in with block\n",
    "    for record in records_list:\n",
    "        print(record)\n"
   ]
  },
  {
   "cell_type": "markdown",
   "metadata": {
    "slideshow": {
     "slide_type": "slide"
    }
   },
   "source": [
    "### Otros iteradores similares\n",
    "* sort (cambia el objeto) vs sorted (iterador)\n",
    "* reverse (cambia el objeto) vs reversed (iterador)\n",
    "* itertools en la biblioteca estándar\n"
   ]
  },
  {
   "cell_type": "markdown",
   "metadata": {
    "slideshow": {
     "slide_type": "slide"
    }
   },
   "source": [
    "### Otros delimitadores\n",
    "* tab - `\\t`\n",
    "* barra - `|`"
   ]
  },
  {
   "cell_type": "code",
   "execution_count": null,
   "metadata": {
    "scrolled": true,
    "slideshow": {
     "slide_type": "slide"
    }
   },
   "outputs": [],
   "source": [
    "# delimitado por tabs, encargado como texto plano\n",
    "\n",
    "with open(\"csv/temp_data_01.txt\") as input_file:\n",
    "    for row in input_file:\n",
    "        print(row.strip(\"\\n\"))"
   ]
  },
  {
   "cell_type": "code",
   "execution_count": null,
   "metadata": {
    "slideshow": {
     "slide_type": "slide"
    }
   },
   "outputs": [],
   "source": [
    "# delimitado por tabs, encargado con módulo csv con tab como delimitador\n",
    "\n",
    "import csv\n",
    "\n",
    "with open(\"csv/temp_data_01.txt\") as input_file:\n",
    "    records = [row for row in csv.reader(input_file, delimiter=\"\\t\")]\n",
    "    \n",
    "for record in records:\n",
    "    print(record)\n"
   ]
  },
  {
   "cell_type": "code",
   "execution_count": null,
   "metadata": {
    "scrolled": true,
    "slideshow": {
     "slide_type": "slide"
    }
   },
   "outputs": [],
   "source": [
    "# delimitado por barras, encargado como texto plano\n",
    "\n",
    "with open(\"csv/temp_data_pipes_01.txt\") as input_file:\n",
    "    for row in input_file:\n",
    "        print(row.strip(\"\\n\"))"
   ]
  },
  {
   "cell_type": "code",
   "execution_count": null,
   "metadata": {
    "scrolled": true,
    "slideshow": {
     "slide_type": "slide"
    }
   },
   "outputs": [],
   "source": [
    "# delimitado por barras, encargado con módulo csv y barra como delimitador\n",
    "\n",
    "import csv\n",
    "\n",
    "with open(\"csv/temp_data_pipes_01.txt\") as input_file:\n",
    "    records = [row for row in csv.reader(input_file, delimiter=\"|\")]\n",
    "    \n",
    "for record in records:\n",
    "    print(record)\n"
   ]
  },
  {
   "cell_type": "markdown",
   "metadata": {
    "slideshow": {
     "slide_type": "slide"
    }
   },
   "source": [
    "### Common data structures\n",
    "* lists of lists\n",
    "* lists of tuples\n",
    "* lists of dictionaries\n",
    "* named tuples\n",
    "* dataclasses (3.7 on)\n",
    "* pandas dataframes"
   ]
  },
  {
   "cell_type": "markdown",
   "metadata": {
    "slideshow": {
     "slide_type": "slide"
    }
   },
   "source": [
    "### Pandas y archivos CSV \n",
    "\n",
    "* puede encargarlo en un dataframe\n",
    "* Usa el módulo csv module \n",
    "* Otros delimitadores se pueden usar, pero hay que espécificarlos"
   ]
  },
  {
   "cell_type": "code",
   "execution_count": null,
   "metadata": {
    "slideshow": {
     "slide_type": "slide"
    }
   },
   "outputs": [],
   "source": [
    "import pandas\n",
    "df = pandas.read_csv(\"csv/temp_data_01.csv\")\n",
    "#df = pandas.read_csv(\"csv/temp_data_pipes_01.txt\", delimiter=\"|\")\n",
    "df"
   ]
  },
  {
   "cell_type": "markdown",
   "metadata": {
    "slideshow": {
     "slide_type": "slide"
    }
   },
   "source": [
    "## Archivos de JSON\n",
    "\n",
    "* Structured\n",
    "* Allows nesting objects/types\n",
    "* Flexible - elements of a \"record\" can change"
   ]
  },
  {
   "cell_type": "markdown",
   "metadata": {
    "slideshow": {
     "slide_type": "slide"
    }
   },
   "source": [
    "### JSON vs SimpleJSON\n",
    "* simplejson se añadió a la biblioteca estándar (llamado json) en Python 2.6 (2008)\n",
    "* simplejson actualmente se actualiza más frecuente y tiene más functiones, e.g. decimal types"
   ]
  },
  {
   "cell_type": "code",
   "execution_count": null,
   "metadata": {
    "slideshow": {
     "slide_type": "slide"
    }
   },
   "outputs": [],
   "source": [
    "with open(\"json/london.json\") as input_file:\n",
    "    for row in input_file:\n",
    "        print(row.strip(\"\\n\"))"
   ]
  },
  {
   "cell_type": "code",
   "execution_count": null,
   "metadata": {
    "slideshow": {
     "slide_type": "slide"
    }
   },
   "outputs": [],
   "source": [
    "# si preferias simplejson (si posible), but are okay failing back to json\n",
    "try:\n",
    "    import simplejson as json\n",
    "except ImportError:\n",
    "    import json\n",
    "\n",
    "with open(\"json/london.json\") as input_file:\n",
    "    data = json.load(input_file)\n",
    "    \n",
    "data"
   ]
  },
  {
   "cell_type": "code",
   "execution_count": null,
   "metadata": {
    "slideshow": {
     "slide_type": "slide"
    }
   },
   "outputs": [],
   "source": [
    "\n",
    "with open(\"owid-covid-data.json\") as input_file:\n",
    "    for number, row in enumerate(input_file):\n",
    "        if number> 100:\n",
    "            break\n",
    "        print(row.strip(\"\\n\"))"
   ]
  },
  {
   "cell_type": "code",
   "execution_count": null,
   "metadata": {
    "slideshow": {
     "slide_type": "slide"
    }
   },
   "outputs": [],
   "source": [
    "# si preferias simplejson (si posible), but are okay failing back to json\n",
    "try:\n",
    "    import simplejson as json\n",
    "except ImportError:\n",
    "    import json\n",
    "\n",
    "with open(\"owid-covid-data.json\") as input_file:\n",
    "    data = json.load(input_file)\n",
    "    \n",
    "data[\"ABW\"]"
   ]
  },
  {
   "cell_type": "markdown",
   "metadata": {
    "slideshow": {
     "slide_type": "slide"
    }
   },
   "source": [
    "### Common json functions\n",
    "* `json.loads(data_string)` - parses JSON string (or bytes or bytearrray) into dictionary\n",
    "* `json.load(file)` - reads JSON string from (text or binary) file and parses into dictionary\n",
    "* `json.dumps(a_dictionary)` - converts dictionary to serialized JSON **string**\n",
    "* `json.dump(a_dictionary, file)` - parses JSON **string** into dictionary\n"
   ]
  },
  {
   "cell_type": "markdown",
   "metadata": {
    "nbpresent": {
     "id": "a50f85b8-a51a-4555-802d-0d0822a59ad3"
    },
    "slideshow": {
     "slide_type": "slide"
    }
   },
   "source": [
    "### JSON file layouts\n",
    "* one giant object\n",
    "* array of objects\n",
    "   * top level arrays subject to exploit, but still common\n",
    "* one object per row - not really JSON, but common"
   ]
  },
  {
   "cell_type": "code",
   "execution_count": null,
   "metadata": {
    "scrolled": true,
    "slideshow": {
     "slide_type": "slide"
    }
   },
   "outputs": [],
   "source": [
    "# top level array loaded as plain text\n",
    "\n",
    "with open(\"json/chicago.json\") as input_file:\n",
    "    for row in input_file:\n",
    "        print(row.strip(\"\\n\"))"
   ]
  },
  {
   "cell_type": "code",
   "execution_count": null,
   "metadata": {
    "scrolled": true,
    "slideshow": {
     "slide_type": "slide"
    }
   },
   "outputs": [],
   "source": [
    "# top level array loaded as JSON object\n",
    "\n",
    "with open(\"json/chicago.json\") as input_file:\n",
    "    data = json.load(input_file)\n",
    "data"
   ]
  },
  {
   "cell_type": "code",
   "execution_count": null,
   "metadata": {
    "scrolled": true,
    "slideshow": {
     "slide_type": "slide"
    }
   },
   "outputs": [],
   "source": [
    "\n",
    "with open(\"json/mars.json\") as input_file:\n",
    "    for row in input_file:\n",
    "        print(row)"
   ]
  },
  {
   "cell_type": "code",
   "execution_count": null,
   "metadata": {
    "scrolled": true,
    "slideshow": {
     "slide_type": "slide"
    }
   },
   "outputs": [],
   "source": [
    "with open(\"json/mars.json\") as input_file:\n",
    "    data = json.load(input_file)\n",
    "data"
   ]
  },
  {
   "cell_type": "markdown",
   "metadata": {
    "nbpresent": {
     "id": "1f2dceeb-f08f-4894-8433-260956e571f2"
    },
    "slideshow": {
     "slide_type": "slide"
    }
   },
   "source": [
    "## XML files\n",
    "\n",
    "* xmltodict (via pip) - converts to dictionary\n",
    "* elementree (standard library, need to walk tree/search for data\n"
   ]
  },
  {
   "cell_type": "code",
   "execution_count": null,
   "metadata": {
    "slideshow": {
     "slide_type": "slide"
    }
   },
   "outputs": [],
   "source": [
    "with open(\"xml/sample_01.xml\") as input_file:\n",
    "    for row in input_file:\n",
    "        print(row.strip(\"\\n\"))"
   ]
  },
  {
   "cell_type": "code",
   "execution_count": null,
   "metadata": {
    "slideshow": {
     "slide_type": "slide"
    }
   },
   "outputs": [],
   "source": [
    "import xmltodict\n",
    "with open(\"xml/sample_01.xml\", \"rb\") as input_file:\n",
    "    data = xmltodict.parse(input_file)\n",
    "data"
   ]
  },
  {
   "cell_type": "code",
   "execution_count": null,
   "metadata": {
    "slideshow": {
     "slide_type": "slide"
    }
   },
   "outputs": [],
   "source": [
    "import xml.etree.ElementTree as ET\n",
    "tree = ET.parse('xml/sample_01.xml')\n",
    "root = tree.getroot()\n",
    "root"
   ]
  },
  {
   "cell_type": "code",
   "execution_count": null,
   "metadata": {
    "slideshow": {
     "slide_type": "slide"
    }
   },
   "outputs": [],
   "source": [
    "for item in root:\n",
    "    print(item.tag, item.attrib)"
   ]
  },
  {
   "cell_type": "code",
   "execution_count": null,
   "metadata": {
    "scrolled": true,
    "slideshow": {
     "slide_type": "slide"
    }
   },
   "outputs": [],
   "source": [
    "with open(\"xml/observations.xml\") as input_file:\n",
    "    for row in input_file:\n",
    "        print(row.strip(\"\\n\"))"
   ]
  },
  {
   "cell_type": "markdown",
   "metadata": {
    "nbpresent": {
     "id": "efd64576-0af8-4206-85b4-deefc6a3332a"
    },
    "slideshow": {
     "slide_type": "slide"
    }
   },
   "source": [
    "## Optimizations\n",
    "\n",
    "* avoid premature optimizations - start naively and then optimize\n",
    "* processor time is generally cheaper than human time\n",
    "* beware of loops - move things out\n",
    "* avoid repeated string operations (concatenation, etc)\n",
    "* parallelization and concurrency\n",
    "* avoid reading and especially avoid writing to disk (or DB, or virtual memory)\n",
    "* divide and conquer (map/reduce)\n",
    "* sorting can help (binary search)\n",
    "* generators save memory (but are a little slower)\n",
    "\n",
    "\n"
   ]
  },
  {
   "cell_type": "markdown",
   "metadata": {
    "nbpresent": {
     "id": "95a06dd6-07a2-423a-929c-aa1b046c1b11"
    },
    "slideshow": {
     "slide_type": "slide"
    }
   },
   "source": [
    "## Tips and tricks\n",
    "\n",
    "* Use commandline (unix) tools - e.g. sort, grep\n",
    "* Clean lines rather than fields if possible\n",
    "* Use sets \n",
    "    * for uniqueness\n",
    "    * for membership\n",
    "* Use dictionaries for matching\n",
    "* Use list and dictionary comprehensions for speed\n",
    "* Use generator expressions to save memory\n",
    "\n"
   ]
  },
  {
   "cell_type": "code",
   "execution_count": null,
   "metadata": {
    "slideshow": {
     "slide_type": "slide"
    }
   },
   "outputs": [],
   "source": [
    "# sets vs. lists\n",
    "\n",
    "numbers = list(range(100000))\n",
    "\n",
    "def find_list(target, numbers):\n",
    "    return (\n",
    "        target in numbers\n",
    "        and target - 1 in numbers\n",
    "        and target - 2 in numbers\n",
    "        and target - 3 in numbers\n",
    "    )\n",
    "\n",
    "def find_set(target, numbers):\n",
    "    # convert numbers to a set! \n",
    "    numbers = set(numbers)\n",
    "    return (\n",
    "        target in numbers\n",
    "        and target - 1 in numbers\n",
    "        and target - 2 in numbers\n",
    "        and target - 3 in numbers\n",
    "    )"
   ]
  },
  {
   "cell_type": "code",
   "execution_count": null,
   "metadata": {
    "scrolled": true,
    "slideshow": {
     "slide_type": "slide"
    }
   },
   "outputs": [],
   "source": [
    "%timeit find_list(99999, numbers)\n",
    "\n",
    "%timeit find_set(99999, numbers)"
   ]
  },
  {
   "cell_type": "code",
   "execution_count": null,
   "metadata": {},
   "outputs": [],
   "source": [
    "def join_generator(number):\n",
    "    \"-\".join(str(n) for n in range(number))\n",
    "\n",
    "def join_comprehension(number):\n",
    "    \"-\".join([str(n) for n in range(number)])\n",
    "    \n",
    "def join_map(number):\n",
    "    \"-\".join(map(str, range(100)))\n",
    "    \n",
    "def concat_str(n):\n",
    "    result = \"\"\n",
    "    for x in range(n-1):\n",
    "        result += str(x) + \"-\"\n",
    "    result += str(n-1)\n",
    "    return result\n",
    "\n",
    "\n",
    "%timeit join_generator(100)\n",
    "%timeit join_comprehension(100)\n",
    "%timeit join_map(100)\n",
    "%timeit concat_str(100)"
   ]
  },
  {
   "cell_type": "markdown",
   "metadata": {
    "nbpresent": {
     "id": "090c6c48-6c1a-4935-a04f-db2ac240f166"
    },
    "slideshow": {
     "slide_type": "slide"
    }
   },
   "source": [
    "## Very large files\n",
    "\n",
    "(Example: based on  product feed -> MongoDB, combining 4 files)\n",
    "* 4 delimited flat files, unsorted\n",
    "  * items - ~2 million rows; sku, description, categories, dimensions, compliance, brand, MPN, etc.\n",
    "  * attributes - 20 million rows; sku, attr_id, attr_name, attr_value\n",
    "  * alternates/accessories - sku, type, alt_sku - 1 million rows\n",
    "  * cross reference - sku, competitor, alt part number - \n",
    "* Add record of any changes"
   ]
  },
  {
   "cell_type": "markdown",
   "metadata": {
    "slideshow": {
     "slide_type": "slide"
    }
   },
   "source": [
    "### Solution\n",
    "1. Sort all files by SKU using Unix sort\n",
    "2. Get existing record from Mongo\n",
    "3. Process all related files for that SKU\n",
    "4. Compare for changes\n",
    "5. Update Mongo if needed"
   ]
  },
  {
   "cell_type": "markdown",
   "metadata": {
    "nbpresent": {
     "id": "855fc1b2-1ef8-4703-88ea-05c8d5a5fb67"
    },
    "slideshow": {
     "slide_type": "slide"
    }
   },
   "source": [
    "### Debugging\n",
    "\n",
    "#### **Use `print` a lot**\n",
    "  * simple\n",
    "  * fast\n",
    "  * “Did the code get here, and what was x when it did?”\n",
    "  * Not so good for edge cases in loops, large structures, etc.\n",
    "  * a bit awkward to clean up afterwards"
   ]
  },
  {
   "cell_type": "markdown",
   "metadata": {
    "nbpresent": {
     "id": "9f76d53b-d0f8-4bfc-af42-a26ebf252826"
    },
    "slideshow": {
     "slide_type": "slide"
    }
   },
   "source": [
    "#### **logging** \n",
    "  * https://docs.python.org/3/howto/logging-cookbook.html, https://docs.python.org/3/howto/logging.html\n",
    "  * useful in production\n",
    "  * configurable levels\n",
    "  * multiple handlers\n",
    "  * file record\n",
    "  * more work to set up\n",
    "  * less clean-up, just set the debug levels\n"
   ]
  },
  {
   "cell_type": "code",
   "execution_count": null,
   "metadata": {
    "slideshow": {
     "slide_type": "slide"
    }
   },
   "outputs": [],
   "source": [
    "import logging\n",
    "\n",
    "# create the logger\n",
    "logger = logging.getLogger(\"my_process\")\n",
    "logger.setLevel(logging.DEBUG)\n",
    "\n",
    "# set up file for debug level messages\n",
    "file_handler = logging.FileHandler(\"process.log\")\n",
    "file_handler.setLevel(logging.DEBUG)\n",
    "logger.addHandler(file_handler)\n",
    "\n",
    "# setup console for errors only\n",
    "console_handler = logging.StreamHandler()\n",
    "console_handler.setLevel(logging.ERROR)\n",
    "logger.addHandler(console_handler)\n",
    "\n",
    "logger.debug(\"This goes only to the file\")\n",
    "logger.error(\"This only goes to the console and the file\")"
   ]
  },
  {
   "cell_type": "code",
   "execution_count": null,
   "metadata": {
    "slideshow": {
     "slide_type": "fragment"
    }
   },
   "outputs": [],
   "source": [
    "print(open('process.log').read())"
   ]
  },
  {
   "cell_type": "markdown",
   "metadata": {
    "nbpresent": {
     "id": "9b164dc6-c050-4577-94a1-008abe094762"
    },
    "slideshow": {
     "slide_type": "slide"
    }
   },
   "source": [
    "#### IDE debugger\n",
    "  * conditional break points\n",
    "  * stepping through a process\n",
    "  * more work and time than print\n",
    "  * IDE debuggers are a bit awkward for large files, etc"
   ]
  },
  {
   "cell_type": "markdown",
   "metadata": {
    "nbpresent": {
     "id": "9b164dc6-c050-4577-94a1-008abe094762"
    },
    "slideshow": {
     "slide_type": "slide"
    }
   },
   "source": [
    "#### Python debugger\n",
    "  * https://docs.python.org/3/library/pdb.html\n",
    "  * good for complex situations\n",
    "  * conditional break points\n",
    "  * stepping through a process\n",
    "  * more work and time than print\n",
    "  * needs some clean-up"
   ]
  },
  {
   "cell_type": "code",
   "execution_count": null,
   "metadata": {
    "nbpresent": {
     "id": "6545282f-ccba-4d6d-9f4e-df39b58cf55a"
    },
    "scrolled": true,
    "slideshow": {
     "slide_type": "subslide"
    }
   },
   "outputs": [],
   "source": [
    "import pdb\n",
    "\n",
    "for x in range(10):\n",
    "    # do various things here... \n",
    "    y = x*x\n",
    "    breakpoint() \n"
   ]
  },
  {
   "cell_type": "markdown",
   "metadata": {
    "nbpresent": {
     "id": "f3318c2a-024f-4294-af42-8062b373c241"
    },
    "slideshow": {
     "slide_type": "slide"
    }
   },
   "source": [
    "## Testing?\n",
    "* Problems with testing over very large data sets\n",
    "* Small sample for sanity check\n",
    "* Loud errors\n",
    "* Be sparing with exceptions\n",
    "\n"
   ]
  }
 ],
 "metadata": {
  "celltoolbar": "Slideshow",
  "kernelspec": {
   "display_name": "Python 3",
   "language": "python",
   "name": "python3"
  },
  "language_info": {
   "codemirror_mode": {
    "name": "ipython",
    "version": 3
   },
   "file_extension": ".py",
   "mimetype": "text/x-python",
   "name": "python",
   "nbconvert_exporter": "python",
   "pygments_lexer": "ipython3",
   "version": "3.6.4"
  },
  "livereveal": {
   "start_slideshow_at": "selected"
  },
  "nbpresent": {
   "slides": {
    "16fa30ee-1d7e-4f43-8365-3994b6ed36a8": {
     "id": "16fa30ee-1d7e-4f43-8365-3994b6ed36a8",
     "prev": "2bb83e06-39b5-4e33-86c6-1dfd5fca6c30",
     "regions": {
      "7a284399-8ba1-44d2-a414-f1f7ed045a81": {
       "attrs": {
        "height": 0.4,
        "width": 0.8,
        "x": 0.1,
        "y": 0.5
       },
       "content": {
        "cell": "9b164dc6-c050-4577-94a1-008abe094762",
        "part": "whole"
       },
       "id": "7a284399-8ba1-44d2-a414-f1f7ed045a81"
      },
      "ae912645-78b0-4103-888a-57c7c053f85a": {
       "attrs": {
        "height": 0.8,
        "width": 0.8,
        "x": 0.1,
        "y": 0.1
       },
       "content": {
        "cell": "9f76d53b-d0f8-4bfc-af42-a26ebf252826",
        "part": "whole"
       },
       "id": "ae912645-78b0-4103-888a-57c7c053f85a"
      },
      "ea333b90-9bec-4680-8f52-5d567d5a5b11": {
       "attrs": {
        "height": 0.4,
        "width": 0.8,
        "x": 0.1,
        "y": 0.5
       },
       "content": {
        "cell": "6545282f-ccba-4d6d-9f4e-df39b58cf55a",
        "part": "whole"
       },
       "id": "ea333b90-9bec-4680-8f52-5d567d5a5b11"
      }
     }
    },
    "1cca9be6-223a-4a5b-9707-c9f192485ab9": {
     "id": "1cca9be6-223a-4a5b-9707-c9f192485ab9",
     "prev": "5956f6ec-fa48-4408-a0d0-b400ebdf7c74",
     "regions": {
      "08bb1fde-08c9-4d9d-87a0-9dfbcf368ceb": {
       "attrs": {
        "height": 0.8,
        "width": 0.8,
        "x": 0.1,
        "y": 0.1
       },
       "content": {
        "cell": "c55fd0b6-61f6-44ef-b90e-254adccefb6b",
        "part": "whole"
       },
       "id": "08bb1fde-08c9-4d9d-87a0-9dfbcf368ceb"
      },
      "1ce204ad-2b0a-4c6e-a192-934945b2f900": {
       "attrs": {
        "height": 0.4,
        "width": 0.8,
        "x": 0.1,
        "y": 0.5
       },
       "content": {
        "cell": "cca27bf6-5f61-46a7-bb21-e5759ea6981d",
        "part": "whole"
       },
       "id": "1ce204ad-2b0a-4c6e-a192-934945b2f900"
      },
      "632b6b63-2b29-475d-90a5-c5bafef46831": {
       "attrs": {
        "height": 0.4,
        "width": 0.8,
        "x": 0.1,
        "y": 0.5
       },
       "content": {
        "cell": "2434938b-ccb3-47f4-a5f3-21ecf43c23f9",
        "part": "whole"
       },
       "id": "632b6b63-2b29-475d-90a5-c5bafef46831"
      }
     }
    },
    "2271af5b-13e3-41ba-bca0-1eabb3d29814": {
     "id": "2271af5b-13e3-41ba-bca0-1eabb3d29814",
     "prev": null,
     "regions": {
      "99631131-5bdc-4fa0-a464-4659b3c109d0": {
       "attrs": {
        "height": 0.8,
        "width": 0.8,
        "x": 0.1,
        "y": 0.1
       },
       "content": {
        "cell": "26b3b9ad-6a1d-474b-8f6c-40acd315151a",
        "part": "whole"
       },
       "id": "99631131-5bdc-4fa0-a464-4659b3c109d0"
      }
     }
    },
    "2b0e9ac9-aade-4454-b430-35240525f60f": {
     "id": "2b0e9ac9-aade-4454-b430-35240525f60f",
     "prev": "fd14396f-871d-4acc-8bc7-0b5318ba394a",
     "regions": {
      "d5dfcaaf-2c1e-4787-92c0-8a147ae14c5d": {
       "attrs": {
        "height": 0.8,
        "width": 0.8,
        "x": 0.1,
        "y": 0.1
       },
       "content": {
        "cell": "ec3c0175-88c7-4162-8236-2b24993de91f",
        "part": "whole"
       },
       "id": "d5dfcaaf-2c1e-4787-92c0-8a147ae14c5d"
      }
     }
    },
    "2bb83e06-39b5-4e33-86c6-1dfd5fca6c30": {
     "id": "2bb83e06-39b5-4e33-86c6-1dfd5fca6c30",
     "prev": "8a36bdbb-f784-456c-9c16-aa88631e0226",
     "regions": {
      "0e7f7b42-07a6-4e4d-b997-2bf0f9af2713": {
       "attrs": {
        "height": 0.8,
        "width": 0.8,
        "x": 0.1,
        "y": 0.1
       },
       "content": {
        "cell": "855fc1b2-1ef8-4703-88ea-05c8d5a5fb67",
        "part": "whole"
       },
       "id": "0e7f7b42-07a6-4e4d-b997-2bf0f9af2713"
      }
     }
    },
    "3713f2d9-f7fb-45ee-b9c7-f54435c791e2": {
     "id": "3713f2d9-f7fb-45ee-b9c7-f54435c791e2",
     "prev": "8abe55f1-aeb9-4f3b-9647-826c3c5c5eb8",
     "regions": {
      "6d213c8a-2e39-4ddc-b318-1377dbf3cebf": {
       "attrs": {
        "height": 0.4,
        "width": 0.8,
        "x": 0.1,
        "y": 0.5
       },
       "content": {
        "cell": "f0f51b1e-32fa-4f49-8f9c-08ae6d1d8594",
        "part": "whole"
       },
       "id": "6d213c8a-2e39-4ddc-b318-1377dbf3cebf"
      },
      "c41ae2cf-4cc5-41c5-899c-c02a0cc41ece": {
       "attrs": {
        "height": 0.8,
        "width": 0.8,
        "x": 0.1,
        "y": 0.1
       },
       "content": {
        "cell": "cbdb2153-4119-4d75-ab38-eb2d96c75126",
        "part": "whole"
       },
       "id": "c41ae2cf-4cc5-41c5-899c-c02a0cc41ece"
      }
     }
    },
    "4711fc1f-0094-4dcf-81f2-cff55054acc3": {
     "id": "4711fc1f-0094-4dcf-81f2-cff55054acc3",
     "prev": "c12efa03-d7cc-4b62-bb40-af27fa139fbb",
     "regions": {
      "aa9fbdef-534e-4087-9184-cdd3b737efa5": {
       "attrs": {
        "height": 0.8,
        "width": 0.8,
        "x": 0.1,
        "y": 0.1
       },
       "content": {
        "cell": "2473fb9f-590d-4776-80a5-efee83edf680",
        "part": "whole"
       },
       "id": "aa9fbdef-534e-4087-9184-cdd3b737efa5"
      }
     }
    },
    "4cab0740-2171-470e-9e99-b5c208a46636": {
     "id": "4cab0740-2171-470e-9e99-b5c208a46636",
     "prev": "2271af5b-13e3-41ba-bca0-1eabb3d29814",
     "regions": {
      "f22d4f46-139f-4f7c-adf8-51a81d8159ae": {
       "attrs": {
        "height": 0.8,
        "width": 0.8,
        "x": 0.1,
        "y": 0.1
       },
       "content": {
        "cell": "57cfcf5b-27d3-4711-b915-6ccfad966136",
        "part": "whole"
       },
       "id": "f22d4f46-139f-4f7c-adf8-51a81d8159ae"
      }
     }
    },
    "4fc2f5c6-f0a7-4acc-a94e-9cf57c7bd2c8": {
     "id": "4fc2f5c6-f0a7-4acc-a94e-9cf57c7bd2c8",
     "prev": "f45f4adf-9269-4537-896d-2a4da0c01289",
     "regions": {
      "18c98fb3-0f95-4f9c-8bf2-00bb5ac3d66b": {
       "attrs": {
        "height": 0.4,
        "width": 0.8,
        "x": 0.1,
        "y": 0.5
       },
       "content": {
        "cell": "c42e83a7-df66-4d2d-a1df-c75e2c1f624e",
        "part": "whole"
       },
       "id": "18c98fb3-0f95-4f9c-8bf2-00bb5ac3d66b"
      },
      "20813141-8324-4d51-b413-db698660150d": {
       "attrs": {
        "height": 0.4,
        "width": 0.8,
        "x": 0.1,
        "y": 0.5
       },
       "content": {
        "cell": "090c6c48-6c1a-4935-a04f-db2ac240f166",
        "part": "whole"
       },
       "id": "20813141-8324-4d51-b413-db698660150d"
      },
      "24536391-3528-43e8-a743-831cb3804038": {
       "attrs": {
        "height": 0.4,
        "width": 0.8,
        "x": 0.1,
        "y": 0.5
       },
       "content": {
        "cell": "ee172c6b-3420-4ffc-b39a-f5272cd4c886",
        "part": "whole"
       },
       "id": "24536391-3528-43e8-a743-831cb3804038"
      },
      "3881f557-46f5-4b46-96d1-2e1ddcb98d4e": {
       "attrs": {
        "height": 0.4,
        "width": 0.8,
        "x": 0.1,
        "y": 0.5
       },
       "content": {
        "cell": "e401e860-8472-4fe9-9627-2c3ca0ff9166",
        "part": "whole"
       },
       "id": "3881f557-46f5-4b46-96d1-2e1ddcb98d4e"
      },
      "3bfeee05-c5a3-4996-89b9-a40618b86628": {
       "attrs": {
        "height": 0.4,
        "width": 0.8,
        "x": 0.1,
        "y": 0.5
       },
       "content": {
        "cell": "7ee12f08-e052-4fd9-bccf-56a8dcb59045",
        "part": "whole"
       },
       "id": "3bfeee05-c5a3-4996-89b9-a40618b86628"
      },
      "53fe6a5f-c6c3-46ae-9190-7374d5691a0c": {
       "attrs": {
        "height": 0.4,
        "width": 0.8,
        "x": 0.1,
        "y": 0.5
       },
       "content": {
        "cell": "9a80d0eb-1430-4077-b413-362fdd14fa37",
        "part": "whole"
       },
       "id": "53fe6a5f-c6c3-46ae-9190-7374d5691a0c"
      },
      "576b8041-2fd3-41fd-af34-fb6efba583ee": {
       "attrs": {
        "height": 0.4,
        "width": 0.8,
        "x": 0.1,
        "y": 0.5
       },
       "content": {
        "cell": "e8e54e66-8897-4837-a1bc-b8919cc3e4af",
        "part": "whole"
       },
       "id": "576b8041-2fd3-41fd-af34-fb6efba583ee"
      },
      "58593b46-d3ca-4262-b83d-f7475d3ebdd6": {
       "attrs": {
        "height": 0.4,
        "width": 0.8,
        "x": 0.1,
        "y": 0.5
       },
       "content": {
        "cell": "b70999ef-371c-47f8-b617-dd5e4fd4b23f",
        "part": "whole"
       },
       "id": "58593b46-d3ca-4262-b83d-f7475d3ebdd6"
      },
      "6221e80e-3348-49e2-8855-117939496fbf": {
       "attrs": {
        "height": 0.4,
        "width": 0.8,
        "x": 0.1,
        "y": 0.5
       },
       "content": {
        "cell": "efd64576-0af8-4206-85b4-deefc6a3332a",
        "part": "whole"
       },
       "id": "6221e80e-3348-49e2-8855-117939496fbf"
      },
      "66297336-7886-44fd-b710-368996df6224": {
       "attrs": {
        "height": 0.4,
        "width": 0.8,
        "x": 0.1,
        "y": 0.5
       },
       "content": {
        "cell": "8a2d3988-8dc4-443e-9e71-75e33809d53b",
        "part": "whole"
       },
       "id": "66297336-7886-44fd-b710-368996df6224"
      },
      "6ff8b1b4-9154-4199-84fa-33f9d968281a": {
       "attrs": {
        "height": 0.4,
        "width": 0.8,
        "x": 0.1,
        "y": 0.5
       },
       "content": {
        "cell": "8e4a498c-06d0-4faa-9f67-34d9500963a2",
        "part": "whole"
       },
       "id": "6ff8b1b4-9154-4199-84fa-33f9d968281a"
      },
      "83c98357-157e-4a1f-a76f-d0b396306d4f": {
       "attrs": {
        "height": 0.4,
        "width": 0.8,
        "x": 0.1,
        "y": 0.5
       },
       "content": {
        "cell": "95a06dd6-07a2-423a-929c-aa1b046c1b11",
        "part": "whole"
       },
       "id": "83c98357-157e-4a1f-a76f-d0b396306d4f"
      },
      "89109a43-a125-4b4e-b8e8-71cabc620fa0": {
       "attrs": {
        "height": 0.4,
        "width": 0.8,
        "x": 0.1,
        "y": 0.5
       },
       "content": {
        "cell": "f3c1746e-4236-45e4-9849-55133d08c7e3",
        "part": "whole"
       },
       "id": "89109a43-a125-4b4e-b8e8-71cabc620fa0"
      },
      "8a4b5f61-77a1-4a39-85d1-5e4135bff9b6": {
       "attrs": {
        "height": 0.8,
        "width": 0.8,
        "x": 0.1,
        "y": 0.1
       },
       "content": {
        "cell": "256f1747-2548-47b6-97e2-051d435a0f53",
        "part": "whole"
       },
       "id": "8a4b5f61-77a1-4a39-85d1-5e4135bff9b6"
      },
      "98659134-0c83-4e95-b77e-cc88510a3d5f": {
       "attrs": {
        "height": 0.4,
        "width": 0.8,
        "x": 0.1,
        "y": 0.5
       },
       "content": {
        "cell": "1f2dceeb-f08f-4894-8433-260956e571f2",
        "part": "whole"
       },
       "id": "98659134-0c83-4e95-b77e-cc88510a3d5f"
      },
      "c24d551b-1015-4985-ba39-09a0486542cd": {
       "attrs": {
        "height": 0.4,
        "width": 0.8,
        "x": 0.1,
        "y": 0.5
       },
       "content": {
        "cell": "a50f85b8-a51a-4555-802d-0d0822a59ad3",
        "part": "whole"
       },
       "id": "c24d551b-1015-4985-ba39-09a0486542cd"
      },
      "c2f27365-353d-4f5c-917b-c1d2a020083b": {
       "attrs": {
        "height": 0.4,
        "width": 0.8,
        "x": 0.1,
        "y": 0.5
       },
       "content": {
        "cell": "f3318c2a-024f-4294-af42-8062b373c241",
        "part": "whole"
       },
       "id": "c2f27365-353d-4f5c-917b-c1d2a020083b"
      },
      "d5067ccb-aea2-4f92-9e26-330dd4feb846": {
       "attrs": {
        "height": 0.4,
        "width": 0.8,
        "x": 0.1,
        "y": 0.5
       },
       "content": {
        "cell": "ca54d50c-3369-4261-bfcf-74f61538303e",
        "part": "whole"
       },
       "id": "d5067ccb-aea2-4f92-9e26-330dd4feb846"
      },
      "d63be773-c8c2-49d4-a849-3494dffc8fff": {
       "attrs": {
        "height": 0.4,
        "width": 0.8,
        "x": 0.1,
        "y": 0.5
       },
       "content": {
        "cell": "1cefab28-c321-423f-bbc3-8bc4018fb849",
        "part": "whole"
       },
       "id": "d63be773-c8c2-49d4-a849-3494dffc8fff"
      },
      "dca4e698-a1a3-44fb-915a-3a83cf836c45": {
       "attrs": {
        "height": 0.4,
        "width": 0.8,
        "x": 0.1,
        "y": 0.5
       },
       "content": {
        "cell": "a58156c7-8378-42b9-b05f-edc02674c066",
        "part": "whole"
       },
       "id": "dca4e698-a1a3-44fb-915a-3a83cf836c45"
      },
      "fcf73e01-ac73-49f3-88b5-8d2d9bd619b0": {
       "attrs": {
        "height": 0.4,
        "width": 0.8,
        "x": 0.1,
        "y": 0.5
       },
       "content": {
        "cell": "31e0a3fe-eedb-4467-8a34-a573daccc81f",
        "part": "whole"
       },
       "id": "fcf73e01-ac73-49f3-88b5-8d2d9bd619b0"
      },
      "fd16cd8d-0994-4db4-9703-7cf3383db640": {
       "attrs": {
        "height": 0.4,
        "width": 0.8,
        "x": 0.1,
        "y": 0.5
       },
       "content": {
        "cell": "191ab12e-9042-48dd-88b5-786615ea198d",
        "part": "whole"
       },
       "id": "fd16cd8d-0994-4db4-9703-7cf3383db640"
      }
     }
    },
    "5956f6ec-fa48-4408-a0d0-b400ebdf7c74": {
     "id": "5956f6ec-fa48-4408-a0d0-b400ebdf7c74",
     "prev": "81c6a365-dba6-437b-998a-acfa38fa7eb2",
     "regions": {
      "40efe847-64ac-41df-957b-01a13f8b9963": {
       "attrs": {
        "height": 0.8,
        "width": 0.8,
        "x": 0.1,
        "y": 0.1
       },
       "content": {
        "cell": "d52073c0-a871-4bed-aab5-77f0514d8031",
        "part": "whole"
       },
       "id": "40efe847-64ac-41df-957b-01a13f8b9963"
      },
      "d8b22093-e9b2-482b-a452-988b71602f7c": {
       "attrs": {
        "height": 0.4,
        "width": 0.8,
        "x": 0.1,
        "y": 0.5
       },
       "content": {
        "cell": "d89f0121-0c7c-4b75-8807-b4707ae468f0",
        "part": "whole"
       },
       "id": "d8b22093-e9b2-482b-a452-988b71602f7c"
      }
     }
    },
    "81c6a365-dba6-437b-998a-acfa38fa7eb2": {
     "id": "81c6a365-dba6-437b-998a-acfa38fa7eb2",
     "prev": "4cab0740-2171-470e-9e99-b5c208a46636",
     "regions": {
      "d9b320a4-9290-452a-988a-ad49c7ab9d69": {
       "attrs": {
        "height": 0.8,
        "width": 0.8,
        "x": 0.1,
        "y": 0.1
       },
       "content": {
        "cell": "44b6aa0a-4f02-42b2-8aa1-40370671ff15",
        "part": "whole"
       },
       "id": "d9b320a4-9290-452a-988a-ad49c7ab9d69"
      }
     }
    },
    "822a9439-4fd8-43b4-8faa-7fd7a4889424": {
     "id": "822a9439-4fd8-43b4-8faa-7fd7a4889424",
     "prev": "f094fd9f-677b-461e-a9f4-c1514c4974e9",
     "regions": {
      "95d4e86b-51d8-4d43-9ea9-92d76ce78d3b": {
       "attrs": {
        "height": 0.8,
        "width": 0.8,
        "x": 0.1,
        "y": 0.1
       },
       "content": {
        "cell": "adecdecf-3fae-4cbe-924a-f771e1472170",
        "part": "whole"
       },
       "id": "95d4e86b-51d8-4d43-9ea9-92d76ce78d3b"
      }
     }
    },
    "8a36bdbb-f784-456c-9c16-aa88631e0226": {
     "id": "8a36bdbb-f784-456c-9c16-aa88631e0226",
     "prev": "822a9439-4fd8-43b4-8faa-7fd7a4889424",
     "regions": {
      "ceb58d0c-5256-4b9f-b2ca-82ea6ca3dfb3": {
       "attrs": {
        "height": 0.8,
        "width": 0.8,
        "x": 0.1,
        "y": 0.1
       },
       "content": {
        "cell": "ea818d06-7843-49d1-8f41-c72400fcb45c",
        "part": "whole"
       },
       "id": "ceb58d0c-5256-4b9f-b2ca-82ea6ca3dfb3"
      }
     }
    },
    "8abe55f1-aeb9-4f3b-9647-826c3c5c5eb8": {
     "id": "8abe55f1-aeb9-4f3b-9647-826c3c5c5eb8",
     "prev": "16fa30ee-1d7e-4f43-8365-3994b6ed36a8",
     "regions": {
      "5883ca9e-a41e-4a67-a30e-41f04e672f09": {
       "attrs": {
        "height": 0.4,
        "width": 0.8,
        "x": 0.1,
        "y": 0.5
       },
       "content": {
        "cell": "7e7e0d3c-2a00-4e2d-8981-ace7238f0b97",
        "part": "whole"
       },
       "id": "5883ca9e-a41e-4a67-a30e-41f04e672f09"
      },
      "c0a83654-bc17-4e8c-96e3-858c8d695561": {
       "attrs": {
        "height": 0.8,
        "width": 0.8,
        "x": 0.1,
        "y": 0.1
       },
       "content": {
        "cell": "7dd1ca3f-a372-4072-9857-94ddbbc9ae03",
        "part": "whole"
       },
       "id": "c0a83654-bc17-4e8c-96e3-858c8d695561"
      }
     }
    },
    "aeb6875a-4ea0-45ab-abdb-2cf4daf7ad9a": {
     "id": "aeb6875a-4ea0-45ab-abdb-2cf4daf7ad9a",
     "prev": "3713f2d9-f7fb-45ee-b9c7-f54435c791e2",
     "regions": {
      "da27c6dc-1026-4e8e-8d22-fb3dea23b0e7": {
       "attrs": {
        "height": 0.8,
        "width": 0.8,
        "x": 0.1,
        "y": 0.1
       },
       "content": {
        "cell": "db66e259-97ad-42ef-a9d4-7edb1f40ab9d",
        "part": "whole"
       },
       "id": "da27c6dc-1026-4e8e-8d22-fb3dea23b0e7"
      }
     }
    },
    "b72164a6-d71e-401c-8802-bddaad80f904": {
     "id": "b72164a6-d71e-401c-8802-bddaad80f904",
     "prev": "2b0e9ac9-aade-4454-b430-35240525f60f",
     "regions": {
      "ae7f55d3-977b-4869-b73b-adcde2189c7c": {
       "attrs": {
        "height": 0.8,
        "width": 0.8,
        "x": 0.1,
        "y": 0.1
       },
       "content": {
        "cell": "0b906ef0-cb14-4024-b76c-57cc10b7c6ec",
        "part": "whole"
       },
       "id": "ae7f55d3-977b-4869-b73b-adcde2189c7c"
      }
     }
    },
    "c12efa03-d7cc-4b62-bb40-af27fa139fbb": {
     "id": "c12efa03-d7cc-4b62-bb40-af27fa139fbb",
     "prev": "b72164a6-d71e-401c-8802-bddaad80f904",
     "regions": {
      "e64b9133-8ec2-47c9-b6dd-d5ca31620485": {
       "attrs": {
        "height": 0.8,
        "width": 0.8,
        "x": 0.1,
        "y": 0.1
       },
       "content": {
        "cell": "142cbc80-7592-4584-bebe-b56b5767fa9f",
        "part": "whole"
       },
       "id": "e64b9133-8ec2-47c9-b6dd-d5ca31620485"
      }
     }
    },
    "dc8bd225-4da4-4a36-888a-63345625cfac": {
     "id": "dc8bd225-4da4-4a36-888a-63345625cfac",
     "prev": "e4b6904d-f2df-4928-bed7-38d942ebf43d",
     "regions": {
      "58717af3-8936-4361-b91a-f08fe4ac5b9f": {
       "attrs": {
        "height": 0.8,
        "width": 0.8,
        "x": 0.1,
        "y": 0.1
       },
       "content": {
        "cell": "caba240f-096b-4ab7-8695-ffd9ab9587d8",
        "part": "whole"
       },
       "id": "58717af3-8936-4361-b91a-f08fe4ac5b9f"
      }
     }
    },
    "dd65f256-4375-428d-8c7c-1336ffa82e51": {
     "id": "dd65f256-4375-428d-8c7c-1336ffa82e51",
     "prev": "f8f80794-864a-4440-9310-50b7d4ff2a38",
     "regions": {
      "52383c01-8be2-48a9-bf0c-d9e4ffbd5b02": {
       "attrs": {
        "height": 0.8,
        "width": 0.8,
        "x": 0.1,
        "y": 0.1
       },
       "content": {
        "cell": "8d8c0abd-8dee-47c3-91be-b8c1d712a6a0",
        "part": "whole"
       },
       "id": "52383c01-8be2-48a9-bf0c-d9e4ffbd5b02"
      }
     }
    },
    "e4b6904d-f2df-4928-bed7-38d942ebf43d": {
     "id": "e4b6904d-f2df-4928-bed7-38d942ebf43d",
     "prev": "f2e7b630-0d95-407c-8e98-744d36c56952",
     "regions": {
      "be607cc3-f26d-4610-84f6-0e279a1bc4ac": {
       "attrs": {
        "height": 0.8,
        "width": 0.8,
        "x": 0.1,
        "y": 0.1
       },
       "content": {
        "cell": "7638f572-4bae-4b96-adb0-1fae64570d7e",
        "part": "whole"
       },
       "id": "be607cc3-f26d-4610-84f6-0e279a1bc4ac"
      }
     }
    },
    "f094fd9f-677b-461e-a9f4-c1514c4974e9": {
     "id": "f094fd9f-677b-461e-a9f4-c1514c4974e9",
     "prev": "dc8bd225-4da4-4a36-888a-63345625cfac",
     "regions": {
      "8fab4ad5-5396-4f4d-8af7-f1879b6b8e1e": {
       "attrs": {
        "height": 0.8,
        "width": 0.8,
        "x": 0.1,
        "y": 0.1
       },
       "content": {
        "cell": "b87321af-d1fb-4087-b1c1-3416ddc3e825",
        "part": "whole"
       },
       "id": "8fab4ad5-5396-4f4d-8af7-f1879b6b8e1e"
      }
     }
    },
    "f2e7b630-0d95-407c-8e98-744d36c56952": {
     "id": "f2e7b630-0d95-407c-8e98-744d36c56952",
     "prev": "1cca9be6-223a-4a5b-9707-c9f192485ab9",
     "regions": {
      "a4dfda0d-382a-4bf1-9f84-2c8b34387f8e": {
       "attrs": {
        "height": 0.8,
        "width": 0.8,
        "x": 0.1,
        "y": 0.1
       },
       "content": {
        "cell": "7c0509c4-3df6-4249-87d6-8b033b3657ee",
        "part": "whole"
       },
       "id": "a4dfda0d-382a-4bf1-9f84-2c8b34387f8e"
      },
      "a57128af-9b92-4741-b61f-cc4cdae5b36b": {
       "attrs": {
        "height": 0.4,
        "width": 0.8,
        "x": 0.1,
        "y": 0.5
       },
       "content": {
        "cell": "dedbb0df-23b8-429b-aa79-a5ddbac3a40c",
        "part": "whole"
       },
       "id": "a57128af-9b92-4741-b61f-cc4cdae5b36b"
      },
      "ab48348e-6ba8-4a9d-982b-fc757779c7ee": {
       "attrs": {
        "height": 0.4,
        "width": 0.8,
        "x": 0.1,
        "y": 0.5
       },
       "content": {
        "cell": "3d29f057-eb27-41a6-902d-78c33d4769f7",
        "part": "whole"
       },
       "id": "ab48348e-6ba8-4a9d-982b-fc757779c7ee"
      }
     }
    },
    "f45f4adf-9269-4537-896d-2a4da0c01289": {
     "id": "f45f4adf-9269-4537-896d-2a4da0c01289",
     "prev": "aeb6875a-4ea0-45ab-abdb-2cf4daf7ad9a",
     "regions": {
      "81efb807-e109-45e8-9ddf-30eb49c89e24": {
       "attrs": {
        "height": 0.8,
        "width": 0.8,
        "x": 0.1,
        "y": 0.1
       },
       "content": {
        "cell": "14ff4504-1e30-4a47-8d6d-b514a9eb6869",
        "part": "whole"
       },
       "id": "81efb807-e109-45e8-9ddf-30eb49c89e24"
      }
     }
    },
    "f8f80794-864a-4440-9310-50b7d4ff2a38": {
     "id": "f8f80794-864a-4440-9310-50b7d4ff2a38",
     "prev": "4fc2f5c6-f0a7-4acc-a94e-9cf57c7bd2c8",
     "regions": {
      "dfb2e548-c607-4ae8-8f1e-e0ebc696986d": {
       "attrs": {
        "height": 0.8,
        "width": 0.8,
        "x": 0.1,
        "y": 0.1
       },
       "content": {
        "cell": "92b85c3a-29de-4cd2-ad18-a218b0e718b6",
        "part": "whole"
       },
       "id": "dfb2e548-c607-4ae8-8f1e-e0ebc696986d"
      }
     }
    },
    "fd14396f-871d-4acc-8bc7-0b5318ba394a": {
     "id": "fd14396f-871d-4acc-8bc7-0b5318ba394a",
     "prev": "dd65f256-4375-428d-8c7c-1336ffa82e51",
     "regions": {
      "1bc58dd5-cb9c-49ec-8d63-2ff111a76e29": {
       "attrs": {
        "height": 0.8,
        "width": 0.8,
        "x": 0.1,
        "y": 0.1
       },
       "content": {
        "cell": "ac78d922-891e-4e49-af30-9690c44456a0",
        "part": "whole"
       },
       "id": "1bc58dd5-cb9c-49ec-8d63-2ff111a76e29"
      }
     }
    }
   },
   "themes": {}
  },
  "toc": {
   "nav_menu": {},
   "number_sections": false,
   "sideBar": true,
   "skip_h1_title": false,
   "toc_cell": false,
   "toc_position": {},
   "toc_section_display": "block",
   "toc_window_display": false
  }
 },
 "nbformat": 4,
 "nbformat_minor": 2
}
