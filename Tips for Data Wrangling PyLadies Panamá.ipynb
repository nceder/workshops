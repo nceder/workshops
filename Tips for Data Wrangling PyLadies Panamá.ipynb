{
 "cells": [
  {
   "cell_type": "markdown",
   "metadata": {
    "collapsed": true,
    "nbpresent": {
     "id": "26b3b9ad-6a1d-474b-8f6c-40acd315151a"
    },
    "slideshow": {
     "slide_type": "slide"
    }
   },
   "source": [
    "# Consejos para data wrangling con Python  \n",
    "\n",
    "\n",
    "**Naomi Ceder, @naomiceder**\n",
    "\n",
    "- **Ex-Presidenta de la Python Software Foundation**\n",
    "- **La autora del Quick Python Book, 3rd ed**\n",
    "- **Dick Blick Art Materials**\n",
    "\n",
    "**Este Jupyter notebook está disponible en Github - https://github.com/nceder/workshops**"
   ]
  },
  {
   "cell_type": "markdown",
   "metadata": {
    "lang": "en",
    "slideshow": {
     "slide_type": "notes"
    }
   },
   "source": [
    "Hola, soy Naomi. He escribiendo Python desde hace 20 años cuando aprendí el lenguaje en un taller dado por Guido, el creador de Python. Soy la autora del Quick Python Book, y la ex-presidenta de la junta directiva de la Python Software Foundation.\n",
    "\n",
    "Me da mucho orgullo y alegría estar en evento como este, en los inicios de una comunidad. Les espero todo éxito tanto con este evento como en el futuro. \n",
    "\n",
    "Por cierto esta cuaderno está disponible en Github en este enlace. "
   ]
  },
  {
   "cell_type": "markdown",
   "metadata": {
    "slideshow": {
     "slide_type": "slide"
    }
   },
   "source": [
    "## El enfoque de esta charla\n",
    "\n",
    "* Consejos generales\n",
    "* trabajar con varios ejemplos simples\n",
    "* usar las herramientas más básicas\n",
    "* compartir mi experiencia\n",
    "\n",
    "No va a ser prescriptivo ni un \"cookbook\"\n"
   ]
  },
  {
   "cell_type": "markdown",
   "metadata": {
    "slideshow": {
     "slide_type": "notes"
    }
   },
   "source": [
    "No tenemos suficiente tiempo hacer todo, pero espero que podamos hablar sobre algunos aspectos de la ingeniería de datos. \n",
    "\n",
    "Voy comenzar con un poco sobre los retos de manejar los datas y unos consejos generales y ejemplos de ellos."
   ]
  },
  {
   "cell_type": "markdown",
   "metadata": {
    "slideshow": {
     "slide_type": "slide"
    }
   },
   "source": [
    "## La explosión de datos\n",
    "\n",
    "Durante los últimos dos décadas hemos vivido una explosión de datos (y los datos seguirán creciendo). \n",
    "* 2016 - 18 ZB\n",
    "* 2021 - 79 ZB\n",
    "\n",
    "![Amount of data stored](data_stored.png \"Amount of data stored\")"
   ]
  },
  {
   "cell_type": "markdown",
   "metadata": {
    "slideshow": {
     "slide_type": "slide"
    }
   },
   "source": [
    "En 2016 tuvimos 18 ZB de datos guardados en el mundo... este año vamos guardar casi cien ZB de datos. Y los datos siguen creciendo... "
   ]
  },
  {
   "cell_type": "markdown",
   "metadata": {
    "slideshow": {
     "slide_type": "slide"
    }
   },
   "source": [
    "### Y de esos datos... \n",
    "\n",
    "* la mayoría (80-90%) no tiene ninguna estructura - texto, log files, streams, etc\n",
    "* la mayoría (90%) no es \"original\" - copías, versiones modificadas, limpiadas, etc\n",
    "* solo una parte muy pequeña  (0.5% en 2012) se ha analizado/usado "
   ]
  },
  {
   "cell_type": "markdown",
   "metadata": {
    "slideshow": {
     "slide_type": "slide"
    }
   },
   "source": [
    "Es interestante que no usamos ni un por ciento de este montón creciendo de datos sino sí los copíamos y creamos versiones modificadas. "
   ]
  },
  {
   "cell_type": "markdown",
   "metadata": {
    "slideshow": {
     "slide_type": "slide"
    }
   },
   "source": [
    "### El trabajo en la ciencia/ingeniería de datos es manejar estos datos: \n",
    "* transportarlos\n",
    "* limpiarlos\n",
    "* transformarlos"
   ]
  },
  {
   "cell_type": "markdown",
   "metadata": {
    "slideshow": {
     "slide_type": "notes"
    }
   },
   "source": [
    "En inglés se llama este proceso muchas vezes \"data wrangling\".\n",
    "\n",
    "La palabra \"wranging\" viene de los cowboys del oeste de los EE.UU. con el sentido de manejar, empujar, dirigir o llevar las vacas, los caballos, lo que sea.  \n",
    "\n",
    "Yo crecí en un estado rural con mucho ganado y una tradición de cowboys y esto tiene sentido para mi. Con los wranglers del ganado muy pocos cowboys debían manejar muchas vacas y las vacas no querían cooperar. \n",
    "\n",
    "\n",
    "Entonces, el enfoque de esta charla es hablar un poco sobre un par de conceptos fundamentales para data wrangling. "
   ]
  },
  {
   "cell_type": "markdown",
   "metadata": {
    "slideshow": {
     "slide_type": "slide"
    }
   },
   "source": [
    "## Muchos datos pero recursos limitados\n",
    "\n"
   ]
  },
  {
   "cell_type": "markdown",
   "metadata": {
    "slideshow": {
     "slide_type": "slide"
    }
   },
   "source": [
    "Tenemos que equilibrar nuestros recursos para manejar los datos que siguen creciendo"
   ]
  },
  {
   "cell_type": "markdown",
   "metadata": {
    "slideshow": {
     "slide_type": "slide"
    }
   },
   "source": [
    "### Cuales son estos recursos?\n",
    "\n",
    "### Velocidad/tiempo\n",
    "\n",
    "* tiempo - con suficiente tiempo por supuesto podremos hacer cualquier cosa... pero casi nunca tenemos suficiente tiempo.\n",
    "\n",
    "* potencia/velocidad de procesador/número de procesadores\n",
    "    * con un procesador más rápido, necesitamos menos tiempo \n",
    "    * procesadores múltiples - muy comunes hoy en día, pero en Python... "
   ]
  },
  {
   "cell_type": "markdown",
   "metadata": {
    "slideshow": {
     "slide_type": "notes"
    }
   },
   "source": [
    "velocidad = número de ciclos del procedador por un período de tiempo\n",
    "\n",
    "menos velocidad = más tiempo"
   ]
  },
  {
   "cell_type": "markdown",
   "metadata": {
    "slideshow": {
     "slide_type": "slide"
    }
   },
   "source": [
    "### Almacenamiento - memoria/disco\n",
    "\n",
    "* memoria (RAM)\n",
    "  * más rápido que disco, pero limitada... los datos crecen más rápido que la memoria\n",
    "  * no tendremos suficiente memoria... nunca.\n",
    "* disco (y cloud storage)\n",
    "  * sí es probable que tenemos suficiente disco, pero es muy lento. \n",
    "  * leer y escribir al disco es lo más lento que podemos hacer. "
   ]
  },
  {
   "cell_type": "markdown",
   "metadata": {
    "slideshow": {
     "slide_type": "slide"
    }
   },
   "source": [
    "Tanto memoria como disco son formas de almacenamiento, pero con un relación interesante - memoría siempre ha sido más rápido, pero más caro y escaso... mientras discos tienen espacio casi ilimitado pero son más lentos. \n",
    "\n",
    "Usualmente no podemos usar solo memoria... entonces tenemos que equilibrar los dos en la manera más eficiente."
   ]
  },
  {
   "cell_type": "markdown",
   "metadata": {
    "slideshow": {
     "slide_type": "slide"
    }
   },
   "source": [
    "## Entender/resolver los problemas\n",
    "* herramientas de nivel bajo son más adecuadas \n",
    "  * cuando las cosas salen mal\n",
    "  * para rendimiento y confiabilidad en los procesos de producción \n",
    "* herramientas de nivel alto son adecuadas para la exploración, y proof of concept\n"
   ]
  },
  {
   "cell_type": "markdown",
   "metadata": {
    "slideshow": {
     "slide_type": "notes"
    }
   },
   "source": [
    "El segundo concepto es usar y entender el nivel adecuado de las herramientas \n",
    "\n",
    "Si una herramienta es conveniente y fácil de usar, existe un impulso de usarla para todo. Creo que eso es el caso con pandas. Por supuesto pandas es una excelente herramienta, pero no es adecuado para muchas situaciones. \n"
   ]
  },
  {
   "cell_type": "markdown",
   "metadata": {
    "lang": "en",
    "slideshow": {
     "slide_type": "slide"
    }
   },
   "source": [
    "## Los consejos generales\n",
    "* Ordena los datos antes de procesarlos\n",
    "* Usa conjuntos (sets) \n",
    "    * uniqueness\n",
    "    * membership - si un elemento está `in` una colección de datos\n",
    "    * las `keys()` de un diccionario son un conjunto"
   ]
  },
  {
   "cell_type": "markdown",
   "metadata": {
    "slideshow": {
     "slide_type": "notes"
    }
   },
   "source": [
    "Aquí estan algunos consejos generales\n",
    "\n",
    "* muchas veces será más rápido ordenar los datos antes de procesarlos (si hay que buscar o tener elementos en orden\n",
    "\n",
    "* Conjuntos (sets) son muy ütiles - son los más rápidos para determinar membresía con`in` y asegurar que los elementos son singulares (y las `keys()` de un diccionario tambien forman un conjunto."
   ]
  },
  {
   "cell_type": "markdown",
   "metadata": {
    "lang": "en",
    "slideshow": {
     "slide_type": "slide"
    }
   },
   "source": [
    "## Los consejos generales, 2\n",
    "* Usa diccionarios para relacionar elementos de archivos distintos\n",
    "* Usa comprensiones de lista y diccionarios para rendimiento\n",
    "* Usa expresiones generadores para ahorrar memoria\n",
    "* Evite leer y escribir al disco\n",
    "* Usa linux/unix herramientas- e.g. `sort`, `grep`"
   ]
  },
  {
   "cell_type": "markdown",
   "metadata": {
    "slideshow": {
     "slide_type": "notes"
    }
   },
   "source": [
    "a continuación\n",
    "\n",
    "* diccionarios son poderosos y super-útiles, e.g. para relacionar o combinar archivos (o datasets) con un campo común. \n",
    "\n",
    "* para filtrar datos comprensiones son eficientes y rápidas pero usan memoria... \n",
    "\n",
    "* pero la expresiones generadores hacen lo mismo, pero más despacio y con poca memoria. \n",
    "\n",
    "* si tenemos que usar un disco, leer y espcialmente escribir al disco es lo más lento. Es mejor usar un poco de memoria como caché y reducir el acceso al disco. \n",
    "\n",
    "* a veces herramientas unix pueden ser más eficientes que Python"
   ]
  },
  {
   "cell_type": "markdown",
   "metadata": {
    "slideshow": {
     "slide_type": "slide"
    }
   },
   "source": [
    "### Usa conjuntos (sets)\n",
    "* buscar en un conjunto requiere solo una operación\n",
    "* es más rápido convertir una lista en un conjunto antes de buscar \n",
    "* (pero sí, eso usaría más memoria)"
   ]
  },
  {
   "cell_type": "markdown",
   "metadata": {
    "slideshow": {
     "slide_type": "notes"
    }
   },
   "source": [
    "para buscar un elemento en una lista, hay que empezar al inicio y examinar todos los elementos en orden hasta que encuentres el elemento... o el fin de la lista. \n",
    "\n",
    "para buscar un elemento en un conjunto requiere solo una operación.\n",
    "\n",
    "entonces es más rápido convertir una lista en un conjunto y buscar, (pero usaría más memoria)"
   ]
  },
  {
   "cell_type": "code",
   "execution_count": 38,
   "metadata": {
    "scrolled": true,
    "slideshow": {
     "slide_type": "slide"
    }
   },
   "outputs": [],
   "source": [
    "# sets vs. lists\n",
    "\n",
    "numbers = list(range(100000))\n",
    "#numbers_set = set(numbers)\n",
    "\n",
    "\n",
    "def find_list(target, numbers):\n",
    "    return (\n",
    "        target in numbers\n",
    "        and target - 1 in numbers\n",
    "        and target - 2 in numbers\n",
    "        and target - 3 in numbers\n",
    "    )\n",
    "\n",
    "def find_set(target, numbers):\n",
    "    # convert numbers to a set! \n",
    "    numbers_set = set(numbers)\n",
    "    return (\n",
    "        target in numbers_set\n",
    "        and target - 1 in numbers_set\n",
    "        and target - 2 in numbers_set\n",
    "        and target - 3 in numbers_set\n",
    "    )"
   ]
  },
  {
   "cell_type": "markdown",
   "metadata": {
    "slideshow": {
     "slide_type": "notes"
    }
   },
   "source": [
    "A ver un ejemplo sobre lo de conjuntos... vamos a usar la magia timeit de jupyter para ver la manera mas rápida de buscar 4 números en una lista de 100,000 elementos."
   ]
  },
  {
   "cell_type": "code",
   "execution_count": 44,
   "metadata": {
    "scrolled": true,
    "slideshow": {
     "slide_type": "slide"
    }
   },
   "outputs": [
    {
     "name": "stdout",
     "output_type": "stream",
     "text": [
      "3.49 ms ± 361 µs per loop (mean ± std. dev. of 7 runs, 100 loops each)\n",
      "2.06 ms ± 91.1 µs per loop (mean ± std. dev. of 7 runs, 100 loops each)\n"
     ]
    }
   ],
   "source": [
    "%timeit find_list(99999, numbers)\n",
    "\n",
    "%timeit find_set(99999, numbers)"
   ]
  },
  {
   "cell_type": "markdown",
   "metadata": {
    "slideshow": {
     "slide_type": "slide"
    }
   },
   "source": [
    "No tenemos suficiente tiempo hacer todo, pero espero que podamos hablar sobre algunos aspectos de la ingeniería de datos. \n",
    "\n",
    "Voy comenzar con unos consejos generales y "
   ]
  },
  {
   "cell_type": "code",
   "execution_count": 19,
   "metadata": {
    "slideshow": {
     "slide_type": "skip"
    }
   },
   "outputs": [],
   "source": [
    "import random\n",
    "\n",
    "descriptions = [\"Super\", \"Premium\", \"Student\", \"Economy\", \"Budget\", \"Deluxe\"]\n",
    "item_names = [\"Widget\", \"Gizmo\", \"Whatsit\", \"Device\", \"Gadget\"]\n",
    "sizes = [\"Mini\", \"Micro\", \"Giant\", \"Extra Large\", \"Large\"]\n",
    "packs = [\"single\", \"10-Pack\", \"1000-pack\", \"Dozen\"]\n",
    "colors = [\"Red\", \"Green\", \"Yellow\", \"Blue\", \"Orange\", \"Purple\", \"White\", \"Black\"]\n",
    "\n",
    "\"\"\"item: sku, desc, category, info\n",
    "attributes: sku, attr_id, attr_name, attr_value\n",
    "accessories: sku, type, alt_sku\n",
    "competitor: sku, competitor, competitor part number\"\"\"\n",
    "sku_set = {}\n",
    "\n",
    "\n",
    "def make_sku(comp=False):\n",
    "    sku = \"\"\n",
    "    if comp:\n",
    "        sku += random.choice(\"ABCDEFGHJKLMPQRSTUVXYZ\")\n",
    "        sku += random.choice(\"ABCDEFGHJKLMPQRSTUVXYZ\")\n",
    "    for x in range(2):\n",
    "        sku += str(random.randrange(10))\n",
    "    if not comp:\n",
    "        sku += random.choice(\"ABCDEFGHJKLMPQRSTUVXYZ\")\n",
    "    for x in range(2):\n",
    "        sku += str(random.randrange(10))\n",
    "    return sku\n",
    "\n",
    "def make_data():\n",
    "    sku = make_sku()\n",
    "    description = f\"{random.choice(descriptions)} {random.choice(item_names)}\"\n",
    "    cost = f\"${round(random.random()*10000, 2):,}\"\n",
    "    size = random.choice(sizes) \n",
    "    pack = random.choice(packs)\n",
    "    sku_list = [sku, description, cost]\n",
    "    attrs = [[sku, 10001, \"color\", random.choice(colors)]]\n",
    "    attrs += [[sku, 10002, \"size\", random.choice(sizes)]]\n",
    "    attrs += [[sku, 10003, \"package\", random.choice(packs)]]\n",
    "    accessory = [sku, random.choice([\"Accessory\", \"Alternate Item\"]), make_sku()]\n",
    "    comp_data = [sku, f\"Competitor-{random.choice('ABCDEF')}\", make_sku(True)]\n",
    "    return sku_list, attrs, accessory, comp_data\n",
    "\n",
    "\n",
    "num_skus = 3\n",
    "items = []\n",
    "attributes = []\n",
    "accessories = []\n",
    "competitor = []\n",
    "\n",
    "\n",
    "for x in range(num_skus):\n",
    "    item, attribute, accessorie, comp = make_data()\n",
    "    items.append(item)\n",
    "    attributes.extend(attribute)\n",
    "    accessories.append(accessorie)\n",
    "    competitor.append(comp)\n",
    "random.shuffle(attributes)\n",
    "random.shuffle(accessories)\n",
    "random.shuffle(competitor)"
   ]
  },
  {
   "cell_type": "markdown",
   "metadata": {
    "lang": "en",
    "nbpresent": {
     "id": "090c6c48-6c1a-4935-a04f-db2ac240f166"
    },
    "slideshow": {
     "slide_type": "slide"
    }
   },
   "source": [
    "## Combinar archivos\n",
    "\n",
    "Ejemplo de mi vida: usando un \"feed\" de productos -> MongoDB, hay que combinar 4 archivos\n",
    "* 4 archivos delimitados con barras, no ordenados\n",
    "  * items -  sku, description, cost\n",
    "  * attributes - sku, attr_id, attr_name, attr_value\n",
    "  * alternates/accessories - sku, type, alt_sku \n",
    "  * cross reference - sku, competitor, competitor part number\n"
   ]
  },
  {
   "cell_type": "code",
   "execution_count": 21,
   "metadata": {
    "scrolled": true,
    "slideshow": {
     "slide_type": "skip"
    }
   },
   "outputs": [
    {
     "name": "stdout",
     "output_type": "stream",
     "text": [
      "Items\n",
      "07Q02|Premium Whatsit|$4,600.25\n",
      "64K81|Super Widget|$2,066.81\n",
      "24V80|Deluxe Widget|$2,704.29\n",
      "\n",
      "Attributes\n",
      "07Q02|10003|package|10-Pack\n",
      "24V80|10003|package|1000-pack\n",
      "24V80|10002|size|Extra Large\n",
      "07Q02|10001|color|Black\n",
      "64K81|10001|color|Yellow\n",
      "24V80|10001|color|Yellow\n",
      "07Q02|10002|size|Extra Large\n",
      "64K81|10002|size|Large\n",
      "64K81|10003|package|Dozen\n",
      "\n",
      "Accessories\n",
      "07Q02|Alternate Item|49Q55\n",
      "64K81|Accessory|90R20\n",
      "24V80|Accessory|87X49\n",
      "\n",
      "Competitor\n",
      "24V80|Competitor-B|RQ8799\n",
      "64K81|Competitor-D|JJ5377\n",
      "07Q02|Competitor-A|TP3303\n"
     ]
    }
   ],
   "source": [
    "print(\"Items\")\n",
    "for x in items:\n",
    "    print(\"|\".join(x))\n",
    "print()\n",
    "\n",
    "print(\"Attributes\")\n",
    "for x in attributes:\n",
    "    \n",
    "    print(\"|\".join([str(_) for _ in x]))\n",
    "print()\n",
    "print(\"Accessories\")\n",
    "for x in accessories:\n",
    "    print(\"|\".join(x))\n",
    "print()\n",
    "\n",
    "print(\"Competitor\")\n",
    "for x in competitor:\n",
    "    print(\"|\".join(x))\n"
   ]
  },
  {
   "cell_type": "code",
   "execution_count": 39,
   "metadata": {
    "slideshow": {
     "slide_type": "skip"
    }
   },
   "outputs": [],
   "source": [
    "pipes = \"\"\"Items\n",
    "07Q02|Premium Whatsit|$4,600.25\n",
    "64K81|Super Widget|$2,066.81\n",
    "24V80|Deluxe Widget|$2,704.29\n",
    "\n",
    "Attributes\n",
    "07Q02|10003|package|10-Pack\n",
    "24V80|10003|package|1000-pack\n",
    "24V80|10002|size|Extra Large\n",
    "07Q02|10001|color|Black\n",
    "64K81|10001|color|Yellow\n",
    "24V80|10001|color|Yellow\n",
    "07Q02|10002|size|Extra Large\n",
    "64K81|10002|size|Large\n",
    "64K81|10003|package|Dozen\n",
    "\n",
    "Accessories\n",
    "07Q02|Alternate Item|49Q55\n",
    "64K81|Accessory|90R20\n",
    "24V80|Accessory|87X49\n",
    "\n",
    "Competitor\n",
    "24V80|Competitor-B|RQ8799\n",
    "64K81|Competitor-D|JJ5377\n",
    "07Q02|Competitor-A|TP3303\n",
    "\"\"\"\n"
   ]
  },
  {
   "cell_type": "code",
   "execution_count": 41,
   "metadata": {
    "slideshow": {
     "slide_type": "slide"
    }
   },
   "outputs": [
    {
     "name": "stdout",
     "output_type": "stream",
     "text": [
      "Items\n",
      "07Q02|Premium Whatsit|$4,600.25\n",
      "64K81|Super Widget|$2,066.81\n",
      "24V80|Deluxe Widget|$2,704.29\n",
      "\n",
      "Attributes\n",
      "07Q02|10003|package|10-Pack\n",
      "24V80|10003|package|1000-pack\n",
      "24V80|10002|size|Extra Large\n",
      "07Q02|10001|color|Black\n",
      "64K81|10001|color|Yellow\n",
      "24V80|10001|color|Yellow\n",
      "07Q02|10002|size|Extra Large\n",
      "64K81|10002|size|Large\n",
      "64K81|10003|package|Dozen\n",
      "\n",
      "Accessories\n",
      "07Q02|Alternate Item|49Q55\n",
      "64K81|Accessory|90R20\n",
      "24V80|Accessory|87X49\n",
      "\n",
      "Competitor\n",
      "24V80|Competitor-B|RQ8799\n",
      "64K81|Competitor-D|JJ5377\n",
      "07Q02|Competitor-A|TP3303\n",
      "\n"
     ]
    }
   ],
   "source": [
    "print(pipes)"
   ]
  },
  {
   "cell_type": "markdown",
   "metadata": {
    "slideshow": {
     "slide_type": "notes"
    }
   },
   "source": [
    "Aquí está un ejempplo muy sencillo, con solo 3 SKU's y 4 archivos, delimitados por barras"
   ]
  },
  {
   "cell_type": "code",
   "execution_count": 23,
   "metadata": {
    "scrolled": true,
    "slideshow": {
     "slide_type": "skip"
    }
   },
   "outputs": [
    {
     "name": "stdout",
     "output_type": "stream",
     "text": [
      "Items\n",
      "['07Q02', 'Premium Whatsit', '$4,600.25']\n",
      "['64K81', 'Super Widget', '$2,066.81']\n",
      "['24V80', 'Deluxe Widget', '$2,704.29']\n",
      "\n",
      "Attributes\n",
      "['07Q02', 10003, 'package', '10-Pack']\n",
      "['24V80', 10003, 'package', '1000-pack']\n",
      "['24V80', 10002, 'size', 'Extra Large']\n",
      "['07Q02', 10001, 'color', 'Black']\n",
      "['64K81', 10001, 'color', 'Yellow']\n",
      "['24V80', 10001, 'color', 'Yellow']\n",
      "['07Q02', 10002, 'size', 'Extra Large']\n",
      "['64K81', 10002, 'size', 'Large']\n",
      "['64K81', 10003, 'package', 'Dozen']\n",
      "\n",
      "Accessories\n",
      "['07Q02', 'Alternate Item', '49Q55']\n",
      "['64K81', 'Accessory', '90R20']\n",
      "['24V80', 'Accessory', '87X49']\n",
      "\n",
      "Competitor\n",
      "['24V80', 'Competitor-B', 'RQ8799']\n",
      "['64K81', 'Competitor-D', 'JJ5377']\n",
      "['07Q02', 'Competitor-A', 'TP3303']\n"
     ]
    }
   ],
   "source": [
    "print(\"Items\")\n",
    "for x in items:\n",
    "    print(x)\n",
    "print()\n",
    "\n",
    "print(\"Attributes\")\n",
    "for x in attributes:\n",
    "    print(x)\n",
    "print()\n",
    "\n",
    "print(\"Accessories\")\n",
    "for x in accessories:\n",
    "    print(x)\n",
    "print()\n",
    "\n",
    "print(\"Competitor\")\n",
    "for x in competitor:\n",
    "    print(x)\n"
   ]
  },
  {
   "cell_type": "code",
   "execution_count": 47,
   "metadata": {
    "slideshow": {
     "slide_type": "skip"
    }
   },
   "outputs": [],
   "source": [
    "lists = \"\"\"Items\n",
    "['07Q02', 'Premium Whatsit', '$4,600.25']\n",
    "['64K81', 'Super Widget', '$2,066.81']\n",
    "['24V80', 'Deluxe Widget', '$2,704.29']\n",
    "\n",
    "Attributes\n",
    "['07Q02', 10003, 'package', '10-Pack']\n",
    "['24V80', 10003, 'package', '1000-pack']\n",
    "['24V80', 10002, 'size', 'Extra Large']\n",
    "['07Q02', 10001, 'color', 'Black']\n",
    "['64K81', 10001, 'color', 'Yellow']\n",
    "['24V80', 10001, 'color', 'Yellow']\n",
    "['07Q02', 10002, 'size', 'Extra Large']\n",
    "['64K81', 10002, 'size', 'Large']\n",
    "['64K81', 10003, 'package', 'Dozen']\n",
    "\n",
    "Accessories\n",
    "['07Q02', 'Alternate Item', '49Q55']\n",
    "['64K81', 'Accessory', '90R20']\n",
    "['24V80', 'Accessory', '87X49']\n",
    "\n",
    "Competitor\n",
    "['24V80', 'Competitor-B', 'RQ8799']\n",
    "['64K81', 'Competitor-D', 'JJ5377']\n",
    "['07Q02', 'Competitor-A', 'TP3303']\"\"\""
   ]
  },
  {
   "cell_type": "code",
   "execution_count": 48,
   "metadata": {
    "scrolled": false,
    "slideshow": {
     "slide_type": "slide"
    }
   },
   "outputs": [
    {
     "name": "stdout",
     "output_type": "stream",
     "text": [
      "Items\n",
      "['07Q02', 'Premium Whatsit', '$4,600.25']\n",
      "['64K81', 'Super Widget', '$2,066.81']\n",
      "['24V80', 'Deluxe Widget', '$2,704.29']\n",
      "\n",
      "Attributes\n",
      "['07Q02', 10003, 'package', '10-Pack']\n",
      "['24V80', 10003, 'package', '1000-pack']\n",
      "['24V80', 10002, 'size', 'Extra Large']\n",
      "['07Q02', 10001, 'color', 'Black']\n",
      "['64K81', 10001, 'color', 'Yellow']\n",
      "['24V80', 10001, 'color', 'Yellow']\n",
      "['07Q02', 10002, 'size', 'Extra Large']\n",
      "['64K81', 10002, 'size', 'Large']\n",
      "['64K81', 10003, 'package', 'Dozen']\n",
      "\n",
      "Accessories\n",
      "['07Q02', 'Alternate Item', '49Q55']\n",
      "['64K81', 'Accessory', '90R20']\n",
      "['24V80', 'Accessory', '87X49']\n",
      "\n",
      "Competitor\n",
      "['24V80', 'Competitor-B', 'RQ8799']\n",
      "['64K81', 'Competitor-D', 'JJ5377']\n",
      "['07Q02', 'Competitor-A', 'TP3303']\n"
     ]
    }
   ],
   "source": [
    "print(lists)"
   ]
  },
  {
   "cell_type": "markdown",
   "metadata": {
    "slideshow": {
     "slide_type": "notes"
    }
   },
   "source": [
    "y Aquí está los mismos datos como listas en Python"
   ]
  },
  {
   "cell_type": "code",
   "execution_count": 28,
   "metadata": {
    "slideshow": {
     "slide_type": "slide"
    }
   },
   "outputs": [
    {
     "data": {
      "text/plain": [
       "defaultdict(dict,\n",
       "            {'07Q02': {'sku': '07Q02',\n",
       "              'description': 'Premium Whatsit',\n",
       "              'cost': '$4,600.25'},\n",
       "             '64K81': {'sku': '64K81',\n",
       "              'description': 'Super Widget',\n",
       "              'cost': '$2,066.81'},\n",
       "             '24V80': {'sku': '24V80',\n",
       "              'description': 'Deluxe Widget',\n",
       "              'cost': '$2,704.29'}})"
      ]
     },
     "execution_count": 28,
     "metadata": {},
     "output_type": "execute_result"
    }
   ],
   "source": [
    "from collections import defaultdict\n",
    "combined_skus = defaultdict(dict)\n",
    "\n",
    "for item in items:\n",
    "    combined_skus[item[0]] = dict(zip((\"sku\", \"description\", \"cost\"),item))\n",
    "\n",
    "combined_skus"
   ]
  },
  {
   "cell_type": "markdown",
   "metadata": {
    "slideshow": {
     "slide_type": "notes"
    }
   },
   "source": [
    "Aquí está un ejempplo muy sencillo, con solo 3 SKU's y 4 archivos, delimitados por barras"
   ]
  },
  {
   "cell_type": "code",
   "execution_count": 29,
   "metadata": {
    "scrolled": false,
    "slideshow": {
     "slide_type": "slide"
    }
   },
   "outputs": [
    {
     "data": {
      "text/plain": [
       "defaultdict(dict,\n",
       "            {'07Q02': {'sku': '07Q02',\n",
       "              'description': 'Premium Whatsit',\n",
       "              'cost': '$4,600.25',\n",
       "              'attributes': {'package': '10-Pack',\n",
       "               'color': 'Black',\n",
       "               'size': 'Extra Large'}},\n",
       "             '64K81': {'sku': '64K81',\n",
       "              'description': 'Super Widget',\n",
       "              'cost': '$2,066.81',\n",
       "              'attributes': {'color': 'Yellow',\n",
       "               'size': 'Large',\n",
       "               'package': 'Dozen'}},\n",
       "             '24V80': {'sku': '24V80',\n",
       "              'description': 'Deluxe Widget',\n",
       "              'cost': '$2,704.29',\n",
       "              'attributes': {'package': '1000-pack',\n",
       "               'size': 'Extra Large',\n",
       "               'color': 'Yellow'}}})"
      ]
     },
     "execution_count": 29,
     "metadata": {},
     "output_type": "execute_result"
    }
   ],
   "source": [
    "for attr in attributes:\n",
    "    if 'attributes' not in combined_skus[attr[0]]:\n",
    "        combined_skus[attr[0]]['attributes'] = {}\n",
    "    combined_skus[attr[0]][\"attributes\"][attr[2]] = attr[3]\n",
    "        \n",
    "combined_skus"
   ]
  },
  {
   "cell_type": "markdown",
   "metadata": {
    "slideshow": {
     "slide_type": "notes"
    }
   },
   "source": [
    "Aquí está un ejempplo muy sencillo, con solo 3 SKU's y 4 archivos, delimitados por barras"
   ]
  },
  {
   "cell_type": "code",
   "execution_count": 30,
   "metadata": {
    "scrolled": true,
    "slideshow": {
     "slide_type": "slide"
    }
   },
   "outputs": [
    {
     "data": {
      "text/plain": [
       "defaultdict(dict,\n",
       "            {'07Q02': {'sku': '07Q02',\n",
       "              'description': 'Premium Whatsit',\n",
       "              'cost': '$4,600.25',\n",
       "              'attributes': {'package': '10-Pack',\n",
       "               'color': 'Black',\n",
       "               'size': 'Extra Large'},\n",
       "              'Alternate Item': '49Q55'},\n",
       "             '64K81': {'sku': '64K81',\n",
       "              'description': 'Super Widget',\n",
       "              'cost': '$2,066.81',\n",
       "              'attributes': {'color': 'Yellow',\n",
       "               'size': 'Large',\n",
       "               'package': 'Dozen'},\n",
       "              'Accessory': '90R20'},\n",
       "             '24V80': {'sku': '24V80',\n",
       "              'description': 'Deluxe Widget',\n",
       "              'cost': '$2,704.29',\n",
       "              'attributes': {'package': '1000-pack',\n",
       "               'size': 'Extra Large',\n",
       "               'color': 'Yellow'},\n",
       "              'Accessory': '87X49'}})"
      ]
     },
     "execution_count": 30,
     "metadata": {},
     "output_type": "execute_result"
    }
   ],
   "source": [
    "for accessory in accessories:\n",
    "    combined_skus[accessory[0]][accessory[1]] = accessory[2]\n",
    "        \n",
    "combined_skus"
   ]
  },
  {
   "cell_type": "markdown",
   "metadata": {
    "slideshow": {
     "slide_type": "notes"
    }
   },
   "source": [
    "Aquí está un ejempplo muy sencillo, con solo 3 SKU's y 4 archivos, delimitados por barras"
   ]
  },
  {
   "cell_type": "markdown",
   "metadata": {
    "slideshow": {
     "slide_type": "notes"
    }
   },
   "source": [
    "Aquí está un ejempplo muy sencillo, con solo 3 SKU's y 4 archivos, delimitados por barras"
   ]
  },
  {
   "cell_type": "code",
   "execution_count": 31,
   "metadata": {
    "scrolled": true,
    "slideshow": {
     "slide_type": "slide"
    }
   },
   "outputs": [
    {
     "data": {
      "text/plain": [
       "defaultdict(dict,\n",
       "            {'07Q02': {'sku': '07Q02',\n",
       "              'description': 'Premium Whatsit',\n",
       "              'cost': '$4,600.25',\n",
       "              'attributes': {'package': '10-Pack',\n",
       "               'color': 'Black',\n",
       "               'size': 'Extra Large'},\n",
       "              'Alternate Item': '49Q55',\n",
       "              'competitor': ['Competitor-A', 'TP3303']},\n",
       "             '64K81': {'sku': '64K81',\n",
       "              'description': 'Super Widget',\n",
       "              'cost': '$2,066.81',\n",
       "              'attributes': {'color': 'Yellow',\n",
       "               'size': 'Large',\n",
       "               'package': 'Dozen'},\n",
       "              'Accessory': '90R20',\n",
       "              'competitor': ['Competitor-D', 'JJ5377']},\n",
       "             '24V80': {'sku': '24V80',\n",
       "              'description': 'Deluxe Widget',\n",
       "              'cost': '$2,704.29',\n",
       "              'attributes': {'package': '1000-pack',\n",
       "               'size': 'Extra Large',\n",
       "               'color': 'Yellow'},\n",
       "              'Accessory': '87X49',\n",
       "              'competitor': ['Competitor-B', 'RQ8799']}})"
      ]
     },
     "execution_count": 31,
     "metadata": {},
     "output_type": "execute_result"
    }
   ],
   "source": [
    "for comp in competitor:\n",
    "    combined_skus[comp[0]]['competitor'] = comp[1:]\n",
    "        \n",
    "combined_skus"
   ]
  },
  {
   "cell_type": "code",
   "execution_count": 32,
   "metadata": {
    "scrolled": true,
    "slideshow": {
     "slide_type": "slide"
    }
   },
   "outputs": [
    {
     "data": {
      "text/plain": [
       "{'sku': '24V80',\n",
       " 'description': 'Deluxe Widget',\n",
       " 'cost': '$2,704.29',\n",
       " 'attributes': {'package': '1000-pack',\n",
       "  'size': 'Extra Large',\n",
       "  'color': 'Yellow'},\n",
       " 'Accessory': '87X49',\n",
       " 'competitor': ['Competitor-B', 'RQ8799']}"
      ]
     },
     "execution_count": 32,
     "metadata": {},
     "output_type": "execute_result"
    }
   ],
   "source": [
    "combined_skus['24V80']"
   ]
  },
  {
   "cell_type": "markdown",
   "metadata": {
    "slideshow": {
     "slide_type": "notes"
    }
   },
   "source": [
    "Aquí está un ejempplo muy sencillo, con solo 3 SKU's y 4 archivos, delimitados por barras"
   ]
  },
  {
   "cell_type": "markdown",
   "metadata": {
    "lang": "es",
    "slideshow": {
     "slide_type": "slide"
    }
   },
   "source": [
    "## La realidad - archivos muy grandes\n",
    "\n",
    "* items: 2 millones de líneas; con 15-20 elements - sku, descripción, categorías, dimensiones, cumplimiento, marca, MPN, etc.\n",
    "* attributes: 20 millones de líneas, 10 por sku; sku, attr_id, attr_name, attr_value\n",
    "* alternatives/accessories: 1 millón de líneas - sku, type, alt_sku \n",
    "* competitors:  1 millón de líneas - sku, competidor, número de pieza del competidor\n",
    "* un nuevo feed cada noche a las dos de la mañana\n",
    "* debía estar listo antes de las ocho - 6 horas al máximo \n",
    "\n"
   ]
  },
  {
   "cell_type": "markdown",
   "metadata": {
    "slideshow": {
     "slide_type": "slide"
    }
   },
   "source": [
    "No tenemos suficiente tiempo hacer todo, pero espero que podamos hablar sobre algunos aspectos de la ingeniería de datos. \n",
    "\n",
    "Voy comenzar con unos consejos generales y "
   ]
  },
  {
   "cell_type": "markdown",
   "metadata": {
    "slideshow": {
     "slide_type": "slide"
    }
   },
   "source": [
    "### La solución con el diccionario no funcionó\n",
    "* OOM-killer"
   ]
  },
  {
   "cell_type": "markdown",
   "metadata": {
    "slideshow": {
     "slide_type": "slide"
    }
   },
   "source": [
    "### OOMkiller"
   ]
  },
  {
   "cell_type": "markdown",
   "metadata": {
    "slideshow": {
     "slide_type": "slide"
    }
   },
   "source": [
    "No tenemos suficiente tiempo hacer todo, pero espero que podamos hablar sobre algunos aspectos de la ingeniería de datos. \n",
    "\n",
    "Voy comenzar con unos consejos generales y "
   ]
  },
  {
   "cell_type": "markdown",
   "metadata": {
    "slideshow": {
     "slide_type": "slide"
    }
   },
   "source": [
    "```\n",
    "naomi@naomi-NUC:~$ sudo dmesg\n",
    "\n",
    "[11686.040460] flasherav invoked oom-killer: gfp_mask=0x201da, order=0, oom_adj=0, oom_score_adj=0\n",
    "[11686.040467] flasherav cpuset=/ mems_allowed=0\n",
    "[11686.040472] Pid: 2859, comm: flasherav Not tainted 3.0.0-12-generic #20-Ubuntu\n",
    "[11686.040476] Call Trace:\n",
    "[11686.040488]  [<c10e1c15>] dump_header.isra.7+0x85/0xc0\n",
    "[11686.040493]  [<c10e1e6c>] oom_kill_process+0x5c/0x80\n",
    "[11686.040498]  [<c10e225f>] out_of_memory+0xbf/0x1d0\n",
    "[11686.040503]  [<c10e6123>] __alloc_pages_nodemask+0x6c3/0x6e0\n",
    "[11686.040509]  [<c10e78d3>] ? __do_page_cache_readahead+0xe3/0x170\n",
    "[11686.040514]  [<c10e0fc8>] filemap_fault+0x218/0x390\n",
    "[11686.040519]  [<c1001c24>] ? __switch_to+0x94/0x1a0\n",
    "[11686.040525]  [<c10fb5ee>] __do_fault+0x3e/0x4b0\n",
    "[11686.040530]  [<c1069971>] ? enqueue_hrtimer+0x21/0x80\n",
    "[11686.040535]  [<c10fec2c>] handle_pte_fault+0xec/0x220\n",
    "[11686.040540]  [<c10fee68>] handle_mm_fault+0x108/0x210\n",
    "[11686.040546]  [<c152fa00>] ? vmalloc_fault+0xee/0xee\n",
    "[11686.040551]  [<c152fb5b>] do_page_fault+0x15b/0x4a0\n",
    "[11686.040555]  [<c1069a90>] ? update_rmtp+0x80/0x80\n",
    "[11686.040560]  [<c106a7b6>] ? hrtimer_start_range_ns+0x26/0x30\n",
    "[11686.040565]  [<c106aeaf>] ? sys_nanosleep+0x4f/0x60\n",
    "[11686.040569]  [<c152fa00>] ? vmalloc_fault+0xee/0xee\n",
    "[11686.040574]  [<c152cfcf>] error_code+0x67/0x6c\n",
    "[11686.040580]  [<c1520000>] ? reserve_backup_gdb.isra.11+0x26d/0x2c0\n",
    "[11686.040583] Mem-Info:\n",
    "[11686.040585] DMA per-cpu:\n",
    "[11686.040588] CPU    0: hi:    0, btch:   1 usd:   0\n",
    "[11686.040592] CPU    1: hi:    0, btch:   1 usd:   0\n",
    "[11686.040594] Normal per-cpu:\n",
    "[11686.040597] CPU    0: hi:  186, btch:  31 usd:   5\n",
    "[11686.040600] CPU    1: hi:  186, btch:  31 usd:  30\n",
    "[11686.040603] HighMem per-cpu:\n",
    "[11686.040605] CPU    0: hi:   42, btch:   7 usd:   7\n",
    "[11686.040608] CPU    1: hi:   42, btch:   7 usd:  22\n",
    "[11686.040613] active_anon:113150 inactive_anon:113378 isolated_anon:0\n",
    "[11686.040615]  active_file:86 inactive_file:1964 isolated_file:0\n",
    "[11686.040616]  unevictable:0 dirty:0 writeback:0 unstable:0\n",
    "[11686.040618]  free:13274 slab_reclaimable:2239 slab_unreclaimable:2594\n",
    "[11686.040619]  mapped:1387 shmem:4380 pagetables:1375 bounce:0\n",
    "[11686.040627] DMA free:4776kB min:784kB low:980kB high:1176kB active_anon:5116kB inactive_anon:5472kB active_file:0kB inactive_file:0kB unevictable:0kB isolated(anon):0kB isolated(file):0kB present:15804kB mlocked:0kB dirty:0kB writeback:0kB mapped:0kB shmem:0kB slab_reclaimable:80kB slab_unreclaimable:168kB kernel_stack:96kB pagetables:64kB unstable:0kB bounce:0kB writeback_tmp:0kB pages_scanned:6 all_unreclaimable? yes\n",
    "[11686.040634] lowmem_reserve[]: 0 865 1000 1000\n",
    "[11686.040644] Normal free:48212kB min:44012kB low:55012kB high:66016kB active_anon:383196kB inactive_anon:383704kB active_file:344kB inactive_file:7884kB unevictable:0kB isolated(anon):0kB isolated(file):0kB present:885944kB mlocked:0kB dirty:0kB writeback:0kB mapped:5548kB shmem:17520kB slab_reclaimable:8876kB slab_unreclaimable:10208kB kernel_stack:1960kB pagetables:3976kB unstable:0kB bounce:0kB writeback_tmp:0kB pages_scanned:930 all_unreclaimable? yes\n",
    "[11686.040652] lowmem_reserve[]: 0 0 1078 1078\n",
    "[11686.040662] HighMem free:108kB min:132kB low:1844kB high:3560kB active_anon:64288kB inactive_anon:64336kB active_file:0kB inactive_file:0kB unevictable:0kB isolated(anon):0kB isolated(file):0kB present:138072kB mlocked:0kB dirty:0kB writeback:0kB mapped:0kB shmem:0kB slab_reclaimable:0kB slab_unreclaimable:0kB kernel_stack:0kB pagetables:1460kB unstable:0kB bounce:0kB writeback_tmp:0kB pages_scanned:61 all_unreclaimable? yes\n",
    "[11686.040669] lowmem_reserve[]: 0 0 0 0\n",
    "[11686.040675] DMA: 20*4kB 24*8kB 34*16kB 26*32kB 19*64kB 13*128kB 1*256kB 0*512kB 0*1024kB 0*2048kB 0*4096kB = 4784kB\n",
    "[11686.040690] Normal: 819*4kB 607*8kB 357*16kB 176*32kB 99*64kB 49*128kB 23*256kB 4*512kB 0*1024kB 0*2048kB 2*4096kB = 48212kB\n",
    "[11686.040704] HighMem: 16*4kB 0*8kB 1*16kB 0*32kB 0*64kB 0*128kB 0*256kB 0*512kB 0*1024kB 0*2048kB 0*4096kB = 80kB\n",
    "[11686.040718] 14680 total pagecache pages\n",
    "[11686.040721] 8202 pages in swap cache\n",
    "[11686.040724] Swap cache stats: add 2191074, delete 2182872, find 1247325/1327415\n",
    "[11686.040727] Free swap  = 0kB\n",
    "[11686.040729] Total swap = 524284kB\n",
    "[11686.043240] 262100 pages RAM\n",
    "[11686.043244] 34790 pages HighMem\n",
    "[11686.043246] 5610 pages reserved\n",
    "[11686.043248] 2335 pages shared\n",
    "[11686.043250] 240875 pages non-shared\n",
    "[11686.043253] [ pid ]   uid  tgid total_vm      rss cpu oom_adj oom_score_adj name\n",
    "[11686.043266] [ 1084]     0  1084      662        1   0       0             0 upstart-udev-br\n",
    "[11686.043271] [ 1094]     0  1094      743       79   0     -17         -1000 udevd\n",
    "[11686.043276] [ 1104]   101  1104     7232       42   0       0             0 rsyslogd\n",
    "[11686.043281] [ 1149]   103  1149     1066      188   1       0             0 dbus-daemon\n",
    "[11686.043286] [ 1165]     0  1165     1716       66   0       0             0 modem-manager\n",
    "[11686.043291] [ 1220]   106  1220      861       42   0       0             0 avahi-daemon\n",
    "[11686.043296] [ 1221]   106  1221      829        0   1       0             0 avahi-daemon\n",
    "[11686.043301] [ 1255]     0  1255     6880      117   0       0             0 NetworkManager\n",
    "[11686.043306] [ 1308]     0  1308     5988      144   0       0             0 polkitd\n",
    "[11686.043311] [ 1334]     0  1334      723       85   0     -17         -1000 udevd\n",
    "[11686.043316] [ 1335]     0  1335      730      108   0     -17         -1000 udevd\n",
    "[11686.043320] [ 1375]     0  1375      663       37   0       0             0 upstart-socket-\n",
    "[11686.043325] [ 1464]     0  1464     1333      120   1       0             0 login\n",
    "[11686.043330] [ 1467]     0  1467     1333      135   1       0             0 login\n",
    "[11686.043335] [ 1486]     0  1486     1333      135   1       0             0 login\n",
    "[11686.043339] [ 1487]     0  1487     1333      136   1       0             0 login\n",
    "[11686.043344] [ 1493]     0  1493     1333      134   1       0             0 login\n",
    "[11686.043349] [ 1528]     0  1528      496       45   0       0             0 acpid\n",
    "[11686.043354] [ 1529]     0  1529      607       46   1       0             0 cron\n",
    "[11686.043359] [ 1549]     0  1549    10660      100   0       0             0 lightdm\n",
    "[11686.043363] [ 1550]     0  1550      570       28   0       0             0 atd\n",
    "[11686.043368] [ 1584]     0  1584      855       35   0       0             0 irqbalance\n",
    "[11686.043373] [ 1703]     0  1703    17939     9653   0       0             0 Xorg\n",
    "[11686.043378] [ 1874]     0  1874     7013      174   0       0             0 console-kit-dae\n",
    "[11686.043382] [ 1958]     0  1958     1124       52   1       0             0 bluetoothd\n",
    "[11686.043388] [ 2048]   999  2048     2435      641   1       0             0 bash\n",
    "[11686.043392] [ 2049]   999  2049     2435      595   0       0             0 bash\n",
    "[11686.043397] [ 2050]   999  2050     2435      587   1       0             0 bash\n",
    "[11686.043402] [ 2051]   999  2051     2435      634   1       0             0 bash\n",
    "[11686.043406] [ 2054]   999  2054     2435      569   0       0             0 bash\n",
    "[11686.043411] [ 2155]     0  2155     1333      128   0       0             0 login\n",
    "[11686.043416] [ 2222]     0  2222      684       67   1       0             0 dhclient\n",
    "[11686.043420] [ 2240]   999  2240     2435      415   0       0             0 bash\n",
    "[11686.043425] [ 2244]     0  2244     3631       58   0       0             0 accounts-daemon\n",
    "[11686.043430] [ 2258]   999  2258    11683      277   0       0             0 gnome-session\n",
    "[11686.043435] [ 2407]   999  2407      964       24   0       0             0 ssh-agent\n",
    "[11686.043440] [ 2410]   999  2410      937       53   0       0             0 dbus-launch\n",
    "[11686.043444] [ 2411]   999  2411     1319      300   1       0             0 dbus-daemon\n",
    "[11686.043449] [ 2413]   999  2413     2287       88   0       0             0 gvfsd\n",
    "[11686.043454] [ 2418]   999  2418     7867      123   1       0             0 gvfs-fuse-daemo\n",
    "[11686.043459] [ 2427]   999  2427    32720      804   0       0             0 gnome-settings-\n",
    "[11686.043463] [ 2437]   999  2437    10750      124   0       0             0 gnome-keyring-d\n",
    "[11686.043468] [ 2442]   999  2442     2321      244   1       0             0 gconfd-2\n",
    "[11686.043473] [ 2447]     0  2447     6490      156   0       0             0 upowerd\n",
    "[11686.043478] [ 2467]   999  2467     7590       87   0       0             0 dconf-service\n",
    "[11686.043482] [ 2529]   999  2529    11807      211   0       0             0 gsd-printer\n",
    "[11686.043487] [ 2531]   999  2531    12162      587   0       0             0 metacity\n",
    "[11686.043492] [ 2535]   999  2535    19175      960   0       0             0 unity-2d-panel\n",
    "[11686.043496] [ 2536]   999  2536    19408     1012   0       0             0 unity-2d-launch\n",
    "[11686.043502] [ 2539]   999  2539    16154     1120   1       0             0 nautilus\n",
    "[11686.043506] [ 2540]   999  2540    17888      534   0       0             0 nm-applet\n",
    "[11686.043511] [ 2541]   999  2541     7005      253   0       0             0 polkit-gnome-au\n",
    "[11686.043516] [ 2544]   999  2544     8930      430   0       0             0 bamfdaemon\n",
    "[11686.043521] [ 2545]   999  2545    11217      442   1       0             0 bluetooth-apple\n",
    "[11686.043525] [ 2547]   999  2547      510       16   0       0             0 sh\n",
    "[11686.043530] [ 2548]   999  2548    11205      301   1       0             0 gnome-fallback-\n",
    "[11686.043535] [ 2565]   999  2565     6614      179   1       0             0 gvfs-gdu-volume\n",
    "[11686.043539] [ 2567]     0  2567     5812      164   1       0             0 udisks-daemon\n",
    "[11686.043544] [ 2571]     0  2571     1580       69   0       0             0 udisks-daemon\n",
    "[11686.043549] [ 2579]   999  2579    16354     1035   0       0             0 unity-panel-ser\n",
    "[11686.043554] [ 2602]     0  2602     1188       47   0       0             0 sudo\n",
    "[11686.043559] [ 2603]     0  2603   374634   181503   0       0             0 flasherav\n",
    "[11686.043564] [ 2607]   999  2607    12673      189   0       0             0 indicator-appli\n",
    "[11686.043569] [ 2609]   999  2609    19313      311   1       0             0 indicator-datet\n",
    "[11686.043573] [ 2611]   999  2611    15738      225   0       0             0 indicator-messa\n",
    "[11686.043578] [ 2615]   999  2615    17433      237   1       0             0 indicator-sessi\n",
    "[11686.043583] [ 2627]   999  2627     2393      132   0       0             0 gvfsd-trash\n",
    "[11686.043588] [ 2640]   999  2640     1933       85   0       0             0 geoclue-master\n",
    "[11686.043592] [ 2650]     0  2650     2498     1136   1       0             0 mount.ntfs\n",
    "[11686.043598] [ 2657]   999  2657     6624      128   1       0             0 telepathy-indic\n",
    "[11686.043602] [ 2659]   999  2659     2246      112   0       0             0 mission-control\n",
    "[11686.043607] [ 2662]   999  2662     5431      346   1       0             0 gdu-notificatio\n",
    "[11686.043612] [ 2664]     0  2664     3716     2392   0       0             0 mount.ntfs\n",
    "[11686.043617] [ 2679]   999  2679    12453      197   1       0             0 zeitgeist-datah\n",
    "[11686.043621] [ 2685]   999  2685     5196     1581   1       0             0 zeitgeist-daemo\n",
    "[11686.043626] [ 2934]   999  2934    16305      710   0       0             0 gnome-terminal\n",
    "[11686.043631] [ 2938]   999  2938      553        0   0       0             0 gnome-pty-helpe\n",
    "[11686.043636] [ 2939]   999  2939     1814      406   0       0             0 bash\n",
    "[11686.043641] Out of memory: Kill process 2603 (flasherav) score 761 or sacrifice child\n",
    "[11686.043647] Killed process 2603 (flasherav) total-vm:1498536kB, anon-rss:721784kB, file-rss:4228kB\n",
    "```"
   ]
  },
  {
   "cell_type": "markdown",
   "metadata": {
    "slideshow": {
     "slide_type": "slide"
    }
   },
   "source": [
    "### Solución 2 con `shelve` - ? days... \n",
    "* `shelve` es un objeto Python que funciona como un diccionario, pero en disco, no solo en memoria\n",
    "* luego cada cambio del objeto `shelve` necesitaría leer y escribir al disco\n",
    "* con casi 25 millones de líneas, esta versión duró unos días"
   ]
  },
  {
   "cell_type": "markdown",
   "metadata": {
    "slideshow": {
     "slide_type": "slide"
    }
   },
   "source": [
    "### Solución 3 con mongodb - 16 horas\n",
    "1. leer una línea de un archivo \n",
    "2. obtener el registro de sku en mongodb\n",
    "3. actualizar el registro en mongodb\n",
    "3. repite hasta que todas los archivos habían sido leídos\n",
    "\n",
    "Leer mongodb casi 25 millones de veces; escriber menos de 25 millones"
   ]
  },
  {
   "cell_type": "markdown",
   "metadata": {
    "slideshow": {
     "slide_type": "slide"
    }
   },
   "source": [
    "### Solución 4  - < 2 horas\n",
    "1. ordenar todos los archivos por SKU con Unix `sort` - pocos minutos\n",
    "2. obtener el registro de sku en Mongo\n",
    "3. leer todas las líneas (en todos los archivos) relatadas por SKU\n",
    "4. actualizar el registro en memoria\n",
    "5. guardar el registro en mongodb\n",
    "\n",
    "Leer mongodb 2 millones de veces; escriber menos de 2 millones"
   ]
  },
  {
   "cell_type": "markdown",
   "metadata": {
    "slideshow": {
     "slide_type": "slide"
    }
   },
   "source": [
    "## El consejo más importante\n",
    "\n",
    "Entiende tus recursos y tus herramientas para buscar una combinación eficaz."
   ]
  },
  {
   "cell_type": "markdown",
   "metadata": {
    "nbpresent": {
     "id": "adecdecf-3fae-4cbe-924a-f771e1472170"
    },
    "slideshow": {
     "slide_type": "slide"
    }
   },
   "source": [
    "## !Gracias! \n",
    "\n",
    "### ¿Preguntas?\n"
   ]
  },
  {
   "cell_type": "markdown",
   "metadata": {
    "nbpresent": {
     "id": "adecdecf-3fae-4cbe-924a-f771e1472170"
    },
    "slideshow": {
     "slide_type": "slide"
    }
   },
   "source": [
    "### La documentación en Python.org \n",
    "\n",
    "* Python Tutorial - https://docs.python.org/3/tutorial/index.html / (español) https://docs.python.org/es/3/tutorial/index.html \n",
    "* La biblioteca estándar - https://docs.python.org/3/library/index.html - (español) https://docs.python.org/es/3/library/index.html"
   ]
  },
  {
   "cell_type": "markdown",
   "metadata": {
    "nbpresent": {
     "id": "adecdecf-3fae-4cbe-924a-f771e1472170"
    },
    "slideshow": {
     "slide_type": "slide"
    }
   },
   "source": [
    "### Libro recomendado\n",
    "\n",
    "*Cleaning Data for Effective Data Science: Doing the other 80% of the work with Python, R, and command-line tools,* David Mertz (Packt - https://www.packtpub.com/catalogsearch/result/?q=David%20Mertz) "
   ]
  }
 ],
 "metadata": {
  "celltoolbar": "Slideshow",
  "kernelspec": {
   "display_name": "Python 3 (ipykernel)",
   "language": "python",
   "name": "python3"
  },
  "language_info": {
   "codemirror_mode": {
    "name": "ipython",
    "version": 3
   },
   "file_extension": ".py",
   "mimetype": "text/x-python",
   "name": "python",
   "nbconvert_exporter": "python",
   "pygments_lexer": "ipython3",
   "version": "3.9.7"
  },
  "livereveal": {
   "start_slideshow_at": "selected"
  },
  "nbTranslate": {
   "displayLangs": [
    "en",
    "es"
   ],
   "hotkey": "alt-t",
   "langInMainMenu": true,
   "sourceLang": "en",
   "targetLang": "es",
   "useGoogleTranslate": true
  },
  "nbpresent": {
   "slides": {
    "16fa30ee-1d7e-4f43-8365-3994b6ed36a8": {
     "id": "16fa30ee-1d7e-4f43-8365-3994b6ed36a8",
     "prev": "2bb83e06-39b5-4e33-86c6-1dfd5fca6c30",
     "regions": {
      "7a284399-8ba1-44d2-a414-f1f7ed045a81": {
       "attrs": {
        "height": 0.4,
        "width": 0.8,
        "x": 0.1,
        "y": 0.5
       },
       "content": {
        "cell": "9b164dc6-c050-4577-94a1-008abe094762",
        "part": "whole"
       },
       "id": "7a284399-8ba1-44d2-a414-f1f7ed045a81"
      },
      "ae912645-78b0-4103-888a-57c7c053f85a": {
       "attrs": {
        "height": 0.8,
        "width": 0.8,
        "x": 0.1,
        "y": 0.1
       },
       "content": {
        "cell": "9f76d53b-d0f8-4bfc-af42-a26ebf252826",
        "part": "whole"
       },
       "id": "ae912645-78b0-4103-888a-57c7c053f85a"
      },
      "ea333b90-9bec-4680-8f52-5d567d5a5b11": {
       "attrs": {
        "height": 0.4,
        "width": 0.8,
        "x": 0.1,
        "y": 0.5
       },
       "content": {
        "cell": "6545282f-ccba-4d6d-9f4e-df39b58cf55a",
        "part": "whole"
       },
       "id": "ea333b90-9bec-4680-8f52-5d567d5a5b11"
      }
     }
    },
    "1cca9be6-223a-4a5b-9707-c9f192485ab9": {
     "id": "1cca9be6-223a-4a5b-9707-c9f192485ab9",
     "prev": "5956f6ec-fa48-4408-a0d0-b400ebdf7c74",
     "regions": {
      "08bb1fde-08c9-4d9d-87a0-9dfbcf368ceb": {
       "attrs": {
        "height": 0.8,
        "width": 0.8,
        "x": 0.1,
        "y": 0.1
       },
       "content": {
        "cell": "c55fd0b6-61f6-44ef-b90e-254adccefb6b",
        "part": "whole"
       },
       "id": "08bb1fde-08c9-4d9d-87a0-9dfbcf368ceb"
      },
      "1ce204ad-2b0a-4c6e-a192-934945b2f900": {
       "attrs": {
        "height": 0.4,
        "width": 0.8,
        "x": 0.1,
        "y": 0.5
       },
       "content": {
        "cell": "cca27bf6-5f61-46a7-bb21-e5759ea6981d",
        "part": "whole"
       },
       "id": "1ce204ad-2b0a-4c6e-a192-934945b2f900"
      },
      "632b6b63-2b29-475d-90a5-c5bafef46831": {
       "attrs": {
        "height": 0.4,
        "width": 0.8,
        "x": 0.1,
        "y": 0.5
       },
       "content": {
        "cell": "2434938b-ccb3-47f4-a5f3-21ecf43c23f9",
        "part": "whole"
       },
       "id": "632b6b63-2b29-475d-90a5-c5bafef46831"
      }
     }
    },
    "2271af5b-13e3-41ba-bca0-1eabb3d29814": {
     "id": "2271af5b-13e3-41ba-bca0-1eabb3d29814",
     "prev": null,
     "regions": {
      "99631131-5bdc-4fa0-a464-4659b3c109d0": {
       "attrs": {
        "height": 0.8,
        "width": 0.8,
        "x": 0.1,
        "y": 0.1
       },
       "content": {
        "cell": "26b3b9ad-6a1d-474b-8f6c-40acd315151a",
        "part": "whole"
       },
       "id": "99631131-5bdc-4fa0-a464-4659b3c109d0"
      }
     }
    },
    "2b0e9ac9-aade-4454-b430-35240525f60f": {
     "id": "2b0e9ac9-aade-4454-b430-35240525f60f",
     "prev": "fd14396f-871d-4acc-8bc7-0b5318ba394a",
     "regions": {
      "d5dfcaaf-2c1e-4787-92c0-8a147ae14c5d": {
       "attrs": {
        "height": 0.8,
        "width": 0.8,
        "x": 0.1,
        "y": 0.1
       },
       "content": {
        "cell": "ec3c0175-88c7-4162-8236-2b24993de91f",
        "part": "whole"
       },
       "id": "d5dfcaaf-2c1e-4787-92c0-8a147ae14c5d"
      }
     }
    },
    "2bb83e06-39b5-4e33-86c6-1dfd5fca6c30": {
     "id": "2bb83e06-39b5-4e33-86c6-1dfd5fca6c30",
     "prev": "8a36bdbb-f784-456c-9c16-aa88631e0226",
     "regions": {
      "0e7f7b42-07a6-4e4d-b997-2bf0f9af2713": {
       "attrs": {
        "height": 0.8,
        "width": 0.8,
        "x": 0.1,
        "y": 0.1
       },
       "content": {
        "cell": "855fc1b2-1ef8-4703-88ea-05c8d5a5fb67",
        "part": "whole"
       },
       "id": "0e7f7b42-07a6-4e4d-b997-2bf0f9af2713"
      }
     }
    },
    "3713f2d9-f7fb-45ee-b9c7-f54435c791e2": {
     "id": "3713f2d9-f7fb-45ee-b9c7-f54435c791e2",
     "prev": "8abe55f1-aeb9-4f3b-9647-826c3c5c5eb8",
     "regions": {
      "6d213c8a-2e39-4ddc-b318-1377dbf3cebf": {
       "attrs": {
        "height": 0.4,
        "width": 0.8,
        "x": 0.1,
        "y": 0.5
       },
       "content": {
        "cell": "f0f51b1e-32fa-4f49-8f9c-08ae6d1d8594",
        "part": "whole"
       },
       "id": "6d213c8a-2e39-4ddc-b318-1377dbf3cebf"
      },
      "c41ae2cf-4cc5-41c5-899c-c02a0cc41ece": {
       "attrs": {
        "height": 0.8,
        "width": 0.8,
        "x": 0.1,
        "y": 0.1
       },
       "content": {
        "cell": "cbdb2153-4119-4d75-ab38-eb2d96c75126",
        "part": "whole"
       },
       "id": "c41ae2cf-4cc5-41c5-899c-c02a0cc41ece"
      }
     }
    },
    "4711fc1f-0094-4dcf-81f2-cff55054acc3": {
     "id": "4711fc1f-0094-4dcf-81f2-cff55054acc3",
     "prev": "c12efa03-d7cc-4b62-bb40-af27fa139fbb",
     "regions": {
      "aa9fbdef-534e-4087-9184-cdd3b737efa5": {
       "attrs": {
        "height": 0.8,
        "width": 0.8,
        "x": 0.1,
        "y": 0.1
       },
       "content": {
        "cell": "2473fb9f-590d-4776-80a5-efee83edf680",
        "part": "whole"
       },
       "id": "aa9fbdef-534e-4087-9184-cdd3b737efa5"
      }
     }
    },
    "4cab0740-2171-470e-9e99-b5c208a46636": {
     "id": "4cab0740-2171-470e-9e99-b5c208a46636",
     "prev": "2271af5b-13e3-41ba-bca0-1eabb3d29814",
     "regions": {
      "f22d4f46-139f-4f7c-adf8-51a81d8159ae": {
       "attrs": {
        "height": 0.8,
        "width": 0.8,
        "x": 0.1,
        "y": 0.1
       },
       "content": {
        "cell": "57cfcf5b-27d3-4711-b915-6ccfad966136",
        "part": "whole"
       },
       "id": "f22d4f46-139f-4f7c-adf8-51a81d8159ae"
      }
     }
    },
    "4fc2f5c6-f0a7-4acc-a94e-9cf57c7bd2c8": {
     "id": "4fc2f5c6-f0a7-4acc-a94e-9cf57c7bd2c8",
     "prev": "f45f4adf-9269-4537-896d-2a4da0c01289",
     "regions": {
      "18c98fb3-0f95-4f9c-8bf2-00bb5ac3d66b": {
       "attrs": {
        "height": 0.4,
        "width": 0.8,
        "x": 0.1,
        "y": 0.5
       },
       "content": {
        "cell": "c42e83a7-df66-4d2d-a1df-c75e2c1f624e",
        "part": "whole"
       },
       "id": "18c98fb3-0f95-4f9c-8bf2-00bb5ac3d66b"
      },
      "20813141-8324-4d51-b413-db698660150d": {
       "attrs": {
        "height": 0.4,
        "width": 0.8,
        "x": 0.1,
        "y": 0.5
       },
       "content": {
        "cell": "090c6c48-6c1a-4935-a04f-db2ac240f166",
        "part": "whole"
       },
       "id": "20813141-8324-4d51-b413-db698660150d"
      },
      "24536391-3528-43e8-a743-831cb3804038": {
       "attrs": {
        "height": 0.4,
        "width": 0.8,
        "x": 0.1,
        "y": 0.5
       },
       "content": {
        "cell": "ee172c6b-3420-4ffc-b39a-f5272cd4c886",
        "part": "whole"
       },
       "id": "24536391-3528-43e8-a743-831cb3804038"
      },
      "3881f557-46f5-4b46-96d1-2e1ddcb98d4e": {
       "attrs": {
        "height": 0.4,
        "width": 0.8,
        "x": 0.1,
        "y": 0.5
       },
       "content": {
        "cell": "e401e860-8472-4fe9-9627-2c3ca0ff9166",
        "part": "whole"
       },
       "id": "3881f557-46f5-4b46-96d1-2e1ddcb98d4e"
      },
      "3bfeee05-c5a3-4996-89b9-a40618b86628": {
       "attrs": {
        "height": 0.4,
        "width": 0.8,
        "x": 0.1,
        "y": 0.5
       },
       "content": {
        "cell": "7ee12f08-e052-4fd9-bccf-56a8dcb59045",
        "part": "whole"
       },
       "id": "3bfeee05-c5a3-4996-89b9-a40618b86628"
      },
      "53fe6a5f-c6c3-46ae-9190-7374d5691a0c": {
       "attrs": {
        "height": 0.4,
        "width": 0.8,
        "x": 0.1,
        "y": 0.5
       },
       "content": {
        "cell": "9a80d0eb-1430-4077-b413-362fdd14fa37",
        "part": "whole"
       },
       "id": "53fe6a5f-c6c3-46ae-9190-7374d5691a0c"
      },
      "576b8041-2fd3-41fd-af34-fb6efba583ee": {
       "attrs": {
        "height": 0.4,
        "width": 0.8,
        "x": 0.1,
        "y": 0.5
       },
       "content": {
        "cell": "e8e54e66-8897-4837-a1bc-b8919cc3e4af",
        "part": "whole"
       },
       "id": "576b8041-2fd3-41fd-af34-fb6efba583ee"
      },
      "58593b46-d3ca-4262-b83d-f7475d3ebdd6": {
       "attrs": {
        "height": 0.4,
        "width": 0.8,
        "x": 0.1,
        "y": 0.5
       },
       "content": {
        "cell": "b70999ef-371c-47f8-b617-dd5e4fd4b23f",
        "part": "whole"
       },
       "id": "58593b46-d3ca-4262-b83d-f7475d3ebdd6"
      },
      "6221e80e-3348-49e2-8855-117939496fbf": {
       "attrs": {
        "height": 0.4,
        "width": 0.8,
        "x": 0.1,
        "y": 0.5
       },
       "content": {
        "cell": "efd64576-0af8-4206-85b4-deefc6a3332a",
        "part": "whole"
       },
       "id": "6221e80e-3348-49e2-8855-117939496fbf"
      },
      "66297336-7886-44fd-b710-368996df6224": {
       "attrs": {
        "height": 0.4,
        "width": 0.8,
        "x": 0.1,
        "y": 0.5
       },
       "content": {
        "cell": "8a2d3988-8dc4-443e-9e71-75e33809d53b",
        "part": "whole"
       },
       "id": "66297336-7886-44fd-b710-368996df6224"
      },
      "6ff8b1b4-9154-4199-84fa-33f9d968281a": {
       "attrs": {
        "height": 0.4,
        "width": 0.8,
        "x": 0.1,
        "y": 0.5
       },
       "content": {
        "cell": "8e4a498c-06d0-4faa-9f67-34d9500963a2",
        "part": "whole"
       },
       "id": "6ff8b1b4-9154-4199-84fa-33f9d968281a"
      },
      "83c98357-157e-4a1f-a76f-d0b396306d4f": {
       "attrs": {
        "height": 0.4,
        "width": 0.8,
        "x": 0.1,
        "y": 0.5
       },
       "content": {
        "cell": "95a06dd6-07a2-423a-929c-aa1b046c1b11",
        "part": "whole"
       },
       "id": "83c98357-157e-4a1f-a76f-d0b396306d4f"
      },
      "89109a43-a125-4b4e-b8e8-71cabc620fa0": {
       "attrs": {
        "height": 0.4,
        "width": 0.8,
        "x": 0.1,
        "y": 0.5
       },
       "content": {
        "cell": "f3c1746e-4236-45e4-9849-55133d08c7e3",
        "part": "whole"
       },
       "id": "89109a43-a125-4b4e-b8e8-71cabc620fa0"
      },
      "8a4b5f61-77a1-4a39-85d1-5e4135bff9b6": {
       "attrs": {
        "height": 0.8,
        "width": 0.8,
        "x": 0.1,
        "y": 0.1
       },
       "content": {
        "cell": "256f1747-2548-47b6-97e2-051d435a0f53",
        "part": "whole"
       },
       "id": "8a4b5f61-77a1-4a39-85d1-5e4135bff9b6"
      },
      "98659134-0c83-4e95-b77e-cc88510a3d5f": {
       "attrs": {
        "height": 0.4,
        "width": 0.8,
        "x": 0.1,
        "y": 0.5
       },
       "content": {
        "cell": "1f2dceeb-f08f-4894-8433-260956e571f2",
        "part": "whole"
       },
       "id": "98659134-0c83-4e95-b77e-cc88510a3d5f"
      },
      "c24d551b-1015-4985-ba39-09a0486542cd": {
       "attrs": {
        "height": 0.4,
        "width": 0.8,
        "x": 0.1,
        "y": 0.5
       },
       "content": {
        "cell": "a50f85b8-a51a-4555-802d-0d0822a59ad3",
        "part": "whole"
       },
       "id": "c24d551b-1015-4985-ba39-09a0486542cd"
      },
      "c2f27365-353d-4f5c-917b-c1d2a020083b": {
       "attrs": {
        "height": 0.4,
        "width": 0.8,
        "x": 0.1,
        "y": 0.5
       },
       "content": {
        "cell": "f3318c2a-024f-4294-af42-8062b373c241",
        "part": "whole"
       },
       "id": "c2f27365-353d-4f5c-917b-c1d2a020083b"
      },
      "d5067ccb-aea2-4f92-9e26-330dd4feb846": {
       "attrs": {
        "height": 0.4,
        "width": 0.8,
        "x": 0.1,
        "y": 0.5
       },
       "content": {
        "cell": "ca54d50c-3369-4261-bfcf-74f61538303e",
        "part": "whole"
       },
       "id": "d5067ccb-aea2-4f92-9e26-330dd4feb846"
      },
      "d63be773-c8c2-49d4-a849-3494dffc8fff": {
       "attrs": {
        "height": 0.4,
        "width": 0.8,
        "x": 0.1,
        "y": 0.5
       },
       "content": {
        "cell": "1cefab28-c321-423f-bbc3-8bc4018fb849",
        "part": "whole"
       },
       "id": "d63be773-c8c2-49d4-a849-3494dffc8fff"
      },
      "dca4e698-a1a3-44fb-915a-3a83cf836c45": {
       "attrs": {
        "height": 0.4,
        "width": 0.8,
        "x": 0.1,
        "y": 0.5
       },
       "content": {
        "cell": "a58156c7-8378-42b9-b05f-edc02674c066",
        "part": "whole"
       },
       "id": "dca4e698-a1a3-44fb-915a-3a83cf836c45"
      },
      "fcf73e01-ac73-49f3-88b5-8d2d9bd619b0": {
       "attrs": {
        "height": 0.4,
        "width": 0.8,
        "x": 0.1,
        "y": 0.5
       },
       "content": {
        "cell": "31e0a3fe-eedb-4467-8a34-a573daccc81f",
        "part": "whole"
       },
       "id": "fcf73e01-ac73-49f3-88b5-8d2d9bd619b0"
      },
      "fd16cd8d-0994-4db4-9703-7cf3383db640": {
       "attrs": {
        "height": 0.4,
        "width": 0.8,
        "x": 0.1,
        "y": 0.5
       },
       "content": {
        "cell": "191ab12e-9042-48dd-88b5-786615ea198d",
        "part": "whole"
       },
       "id": "fd16cd8d-0994-4db4-9703-7cf3383db640"
      }
     }
    },
    "5956f6ec-fa48-4408-a0d0-b400ebdf7c74": {
     "id": "5956f6ec-fa48-4408-a0d0-b400ebdf7c74",
     "prev": "81c6a365-dba6-437b-998a-acfa38fa7eb2",
     "regions": {
      "40efe847-64ac-41df-957b-01a13f8b9963": {
       "attrs": {
        "height": 0.8,
        "width": 0.8,
        "x": 0.1,
        "y": 0.1
       },
       "content": {
        "cell": "d52073c0-a871-4bed-aab5-77f0514d8031",
        "part": "whole"
       },
       "id": "40efe847-64ac-41df-957b-01a13f8b9963"
      },
      "d8b22093-e9b2-482b-a452-988b71602f7c": {
       "attrs": {
        "height": 0.4,
        "width": 0.8,
        "x": 0.1,
        "y": 0.5
       },
       "content": {
        "cell": "d89f0121-0c7c-4b75-8807-b4707ae468f0",
        "part": "whole"
       },
       "id": "d8b22093-e9b2-482b-a452-988b71602f7c"
      }
     }
    },
    "81c6a365-dba6-437b-998a-acfa38fa7eb2": {
     "id": "81c6a365-dba6-437b-998a-acfa38fa7eb2",
     "prev": "4cab0740-2171-470e-9e99-b5c208a46636",
     "regions": {
      "d9b320a4-9290-452a-988a-ad49c7ab9d69": {
       "attrs": {
        "height": 0.8,
        "width": 0.8,
        "x": 0.1,
        "y": 0.1
       },
       "content": {
        "cell": "44b6aa0a-4f02-42b2-8aa1-40370671ff15",
        "part": "whole"
       },
       "id": "d9b320a4-9290-452a-988a-ad49c7ab9d69"
      }
     }
    },
    "822a9439-4fd8-43b4-8faa-7fd7a4889424": {
     "id": "822a9439-4fd8-43b4-8faa-7fd7a4889424",
     "prev": "f094fd9f-677b-461e-a9f4-c1514c4974e9",
     "regions": {
      "95d4e86b-51d8-4d43-9ea9-92d76ce78d3b": {
       "attrs": {
        "height": 0.8,
        "width": 0.8,
        "x": 0.1,
        "y": 0.1
       },
       "content": {
        "cell": "adecdecf-3fae-4cbe-924a-f771e1472170",
        "part": "whole"
       },
       "id": "95d4e86b-51d8-4d43-9ea9-92d76ce78d3b"
      }
     }
    },
    "8a36bdbb-f784-456c-9c16-aa88631e0226": {
     "id": "8a36bdbb-f784-456c-9c16-aa88631e0226",
     "prev": "822a9439-4fd8-43b4-8faa-7fd7a4889424",
     "regions": {
      "ceb58d0c-5256-4b9f-b2ca-82ea6ca3dfb3": {
       "attrs": {
        "height": 0.8,
        "width": 0.8,
        "x": 0.1,
        "y": 0.1
       },
       "content": {
        "cell": "ea818d06-7843-49d1-8f41-c72400fcb45c",
        "part": "whole"
       },
       "id": "ceb58d0c-5256-4b9f-b2ca-82ea6ca3dfb3"
      }
     }
    },
    "8abe55f1-aeb9-4f3b-9647-826c3c5c5eb8": {
     "id": "8abe55f1-aeb9-4f3b-9647-826c3c5c5eb8",
     "prev": "16fa30ee-1d7e-4f43-8365-3994b6ed36a8",
     "regions": {
      "5883ca9e-a41e-4a67-a30e-41f04e672f09": {
       "attrs": {
        "height": 0.4,
        "width": 0.8,
        "x": 0.1,
        "y": 0.5
       },
       "content": {
        "cell": "7e7e0d3c-2a00-4e2d-8981-ace7238f0b97",
        "part": "whole"
       },
       "id": "5883ca9e-a41e-4a67-a30e-41f04e672f09"
      },
      "c0a83654-bc17-4e8c-96e3-858c8d695561": {
       "attrs": {
        "height": 0.8,
        "width": 0.8,
        "x": 0.1,
        "y": 0.1
       },
       "content": {
        "cell": "7dd1ca3f-a372-4072-9857-94ddbbc9ae03",
        "part": "whole"
       },
       "id": "c0a83654-bc17-4e8c-96e3-858c8d695561"
      }
     }
    },
    "aeb6875a-4ea0-45ab-abdb-2cf4daf7ad9a": {
     "id": "aeb6875a-4ea0-45ab-abdb-2cf4daf7ad9a",
     "prev": "3713f2d9-f7fb-45ee-b9c7-f54435c791e2",
     "regions": {
      "da27c6dc-1026-4e8e-8d22-fb3dea23b0e7": {
       "attrs": {
        "height": 0.8,
        "width": 0.8,
        "x": 0.1,
        "y": 0.1
       },
       "content": {
        "cell": "db66e259-97ad-42ef-a9d4-7edb1f40ab9d",
        "part": "whole"
       },
       "id": "da27c6dc-1026-4e8e-8d22-fb3dea23b0e7"
      }
     }
    },
    "b72164a6-d71e-401c-8802-bddaad80f904": {
     "id": "b72164a6-d71e-401c-8802-bddaad80f904",
     "prev": "2b0e9ac9-aade-4454-b430-35240525f60f",
     "regions": {
      "ae7f55d3-977b-4869-b73b-adcde2189c7c": {
       "attrs": {
        "height": 0.8,
        "width": 0.8,
        "x": 0.1,
        "y": 0.1
       },
       "content": {
        "cell": "0b906ef0-cb14-4024-b76c-57cc10b7c6ec",
        "part": "whole"
       },
       "id": "ae7f55d3-977b-4869-b73b-adcde2189c7c"
      }
     }
    },
    "c12efa03-d7cc-4b62-bb40-af27fa139fbb": {
     "id": "c12efa03-d7cc-4b62-bb40-af27fa139fbb",
     "prev": "b72164a6-d71e-401c-8802-bddaad80f904",
     "regions": {
      "e64b9133-8ec2-47c9-b6dd-d5ca31620485": {
       "attrs": {
        "height": 0.8,
        "width": 0.8,
        "x": 0.1,
        "y": 0.1
       },
       "content": {
        "cell": "142cbc80-7592-4584-bebe-b56b5767fa9f",
        "part": "whole"
       },
       "id": "e64b9133-8ec2-47c9-b6dd-d5ca31620485"
      }
     }
    },
    "dc8bd225-4da4-4a36-888a-63345625cfac": {
     "id": "dc8bd225-4da4-4a36-888a-63345625cfac",
     "prev": "e4b6904d-f2df-4928-bed7-38d942ebf43d",
     "regions": {
      "58717af3-8936-4361-b91a-f08fe4ac5b9f": {
       "attrs": {
        "height": 0.8,
        "width": 0.8,
        "x": 0.1,
        "y": 0.1
       },
       "content": {
        "cell": "caba240f-096b-4ab7-8695-ffd9ab9587d8",
        "part": "whole"
       },
       "id": "58717af3-8936-4361-b91a-f08fe4ac5b9f"
      }
     }
    },
    "dd65f256-4375-428d-8c7c-1336ffa82e51": {
     "id": "dd65f256-4375-428d-8c7c-1336ffa82e51",
     "prev": "f8f80794-864a-4440-9310-50b7d4ff2a38",
     "regions": {
      "52383c01-8be2-48a9-bf0c-d9e4ffbd5b02": {
       "attrs": {
        "height": 0.8,
        "width": 0.8,
        "x": 0.1,
        "y": 0.1
       },
       "content": {
        "cell": "8d8c0abd-8dee-47c3-91be-b8c1d712a6a0",
        "part": "whole"
       },
       "id": "52383c01-8be2-48a9-bf0c-d9e4ffbd5b02"
      }
     }
    },
    "e4b6904d-f2df-4928-bed7-38d942ebf43d": {
     "id": "e4b6904d-f2df-4928-bed7-38d942ebf43d",
     "prev": "f2e7b630-0d95-407c-8e98-744d36c56952",
     "regions": {
      "be607cc3-f26d-4610-84f6-0e279a1bc4ac": {
       "attrs": {
        "height": 0.8,
        "width": 0.8,
        "x": 0.1,
        "y": 0.1
       },
       "content": {
        "cell": "7638f572-4bae-4b96-adb0-1fae64570d7e",
        "part": "whole"
       },
       "id": "be607cc3-f26d-4610-84f6-0e279a1bc4ac"
      }
     }
    },
    "f094fd9f-677b-461e-a9f4-c1514c4974e9": {
     "id": "f094fd9f-677b-461e-a9f4-c1514c4974e9",
     "prev": "dc8bd225-4da4-4a36-888a-63345625cfac",
     "regions": {
      "8fab4ad5-5396-4f4d-8af7-f1879b6b8e1e": {
       "attrs": {
        "height": 0.8,
        "width": 0.8,
        "x": 0.1,
        "y": 0.1
       },
       "content": {
        "cell": "b87321af-d1fb-4087-b1c1-3416ddc3e825",
        "part": "whole"
       },
       "id": "8fab4ad5-5396-4f4d-8af7-f1879b6b8e1e"
      }
     }
    },
    "f2e7b630-0d95-407c-8e98-744d36c56952": {
     "id": "f2e7b630-0d95-407c-8e98-744d36c56952",
     "prev": "1cca9be6-223a-4a5b-9707-c9f192485ab9",
     "regions": {
      "a4dfda0d-382a-4bf1-9f84-2c8b34387f8e": {
       "attrs": {
        "height": 0.8,
        "width": 0.8,
        "x": 0.1,
        "y": 0.1
       },
       "content": {
        "cell": "7c0509c4-3df6-4249-87d6-8b033b3657ee",
        "part": "whole"
       },
       "id": "a4dfda0d-382a-4bf1-9f84-2c8b34387f8e"
      },
      "a57128af-9b92-4741-b61f-cc4cdae5b36b": {
       "attrs": {
        "height": 0.4,
        "width": 0.8,
        "x": 0.1,
        "y": 0.5
       },
       "content": {
        "cell": "dedbb0df-23b8-429b-aa79-a5ddbac3a40c",
        "part": "whole"
       },
       "id": "a57128af-9b92-4741-b61f-cc4cdae5b36b"
      },
      "ab48348e-6ba8-4a9d-982b-fc757779c7ee": {
       "attrs": {
        "height": 0.4,
        "width": 0.8,
        "x": 0.1,
        "y": 0.5
       },
       "content": {
        "cell": "3d29f057-eb27-41a6-902d-78c33d4769f7",
        "part": "whole"
       },
       "id": "ab48348e-6ba8-4a9d-982b-fc757779c7ee"
      }
     }
    },
    "f45f4adf-9269-4537-896d-2a4da0c01289": {
     "id": "f45f4adf-9269-4537-896d-2a4da0c01289",
     "prev": "aeb6875a-4ea0-45ab-abdb-2cf4daf7ad9a",
     "regions": {
      "81efb807-e109-45e8-9ddf-30eb49c89e24": {
       "attrs": {
        "height": 0.8,
        "width": 0.8,
        "x": 0.1,
        "y": 0.1
       },
       "content": {
        "cell": "14ff4504-1e30-4a47-8d6d-b514a9eb6869",
        "part": "whole"
       },
       "id": "81efb807-e109-45e8-9ddf-30eb49c89e24"
      }
     }
    },
    "f8f80794-864a-4440-9310-50b7d4ff2a38": {
     "id": "f8f80794-864a-4440-9310-50b7d4ff2a38",
     "prev": "4fc2f5c6-f0a7-4acc-a94e-9cf57c7bd2c8",
     "regions": {
      "dfb2e548-c607-4ae8-8f1e-e0ebc696986d": {
       "attrs": {
        "height": 0.8,
        "width": 0.8,
        "x": 0.1,
        "y": 0.1
       },
       "content": {
        "cell": "92b85c3a-29de-4cd2-ad18-a218b0e718b6",
        "part": "whole"
       },
       "id": "dfb2e548-c607-4ae8-8f1e-e0ebc696986d"
      }
     }
    },
    "fd14396f-871d-4acc-8bc7-0b5318ba394a": {
     "id": "fd14396f-871d-4acc-8bc7-0b5318ba394a",
     "prev": "dd65f256-4375-428d-8c7c-1336ffa82e51",
     "regions": {
      "1bc58dd5-cb9c-49ec-8d63-2ff111a76e29": {
       "attrs": {
        "height": 0.8,
        "width": 0.8,
        "x": 0.1,
        "y": 0.1
       },
       "content": {
        "cell": "ac78d922-891e-4e49-af30-9690c44456a0",
        "part": "whole"
       },
       "id": "1bc58dd5-cb9c-49ec-8d63-2ff111a76e29"
      }
     }
    }
   },
   "themes": {}
  },
  "toc": {
   "base_numbering": 1,
   "nav_menu": {},
   "number_sections": false,
   "sideBar": true,
   "skip_h1_title": false,
   "title_cell": "Table of Contents",
   "title_sidebar": "Contents",
   "toc_cell": false,
   "toc_position": {},
   "toc_section_display": "block",
   "toc_window_display": false
  }
 },
 "nbformat": 4,
 "nbformat_minor": 2
}
