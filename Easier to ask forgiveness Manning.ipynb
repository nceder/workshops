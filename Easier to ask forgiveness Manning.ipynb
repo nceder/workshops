{
 "cells": [
  {
   "cell_type": "markdown",
   "metadata": {
    "slideshow": {
     "slide_type": "slide"
    }
   },
   "source": [
    "# It really is easier to ask forgiveness <br>(than permission)\n",
    "\n",
    "### July 14, 2020\n",
    "\n",
    "### Naomi Ceder, @naomiceder\n",
    "\n",
    "- **Quick Python Book, 3rd ed**\n",
    "\n"
   ]
  },
  {
   "cell_type": "markdown",
   "metadata": {
    "slideshow": {
     "slide_type": "slide"
    }
   },
   "source": [
    "## Introduction\n",
    "\n",
    "* I'm a language nerd - human languages (but computer languages, too)\n",
    "* Every language has its way of doing things\n",
    "   * It's not just vocabulary (Google Translate Sings)\n",
    "   * the way of thinking about things/expressing things is differs from language to language\n"
   ]
  },
  {
   "cell_type": "markdown",
   "metadata": {
    "slideshow": {
     "slide_type": "slide"
    }
   },
   "source": [
    "### Computer languages aren't as complex as human languages, but the same thing is true - \n",
    "\n",
    "the structures of the language control how you think about something."
   ]
  },
  {
   "cell_type": "markdown",
   "metadata": {
    "slideshow": {
     "slide_type": "slide"
    }
   },
   "source": [
    "## What happens when things go wrong?\n",
    "\n",
    "* Bad values\n",
    "* Bad logic\n",
    "* Unavailable resources \n",
    "* Etc"
   ]
  },
  {
   "cell_type": "markdown",
   "metadata": {
    "slideshow": {
     "slide_type": "slide"
    }
   },
   "source": [
    "## You can also think of them as\n",
    "* compile time - syntax errors, type errors (with static typing)\n",
    "* run time - resource errors, errors from external processes, type errors (with dynamic typing)\n",
    "\n",
    "**or**\n",
    "\n",
    "* unrecoverable errors - syntax errors, type errors (with static typing)\n",
    "* recoverable errors - resource errors, errors from external processes, type errors (with dynamic typing)"
   ]
  },
  {
   "cell_type": "markdown",
   "metadata": {
    "slideshow": {
     "slide_type": "slide"
    }
   },
   "source": [
    "## How does a language approach handling errors?\n",
    "However you look at them, the approach a language takes to handling errors is an important part of how the language works; \n",
    "\n",
    "it influences the structure and flow of the code. "
   ]
  },
  {
   "cell_type": "markdown",
   "metadata": {
    "slideshow": {
     "slide_type": "slide"
    }
   },
   "source": [
    "## perl - do or die\n",
    "\n",
    "```\n",
    "open(DATA, $file) || die \"Error: Couldn't open the file $!\";\n",
    "```\n",
    "\n",
    "```\n",
    "die \"Error: Can't change directory!: $!\" unless(chdir(\"/etc\"));\n",
    "```\n"
   ]
  },
  {
   "cell_type": "markdown",
   "metadata": {
    "slideshow": {
     "slide_type": "slide"
    }
   },
   "source": [
    "## C\n",
    "\n",
    "* return value\n",
    "```\n",
    "    char *ptr = malloc(2000000000UL);\n",
    "    if (ptr == NULL) {\n",
    "        perror(\"malloc failed\");\n",
    "```\n",
    "* errno\n",
    "```\n",
    "    fp = fopen(\"my_file.txt\", \"r\"); \n",
    "    printf(\" Value of errno: %d\\n \", errno); \n",
    "```\n",
    "* setjmp / longjmp\n",
    "\n",
    "* segfault\n",
    "\n"
   ]
  },
  {
   "cell_type": "markdown",
   "metadata": {
    "slideshow": {
     "slide_type": "slide"
    }
   },
   "source": [
    "## C++\n",
    "* Exceptions, but a lot of LBYL checking"
   ]
  },
  {
   "cell_type": "code",
   "execution_count": null,
   "metadata": {
    "slideshow": {
     "slide_type": "fragment"
    }
   },
   "outputs": [],
   "source": [
    "   // Some code \n",
    "   cout << \"Before try \\n\"; \n",
    "   try { \n",
    "      cout << \"Inside try \\n\"; \n",
    "      if (x < 0) \n",
    "      { \n",
    "         throw x; // just simulating an error... \n",
    "         cout << \"After throw (Never executed) \\n\"; \n",
    "      } \n",
    "   } \n",
    "   catch (int x ) { \n",
    "      cout << \"Exception Caught \\n\"; \n",
    "   }   \n",
    "  \n",
    "   cout << \"After catch (Will be executed) \\n\"; \n",
    "   return 0; "
   ]
  },
  {
   "cell_type": "markdown",
   "metadata": {
    "slideshow": {
     "slide_type": "slide"
    }
   },
   "source": [
    "## Java\n",
    "\n",
    "* Exceptions, but a lot of LBYL checking\n",
    "* \"checked\" (or \"catch or specify\") and \"unchecked\" exceptions\n",
    "\n"
   ]
  },
  {
   "cell_type": "code",
   "execution_count": null,
   "metadata": {
    "slideshow": {
     "slide_type": "fragment"
    }
   },
   "outputs": [],
   "source": [
    "   public static void main(String[] args) { \n",
    "        try {\n",
    "            FileReader file = new FileReader(\"a.txt\"); \n",
    "            BufferedReader fileInput = new BufferedReader(file); \n",
    "          \n",
    "            // Print 3 lines \n",
    "            for (int counter = 0; counter < 3; counter++)  \n",
    "                System.out.println(fileInput.readLine()); \n",
    "          \n",
    "            fileInput.close(); \n",
    "        }\n",
    "         catch (IOException e) {\n",
    "            System.err.println(\"Caught IOException: \" + e.getMessage());\n",
    "        } \n",
    "    }\n",
    "  "
   ]
  },
  {
   "cell_type": "markdown",
   "metadata": {
    "slideshow": {
     "slide_type": "slide"
    }
   },
   "source": [
    "## Javascript\n",
    "* Exceptions (6 native types)\n",
    "* But you can throw *anything*\n",
    "\n"
   ]
  },
  {
   "cell_type": "code",
   "execution_count": null,
   "metadata": {
    "slideshow": {
     "slide_type": "fragment"
    }
   },
   "outputs": [],
   "source": [
    "### Errors in Javascript\n",
    "\n",
    "throw new Error();\n",
    "throw true;\n",
    "\n",
    "try{\n",
    "    document.getElementById(\"mydiv\").innerHTML='Success' //assuming \"mydiv\" is undefined\n",
    "}\n",
    "catch(e){\n",
    "    if (e.name.toString() == \"TypeError\"){ //evals to true in this case\n",
    "        //do something\n",
    "    }\n",
    "}\n"
   ]
  },
  {
   "cell_type": "markdown",
   "metadata": {
    "slideshow": {
     "slide_type": "slide"
    }
   },
   "source": [
    "## Go\n",
    "\n",
    "* return result, error separately"
   ]
  },
  {
   "cell_type": "code",
   "execution_count": null,
   "metadata": {
    "slideshow": {
     "slide_type": "fragment"
    }
   },
   "outputs": [],
   "source": [
    "   var err error\n",
    "   var a string\n",
    "   a, err = GetA()\n",
    "   if err == nil {\n",
    "      var b string\n",
    "      b, err = GetB(a)\n",
    "      if err == nil {\n",
    "         var c string\n",
    "         c, err = GetC(b)\n",
    "         if err == nil {\n",
    "            return c, nil\n",
    "         }\n",
    "      }\n",
    "   }\n",
    "   return nil, err\n"
   ]
  },
  {
   "cell_type": "markdown",
   "metadata": {
    "slideshow": {
     "slide_type": "slide"
    }
   },
   "source": [
    "## They all have their advantages... and disadvantages... \n",
    "\n",
    "And reflect the nature of the language."
   ]
  },
  {
   "cell_type": "markdown",
   "metadata": {
    "slideshow": {
     "slide_type": "slide"
    }
   },
   "source": [
    "## What about Python?"
   ]
  },
  {
   "cell_type": "markdown",
   "metadata": {
    "slideshow": {
     "slide_type": "slide"
    }
   },
   "source": [
    "### Python's approach is to embrace, rather than to avoid, exceptions\n",
    "\n",
    "* EAFP - Easier to Ask Forgiveness than Permission\n",
    "* contrast with, say, Java - LBYL \"Look Before You Leap\""
   ]
  },
  {
   "cell_type": "markdown",
   "metadata": {
    "slideshow": {
     "slide_type": "slide"
    }
   },
   "source": [
    "## This approach makes sense for Python because... \n",
    "* Simpler, easier to read code\n",
    "* Duck typing\n",
    "* Late binding of variables (types)"
   ]
  },
  {
   "cell_type": "markdown",
   "metadata": {
    "slideshow": {
     "slide_type": "slide"
    }
   },
   "source": [
    "### description of Python exceptions\n",
    "\n",
    "`try:`\n",
    "\n",
    "    Followed by block of code\n",
    "\n",
    "`except <Exception class> as e:`\n",
    "\n",
    "    Exception handling block\n",
    "\n",
    "`else:`\n",
    "\n",
    "    Block that executes if no exception is raised\n",
    "\n",
    "`finally:`\n",
    "\n",
    "    Block that is always executed, e.g., to close a file\n",
    "\n",
    "You can also deliberately raise any exception:\n",
    "`raise <subclass of BaseException>`"
   ]
  },
  {
   "cell_type": "code",
   "execution_count": 40,
   "metadata": {
    "scrolled": true,
    "slideshow": {
     "slide_type": "slide"
    }
   },
   "outputs": [
    {
     "name": "stdout",
     "output_type": "stream",
     "text": [
      "running code\n",
      "in exception block\n",
      "this always executes\n"
     ]
    }
   ],
   "source": [
    "try:\n",
    "    print(\"running code\")\n",
    "    raise Exception\n",
    "    \n",
    "except Exception as e:\n",
    "    print(\"in exception block\")\n",
    "\n",
    "else:\n",
    "    print(\"this executes if no exception\")\n",
    "    \n",
    "finally:\n",
    "    print(\"this always executes\")\n",
    "    \n"
   ]
  },
  {
   "cell_type": "markdown",
   "metadata": {
    "slideshow": {
     "slide_type": "slide"
    }
   },
   "source": [
    "### Exceptions and inheritance\n",
    "\n",
    "* exceptions became classes in Python 1.5 (1997)\n",
    "* only objects which are subclasses of `BaseException` can be raised (since Python 3)\n",
    "* most exceptions are subclasses of `Exception`\n",
    "* bare `except:` traps `Exception`\n",
    "* `SystemExit`, `ExitGenerator`, and `KeyBoardInterrupt` inherit from `BaseException`, since they might not want to be trapped by a bare `except:`\n",
    "* subclassing allows more precise catching of exceptions"
   ]
  },
  {
   "cell_type": "code",
   "execution_count": 41,
   "metadata": {
    "scrolled": true,
    "slideshow": {
     "slide_type": "slide"
    }
   },
   "outputs": [
    {
     "ename": "Exception",
     "evalue": "Error occurred",
     "output_type": "error",
     "traceback": [
      "\u001b[0;31m---------------------------------------------------------------------------\u001b[0m",
      "\u001b[0;31mException\u001b[0m                                 Traceback (most recent call last)",
      "\u001b[0;32m<ipython-input-41-f31826022bcc>\u001b[0m in \u001b[0;36m<module>\u001b[0;34m()\u001b[0m\n\u001b[0;32m----> 1\u001b[0;31m \u001b[0;32mraise\u001b[0m \u001b[0mException\u001b[0m\u001b[0;34m(\u001b[0m\u001b[0;34m\"Error occurred\"\u001b[0m\u001b[0;34m)\u001b[0m\u001b[0;34m\u001b[0m\u001b[0m\n\u001b[0m",
      "\u001b[0;31mException\u001b[0m: Error occurred"
     ]
    }
   ],
   "source": [
    "raise Exception(\"Error occurred\")"
   ]
  },
  {
   "cell_type": "code",
   "execution_count": null,
   "metadata": {
    "slideshow": {
     "slide_type": "slide"
    }
   },
   "outputs": [],
   "source": [
    "### Exception Class Hierarchy\n",
    "\"\"\"\n",
    "BaseException\n",
    " +-- SystemExit\n",
    " +-- KeyboardInterrupt\n",
    " +-- GeneratorExit\n",
    " +-- Exception\n",
    "      +-- StopIteration\n",
    "      +-- StopAsyncIteration\n",
    "      +-- ArithmeticError\n",
    "      |    +-- FloatingPointError\n",
    "      |    +-- OverflowError\n",
    "      |    +-- ZeroDivisionError\n",
    "      +-- AssertionError\n",
    "      +-- AttributeError\n",
    "      +-- BufferError\n",
    "      +-- EOFError\n",
    "      +-- ImportError\n",
    "      |    +-- ModuleNotFoundError \n",
    "      +-- LookupError\n",
    "      |    +-- IndexError\n",
    "      |    +-- KeyError \n",
    "      +-- MemoryError\n",
    "      +-- NameError\n",
    "      |    +-- UnboundLocalError\n",
    "      +-- OSError\n",
    "      |    +-- BlockingIOError\n",
    "      |    +-- ChildProcessError\n",
    "      |    +-- ConnectionError\n",
    "      |    |    +-- BrokenPipeError\n",
    "      |    |    +-- ConnectionAbortedError\n",
    "      |    |    +-- ConnectionRefusedError\n",
    "      |    |    +-- ConnectionResetError\n",
    "      |    +-- FileExistsError\n",
    "      |    +-- FileNotFoundError\n",
    "      |    +-- InterruptedError\n",
    "      |    +-- IsADirectoryError\n",
    "      |    +-- NotADirectoryError\n",
    "      |    +-- PermissionError\n",
    "      |    +-- ProcessLookupError\n",
    "      |    +-- TimeoutError\n",
    "      +-- ReferenceError\n",
    "      +-- RuntimeError \n",
    "      |    +-- IndentationError\n",
    "      |         +-- TabError\n",
    "      +-- SystemError\n",
    "      +-- TypeError\n",
    "      +-- ValueError\n",
    "      |    +-- UnicodeError\n",
    "      |         +-- UnicodeDecodeError\n",
    "      |         +-- UnicodeEncodeError\n",
    "      |         +-- UnicodeTranslateError\n",
    "      +-- Warning\n",
    "           +-- DeprecationWarning\n",
    "           +-- PendingDeprecationWarning\n",
    "           +-- RuntimeWarning\n",
    "           +-- SyntaxWarning\n",
    "           +-- UserWarning\n",
    "           +-- FutureWarning\n",
    "           +-- ImportWarning\n",
    "           +-- UnicodeWarning\n",
    "           +-- BytesWarning\n",
    "           +-- ResourceWarning\n",
    "\"\"\""
   ]
  },
  {
   "cell_type": "markdown",
   "metadata": {
    "slideshow": {
     "slide_type": "slide"
    }
   },
   "source": [
    "### Sub-classing exceptions\n",
    "\n",
    "* easy to have exceptions that specific to a module/library/package\n",
    "* long, expensive, error prone, etc  processes\n",
    "* errors inside a chain of function calls and/or classes can be caught with more precision"
   ]
  },
  {
   "cell_type": "code",
   "execution_count": 45,
   "metadata": {
    "scrolled": true,
    "slideshow": {
     "slide_type": "slide"
    }
   },
   "outputs": [
    {
     "name": "stdout",
     "output_type": "stream",
     "text": [
      "MySpecialException\n"
     ]
    }
   ],
   "source": [
    "## Custom (sub-classed) exceptions\n",
    "class MySpecialException(Exception):\n",
    "    pass\n",
    "\n",
    "class MyEvenMoreSpecialException(MySpecialException):\n",
    "    pass\n",
    "\n",
    "try:\n",
    "    #raise Exception(\"Exception\")\n",
    "    raise MySpecialException(\"MySpecialException\")\n",
    "    #raise MyEvenMoreSpecialException(\"MyEvenMoreSpecialException\")\n",
    "except MyEvenMoreSpecialException as e:\n",
    "    print(e)"
   ]
  },
  {
   "cell_type": "markdown",
   "metadata": {
    "slideshow": {
     "slide_type": "slide"
    }
   },
   "source": [
    "### Remember\n",
    "   * often one of the built in exceptions will do just as well a specific subclass\n",
    "   * go for the best trade off of readability/functionality\n",
    "   * if an exception will be thrown out of the module/library, the code handling it will need to import the exception"
   ]
  },
  {
   "cell_type": "code",
   "execution_count": null,
   "metadata": {
    "scrolled": true,
    "slideshow": {
     "slide_type": "fragment"
    }
   },
   "outputs": [],
   "source": [
    "# library specific exceptions\n",
    "from my_library import SpecialClass, sub_library.ErrorOne, \n",
    "                       sub_library.ErrorTwo, sub_library.ErrorThree\n"
   ]
  },
  {
   "cell_type": "markdown",
   "metadata": {
    "slideshow": {
     "slide_type": "slide"
    }
   },
   "source": [
    "## Observations\n",
    "\n",
    "* Python has a very rich and well-developed system of exceptions\n",
    "* Errors can be specific and handled according to inheritance hierarchy\n",
    "* As an interpreted language, Python is suited to handle and recover from exceptions\n"
   ]
  },
  {
   "cell_type": "markdown",
   "metadata": {
    "slideshow": {
     "slide_type": "slide"
    }
   },
   "source": [
    "## Exceptions are more Pythonic than checking\n",
    "\n",
    "### Recommendations\n",
    "\n",
    "in general, catching an exception is preferred to checking a result if:\n",
    "* the exception is expected to be relatively infrequent\n",
    "* the exception thrown will be identifiable and specific\n",
    "* the code will be made easier to read..."
   ]
  },
  {
   "cell_type": "code",
   "execution_count": null,
   "metadata": {
    "scrolled": true,
    "slideshow": {
     "slide_type": "slide"
    }
   },
   "outputs": [],
   "source": [
    "# Avoiding exceptions\n",
    "\n",
    "for parameter in list_of_parameters:\n",
    "    result = database.query_operation(parameter)\n",
    "    if result:\n",
    "        print(result.count())\n",
    "    else:   \n",
    "        continue "
   ]
  },
  {
   "cell_type": "code",
   "execution_count": null,
   "metadata": {
    "scrolled": true,
    "slideshow": {
     "slide_type": "slide"
    }
   },
   "outputs": [],
   "source": [
    " # with exceptions\n",
    "for parameter in list_of_parameters:\n",
    "    try:\n",
    "        print(database.query_operation(parameter).count())\n",
    "    except AttributeError:\n",
    "        continue"
   ]
  },
  {
   "cell_type": "markdown",
   "metadata": {
    "slideshow": {
     "slide_type": "slide"
    }
   },
   "source": [
    "## Exception pitfalls\n",
    "* bare excepts\n",
    "* too many excepts\n",
    "* code block too large\n",
    "* poorly handled\n"
   ]
  },
  {
   "cell_type": "markdown",
   "metadata": {
    "slideshow": {
     "slide_type": "slide"
    }
   },
   "source": [
    "### Bare excepts\n",
    "* Will not catch SystemExit, KeyboardInterrupt, or GeneratorExit (subclasses of BaseException)\n",
    "* Will catch ALL subclasses of Exception, handle the same way\n",
    "* Not Pythonic, rare to want to handle all possible exceptions with same code"
   ]
  },
  {
   "cell_type": "code",
   "execution_count": 47,
   "metadata": {
    "scrolled": true,
    "slideshow": {
     "slide_type": "slide"
    }
   },
   "outputs": [
    {
     "name": "stdout",
     "output_type": "stream",
     "text": [
      "Enter an integer: 0\n",
      "An error occurred...\n"
     ]
    }
   ],
   "source": [
    "try:\n",
    "    x = int(input(\"Enter an integer: \"))\n",
    "    print(10/x)\n",
    "except:\n",
    "    print(\"An error occurred...\")"
   ]
  },
  {
   "cell_type": "markdown",
   "metadata": {
    "slideshow": {
     "slide_type": "slide"
    }
   },
   "source": [
    "### Too many excepts\n",
    "* make code harder to read "
   ]
  },
  {
   "cell_type": "code",
   "execution_count": null,
   "metadata": {
    "scrolled": true,
    "slideshow": {
     "slide_type": "slide"
    }
   },
   "outputs": [],
   "source": [
    "try:\n",
    "    filename = input(\"Input filename: \")\n",
    "except KeyBoardInterrupt as e:\n",
    "    print(\"user interrupt\")\n",
    "    sys.exit()\n",
    "\n",
    "try:\n",
    "    for line in open(filename):\n",
    "        try:\n",
    "            value = float(line.strip())\n",
    "        except ValueError as e:\n",
    "            value = 0\n",
    "        print(value)\n",
    "\n",
    "except FileNotFoundError as e:\n",
    "    # handle file not found\n",
    "    print(\"File not found\")"
   ]
  },
  {
   "cell_type": "markdown",
   "metadata": {
    "slideshow": {
     "slide_type": "slide"
    }
   },
   "source": [
    "### Code block too large\n",
    "* difficult to handle specific errors\n",
    "* location of error not specific"
   ]
  },
  {
   "cell_type": "code",
   "execution_count": null,
   "metadata": {
    "scrolled": true,
    "slideshow": {
     "slide_type": "slide"
    }
   },
   "outputs": [],
   "source": [
    "\"\"\" Reads a file and returns the number of lines, words,\n",
    "    and characters - similar to the UNIX wc utility\n",
    "\"\"\"\n",
    "import sys\n",
    "\n",
    "\n",
    "def main():\n",
    "    # initialze counts\n",
    "    try:\n",
    "        line_count = 0\n",
    "        word_count = 0\n",
    "        char_count = 0\n",
    "\n",
    "        option = None\n",
    "        params = sys.argv[1:]\n",
    "        if len(params) > 1:\n",
    "            # if more than one param, pop the first one as the option\n",
    "            option = params.pop(0).lower().strip()\n",
    "        filename = params[0]  # open the file\n",
    "        with open(filename) as infile:\n",
    "            for line in infile:\n",
    "                line_count += 1 \n",
    "                char_count += len(line)\n",
    "                words = line.split() \n",
    "                word_count += len(words)\n",
    "\n",
    "        if option == \"-c\":\n",
    "            print(\"File has {} characters\".format(char_count))\n",
    "        elif option == \"-w\":\n",
    "            print(\"File has {} words\".format(word_count))\n",
    "        elif option == \"-l\":\n",
    "            print(\"File has {} lines\".format(line_count))\n",
    "        else:\n",
    "            # print the answers using the format() method\n",
    "            print(\n",
    "                \"File has {0} lines, {1} words, {2} characters\".format(\n",
    "                    line_count, word_count, char_count\n",
    "                )\n",
    "            )\n",
    "    except FileNotFoundError as e:\n",
    "        # handle file not found\n",
    "        print(\"File not found\")\n",
    "    except UnicodeError as e:\n",
    "        # do something with unicode errors\n",
    "    except PermissionError as e:\n",
    "        print(\"You do  not have permission to read the file.\")\n",
    "  \n",
    "if __name__ == \"__main__\":\n",
    "    main()"
   ]
  },
  {
   "cell_type": "markdown",
   "metadata": {
    "slideshow": {
     "slide_type": "slide"
    }
   },
   "source": [
    "### Poorly handled\n",
    "* `pass` should be rare (maybe okay in debugging) "
   ]
  },
  {
   "cell_type": "code",
   "execution_count": null,
   "metadata": {
    "scrolled": true,
    "slideshow": {
     "slide_type": "slide"
    }
   },
   "outputs": [],
   "source": [
    "try:\n",
    "    filename = input(\"Input filename: \")\n",
    "    for line in open(filename):\n",
    "        value = float(line.strip())\n",
    "        print(value)\n",
    "except:\n",
    "    pass"
   ]
  },
  {
   "cell_type": "markdown",
   "metadata": {
    "slideshow": {
     "slide_type": "slide"
    }
   },
   "source": [
    "## Guidelines for using exceptions\n",
    "* Consider how often will the exception occur\n",
    "* Be thoughtful about what exceptions you're handling and how\n",
    "* Use built-in exceptions where it makes sense\n"
   ]
  },
  {
   "cell_type": "markdown",
   "metadata": {
    "slideshow": {
     "slide_type": "slide"
    }
   },
   "source": [
    "## Exceptions aren't just  for errors any more... \n",
    "\n"
   ]
  },
  {
   "cell_type": "markdown",
   "metadata": {
    "slideshow": {
     "slide_type": "slide"
    }
   },
   "source": [
    "## Thanks to the Harry Potter Theory...\n",
    "\n",
    "\n",
    "*I'm sure that when J.K. Rowling wrote the first Harry Potter book (planning it as the first of a series of seven) she had developed a fairly good idea of what kind of things might eventually happen in the series, but she didn't have the complete plot lines for the remaining books worked out, nor did she have every detail decided of how magic works in her world.*\n",
    "\n",
    "*I'm also assuming that as she wrote successive volumes, she occasionally went back to earlier books, picked out a detail that at the time was given just to add color (or should I say colour :-) to the story, and gave it new significance...*\n",
    "\n",
    "*In a similar vein, I had never thought of iterators or generators when I came up with Python's for-loop, or using % as a string formatting operator, and as a matter of fact, using 'def' for defining both methods and functions was not part of the initial plan either (although I like it!).*\n",
    "\n",
    "\n",
    "\n",
    "~ Guido van Rossum, The Harry Potter Theory of Programming Language Design  - https://www.artima.com/weblogs/viewpost.jsp?thread=123234"
   ]
  },
  {
   "cell_type": "markdown",
   "metadata": {
    "slideshow": {
     "slide_type": "slide"
    }
   },
   "source": [
    "### Exceptions are raised by all of the following code snippets\n",
    "\n",
    "How many of these are you aware of?\n",
    "\n",
    "What exception(s) are raised?"
   ]
  },
  {
   "cell_type": "code",
   "execution_count": 48,
   "metadata": {
    "scrolled": false,
    "slideshow": {
     "slide_type": "slide"
    }
   },
   "outputs": [
    {
     "ename": "SystemExit",
     "evalue": "0",
     "output_type": "error",
     "traceback": [
      "An exception has occurred, use %tb to see the full traceback.\n",
      "\u001b[0;31mSystemExit\u001b[0m\u001b[0;31m:\u001b[0m 0\n"
     ]
    },
    {
     "name": "stderr",
     "output_type": "stream",
     "text": [
      "/Users/naomi/.virtualenvs/jupyter/lib/python3.6/site-packages/IPython/core/interactiveshell.py:2971: UserWarning: To exit: use 'exit', 'quit', or Ctrl-D.\n",
      "  warn(\"To exit: use 'exit', 'quit', or Ctrl-D.\", stacklevel=1)\n"
     ]
    }
   ],
   "source": [
    "import sys\n",
    "\n",
    "sys.exit(0)"
   ]
  },
  {
   "cell_type": "code",
   "execution_count": 49,
   "metadata": {
    "slideshow": {
     "slide_type": "fragment"
    }
   },
   "outputs": [
    {
     "ename": "SystemExit",
     "evalue": "0",
     "output_type": "error",
     "traceback": [
      "An exception has occurred, use %tb to see the full traceback.\n",
      "\u001b[0;31mSystemExit\u001b[0m\u001b[0;31m:\u001b[0m 0\n"
     ]
    },
    {
     "name": "stderr",
     "output_type": "stream",
     "text": [
      "/Users/naomi/.virtualenvs/jupyter/lib/python3.6/site-packages/IPython/core/interactiveshell.py:2971: UserWarning: To exit: use 'exit', 'quit', or Ctrl-D.\n",
      "  warn(\"To exit: use 'exit', 'quit', or Ctrl-D.\", stacklevel=1)\n"
     ]
    }
   ],
   "source": [
    "raise SystemExit(0) "
   ]
  },
  {
   "cell_type": "markdown",
   "metadata": {
    "slideshow": {
     "slide_type": "slide"
    }
   },
   "source": [
    "### SystemExit\n",
    "* sys.exit() raises SystemExit exception\n",
    "* raise SystemExit has the same effect"
   ]
  },
  {
   "cell_type": "code",
   "execution_count": 50,
   "metadata": {
    "scrolled": false,
    "slideshow": {
     "slide_type": "slide"
    }
   },
   "outputs": [
    {
     "name": "stdout",
     "output_type": "stream",
     "text": [
      "1\n",
      "2\n",
      "3\n",
      "4\n"
     ]
    }
   ],
   "source": [
    "a_list = [1, 2, 3, 4]\n",
    "\n",
    "for i in a_list:\n",
    "    print(i)"
   ]
  },
  {
   "cell_type": "markdown",
   "metadata": {
    "slideshow": {
     "slide_type": "slide"
    }
   },
   "source": [
    "### StopIteration\n",
    "\n",
    "* Iterators raise a StopIteration exception to indicate that they are exhausted\n",
    "\n",
    "* Some iterables with sequence semantics can raise an IndexError to tell the iterator that the end of sequence has been reached"
   ]
  },
  {
   "cell_type": "code",
   "execution_count": 51,
   "metadata": {
    "scrolled": false,
    "slideshow": {
     "slide_type": "slide"
    }
   },
   "outputs": [
    {
     "name": "stdout",
     "output_type": "stream",
     "text": [
      "line 1\n",
      "\n",
      "line 2\n",
      "\n",
      "line 3\n",
      "\n"
     ]
    }
   ],
   "source": [
    "for line in open(\"text_file.txt\"):\n",
    "    print(line)\n"
   ]
  },
  {
   "cell_type": "markdown",
   "metadata": {
    "slideshow": {
     "slide_type": "slide"
    }
   },
   "source": [
    "### EOFError\n",
    "\n",
    "* Reading a file when there's nothing left to read raises an EOFError exception"
   ]
  },
  {
   "cell_type": "code",
   "execution_count": 53,
   "metadata": {
    "slideshow": {
     "slide_type": "slide"
    }
   },
   "outputs": [
    {
     "name": "stdout",
     "output_type": "stream",
     "text": [
      "Got 1\n",
      "Got 2\n",
      "Loop done\n"
     ]
    }
   ],
   "source": [
    "def num_gen():\n",
    "    numbers = [1, 2, 3, 4]\n",
    "    for number in numbers:\n",
    "        yield number\n",
    "    print(\"Last number was sent\")\n",
    "\n",
    "for number in num_gen():\n",
    "    print(\"Got\", number)\n",
    "    if number == 2:\n",
    "        break\n",
    "\n",
    "print(\"Loop done\")"
   ]
  },
  {
   "cell_type": "code",
   "execution_count": 55,
   "metadata": {
    "scrolled": true,
    "slideshow": {
     "slide_type": "slide"
    }
   },
   "outputs": [
    {
     "name": "stdout",
     "output_type": "stream",
     "text": [
      "Got 1\n",
      "Got 2\n",
      "GeneratorExit thrown\n",
      "Loop done\n"
     ]
    }
   ],
   "source": [
    "def num_gen():\n",
    "    numbers = [1, 2, 3, 4]\n",
    "    try:\n",
    "        for number in numbers:\n",
    "            yield number\n",
    "    except GeneratorExit:\n",
    "        print(\"GeneratorExit thrown\")\n",
    "        return\n",
    "    print(\"Last number was sent\")\n",
    "\n",
    "for number in num_gen():\n",
    "    print(\"Got\", number)\n",
    "    if number == 2:\n",
    "        break\n",
    "print(\"Loop done\")\n",
    "\n"
   ]
  },
  {
   "cell_type": "markdown",
   "metadata": {
    "slideshow": {
     "slide_type": "slide"
    }
   },
   "source": [
    "### GeneratorExit\n",
    "\n",
    "* generators raise StopIteration when exhausted, like other iterators\n",
    "* not \"finishing\" a generator object leaves it blocking after the latest yield... \n",
    "* when the generator object is \"finished\", generator.close() raises a GeneratorExit exception at the last yield"
   ]
  },
  {
   "cell_type": "code",
   "execution_count": 56,
   "metadata": {
    "slideshow": {
     "slide_type": "slide"
    }
   },
   "outputs": [
    {
     "name": "stdout",
     "output_type": "stream",
     "text": [
      "About to get attribute __str__\n",
      "<method-wrapper '__str__' of Foo object at 0x1068f51d0>\n",
      "About to get attribute bar\n",
      "This class has no attribute bar - raising AttributeException\n",
      "AttributeError raised when trying to get attribute bar\n",
      "You tried to get bar\n"
     ]
    }
   ],
   "source": [
    "class Foo:\n",
    "    def __getattribute__(self, attr):\n",
    "        try:\n",
    "            print(f\"About to get attribute {attr}\")\n",
    "            attr = super().__getattribute__(attr)\n",
    "        except AttributeError as e:\n",
    "            print(f\"This class has no attribute {attr} - raising AttributeException\")\n",
    "            raise e\n",
    "        return attr\n",
    "    \n",
    "    def __getattr__(self, attr):\n",
    "        print(f\"AttributeError raised when trying to get attribute {attr}\")\n",
    "        return f\"You tried to get {attr}\"\n",
    "        \n",
    "        \n",
    "foo = Foo()\n",
    "print(foo.__str__)\n",
    "print(foo.bar)\n"
   ]
  },
  {
   "cell_type": "code",
   "execution_count": 57,
   "metadata": {
    "slideshow": {
     "slide_type": "slide"
    }
   },
   "outputs": [
    {
     "name": "stdout",
     "output_type": "stream",
     "text": [
      "About to get attribute __str__\n",
      "<method-wrapper '__str__' of Foo object at 0x1068f5048>\n",
      "About to get attribute bar\n",
      "This class has no attribute bar - raising AttributeException\n",
      "AttributeError raised when trying to get attribute bar\n",
      "You tried to get bar\n"
     ]
    }
   ],
   "source": [
    "class Foo:\n",
    "    def __getattribute__(self, attr):\n",
    "        try:\n",
    "            print(f\"About to get attribute {attr}\")\n",
    "            attr = super().__getattribute__(attr)\n",
    "        except AttributeError as e:\n",
    "            print(f\"This class has no attribute {attr} - raising AttributeException\")\n",
    "            raise e\n",
    "        return attr\n",
    "    \n",
    "    def __getattr__(self, attr):\n",
    "        print(f\"AttributeError raised when trying to get attribute {attr}\")\n",
    "        return f\"You tried to get {attr}\"\n",
    "        \n",
    "        \n",
    "foo = Foo()\n",
    "print(foo.__str__)\n",
    "print(getattr(foo,\"bar\", \"bar\"))\n"
   ]
  },
  {
   "cell_type": "code",
   "execution_count": 58,
   "metadata": {
    "slideshow": {
     "slide_type": "slide"
    }
   },
   "outputs": [
    {
     "name": "stdout",
     "output_type": "stream",
     "text": [
      "About to get attribute __str__\n",
      "<method-wrapper '__str__' of Foo object at 0x1068f52b0>\n",
      "About to get attribute bar\n",
      "AttributeError raised when trying to get attribute bar\n",
      "You tried to get bar\n"
     ]
    }
   ],
   "source": [
    "class Foo:\n",
    "    def __getattribute__(self, attr):\n",
    "        print(f\"About to get attribute {attr}\")\n",
    "        attr = super().__getattribute__(attr)\n",
    "        return attr\n",
    "    \n",
    "    def __getattr__(self, attr):\n",
    "        print(f\"AttributeError raised when trying to get attribute {attr}\")\n",
    "        return f\"You tried to get {attr}\"\n",
    "        \n",
    "        \n",
    "foo = Foo()\n",
    "print(foo.__str__)\n",
    "print(getattr(foo,\"bar\", \"bar\"))\n"
   ]
  },
  {
   "cell_type": "markdown",
   "metadata": {
    "slideshow": {
     "slide_type": "slide"
    }
   },
   "source": [
    "### AttributeError\n",
    "\n",
    "* if `__getattribute__` doesn't find an attribute name and raises an AttributeError...\n",
    "* `__getattr__` is called and it should either compute/return the value or raise an AttributeError"
   ]
  },
  {
   "cell_type": "markdown",
   "metadata": {
    "slideshow": {
     "slide_type": "slide"
    }
   },
   "source": [
    "## What does all this mean?\n"
   ]
  },
  {
   "cell_type": "markdown",
   "metadata": {
    "slideshow": {
     "slide_type": "slide"
    }
   },
   "source": [
    "### In Python exceptions are used as form of flow control\n",
    "\n",
    "* when the exception condition is expected to be very infrequent compared to the other conditions\n",
    "* when the exception condition is rather different than the normal condition\n",
    "* when using an exception instead of checking for the error condition makes code simpler"
   ]
  },
  {
   "cell_type": "markdown",
   "metadata": {
    "slideshow": {
     "slide_type": "slide"
    }
   },
   "source": [
    "### But using so many exceptions just feels... *wrong*...\n",
    "\n",
    "* won't using a lot of exceptions hurt performance?\n",
    "* doesn't using exceptions make the code more complex? harder to reason about? harder to test?"
   ]
  },
  {
   "cell_type": "markdown",
   "metadata": {
    "slideshow": {
     "slide_type": "slide"
    }
   },
   "source": [
    "## But... what about performance?\n",
    "### Aren't exceptions expensive?"
   ]
  },
  {
   "cell_type": "markdown",
   "metadata": {
    "slideshow": {
     "slide_type": "slide"
    }
   },
   "source": [
    "### Exceptions ARE a bit slower, but...\n",
    "\n",
    "* they are optimized and are not as expensive as they were in, say, early C++\n",
    "* they occur so rarely that there is little cost\n",
    "* overall more Pythonic code tends to be faster"
   ]
  },
  {
   "cell_type": "code",
   "execution_count": 59,
   "metadata": {
    "slideshow": {
     "slide_type": "slide"
    }
   },
   "outputs": [],
   "source": [
    "class Count():\n",
    "    def __init__(self, count):\n",
    "        self.count = count\n",
    "    def __getitem__(self, key):\n",
    "        if 0 < key < self.count:\n",
    "            return key\n",
    "        else:\n",
    "            # IndexError raised to iterator\n",
    "            raise IndexError\n",
    "\n",
    "def test_count():\n",
    "    counter = Count(1000)\n",
    "    # iterator raises StopIteration to end interation\n",
    "    for i in counter:\n",
    "        x = i * i"
   ]
  },
  {
   "cell_type": "code",
   "execution_count": 60,
   "metadata": {
    "slideshow": {
     "slide_type": "slide"
    }
   },
   "outputs": [],
   "source": [
    "def test_while_loop():\n",
    "    i = 0\n",
    "    length = 1000\n",
    "    while i < length:\n",
    "        x = i * i\n",
    "        i += 1"
   ]
  },
  {
   "cell_type": "code",
   "execution_count": 61,
   "metadata": {
    "slideshow": {
     "slide_type": "slide"
    }
   },
   "outputs": [
    {
     "name": "stdout",
     "output_type": "stream",
     "text": [
      "39.1 µs ± 5.12 µs per loop (mean ± std. dev. of 7 runs, 10000 loops each)\n"
     ]
    }
   ],
   "source": [
    "%timeit test_count()"
   ]
  },
  {
   "cell_type": "code",
   "execution_count": 62,
   "metadata": {
    "scrolled": true,
    "slideshow": {
     "slide_type": "fragment"
    }
   },
   "outputs": [
    {
     "name": "stdout",
     "output_type": "stream",
     "text": [
      "2.7 ms ± 169 µs per loop (mean ± std. dev. of 7 runs, 1000 loops each)\n"
     ]
    }
   ],
   "source": [
    "%timeit test_while_loop()"
   ]
  },
  {
   "cell_type": "markdown",
   "metadata": {
    "slideshow": {
     "slide_type": "slide"
    }
   },
   "source": [
    "### Is using exceptions for flow control confusing/unreadable/somehow bad?\n",
    "\n",
    "* Exceptions are such an integral part of Python, that by the time you notice, they should be understandable, Pythonic, even\n",
    "* Used correctly they make the code more readable"
   ]
  },
  {
   "cell_type": "markdown",
   "metadata": {
    "slideshow": {
     "slide_type": "slide"
    }
   },
   "source": [
    "\n",
    "## Yes, (in Python) it really is easier to ask forgiveness than permission"
   ]
  }
 ],
 "metadata": {
  "celltoolbar": "Slideshow",
  "kernelspec": {
   "display_name": "Python 3",
   "language": "python",
   "name": "python3"
  },
  "language_info": {
   "codemirror_mode": {
    "name": "ipython",
    "version": 3
   },
   "file_extension": ".py",
   "mimetype": "text/x-python",
   "name": "python",
   "nbconvert_exporter": "python",
   "pygments_lexer": "ipython3",
   "version": "3.6.4"
  },
  "livereveal": {
   "scroll": true,
   "start_slideshow_at": "selected",
   "theme": "white",
   "transition": "none"
  },
  "toc": {
   "nav_menu": {},
   "number_sections": false,
   "sideBar": false,
   "skip_h1_title": false,
   "toc_cell": true,
   "toc_position": {
    "height": "40px",
    "left": "13px",
    "right": "20px",
    "top": "115px",
    "width": "212px"
   },
   "toc_section_display": "block",
   "toc_window_display": false
  }
 },
 "nbformat": 4,
 "nbformat_minor": 2
}
