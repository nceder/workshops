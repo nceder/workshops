{
 "cells": [
  {
   "cell_type": "markdown",
   "metadata": {
    "slideshow": {
     "slide_type": "skip"
    },
    "toc": true
   },
   "source": [
    "<h1>Table of Contents<span class=\"tocSkip\"></span></h1>\n",
    "<div class=\"toc\"><ul class=\"toc-item\"><li><ul class=\"toc-item\"><li><span><a href=\"#Tabela-de-conteúdo\" data-toc-modified-id=\"Tabela-de-conteúdo-0.1\">Tabela de conteúdo</a></span></li></ul></li><li><span><a href=\"#Na-verdade-é-mais-fácil-pedir-perdão-do-que-permissão\" data-toc-modified-id=\"Na-verdade-é-mais-fácil-pedir-perdão-do-que-permissão-1\">Na verdade é mais fácil pedir perdão do que permissão</a></span><ul class=\"toc-item\"><li><ul class=\"toc-item\"><li><span><a href=\"#Python-BR-2021\" data-toc-modified-id=\"Python-BR-2021-1.0.1\">Python BR 2021</a></span></li></ul></li></ul></li><li><span><a href=\"#Parabéns-pela-inclusão!\" data-toc-modified-id=\"Parabéns-pela-inclusão!-2\">Parabéns pela inclusão!</a></span><ul class=\"toc-item\"><li><span><a href=\"#Introdução\" data-toc-modified-id=\"Introdução-2.1\">Introdução</a></span><ul class=\"toc-item\"><li><span><a href=\"#Linguagens-de-programação-não-são-tão-complexas-como-línguas-humanas;\" data-toc-modified-id=\"Linguagens-de-programação-não-são-tão-complexas-como-línguas-humanas;-2.1.1\">Linguagens de programação não são tão complexas <br>como línguas humanas;</a></span><ul class=\"toc-item\"><li><span><a href=\"#mas-as-seguintes-coisas-são-verdadeiras-para-ambos\" data-toc-modified-id=\"mas-as-seguintes-coisas-são-verdadeiras-para-ambos-2.1.1.1\">mas as seguintes coisas são verdadeiras para ambos</a></span></li></ul></li></ul></li><li><span><a href=\"#Muitas-vezes-nosso-código-corre-errado...\" data-toc-modified-id=\"Muitas-vezes-nosso-código-corre-errado...-2.2\">Muitas vezes nosso código corre errado...</a></span><ul class=\"toc-item\"><li><span><a href=\"#Tambem-vocês-poderiam-dizer...\" data-toc-modified-id=\"Tambem-vocês-poderiam-dizer...-2.2.1\">Tambem vocês poderiam dizer...</a></span></li><li><span><a href=\"#Como-são-tratados-esses-erros?\" data-toc-modified-id=\"Como-são-tratados-esses-erros?-2.2.2\">Como são tratados esses erros?</a></span></li><li><span><a href=\"#perl---faça-ou-morra\" data-toc-modified-id=\"perl---faça-ou-morra-2.2.3\">perl - faça ou morra</a></span></li><li><span><a href=\"#Java\" data-toc-modified-id=\"Java-2.2.4\">Java</a></span></li><li><span><a href=\"#Javascript\" data-toc-modified-id=\"Javascript-2.2.5\">Javascript</a></span></li><li><span><a href=\"#Golang\" data-toc-modified-id=\"Golang-2.2.6\">Golang</a></span></li><li><span><a href=\"#Cada-linguagem-tem-suas-vantagens-e-desvantagens...\" data-toc-modified-id=\"Cada-linguagem-tem-suas-vantagens-e-desvantagens...-2.2.7\">Cada linguagem tem suas vantagens e desvantagens...</a></span></li></ul></li><li><span><a href=\"#e-Python?\" data-toc-modified-id=\"e-Python?-2.3\">e Python?</a></span><ul class=\"toc-item\"><li><span><a href=\"#Python-prefere-lidar-com-erros-em-vez-de-evitá-los\" data-toc-modified-id=\"Python-prefere-lidar-com-erros-em-vez-de-evitá-los-2.3.1\">Python prefere lidar com erros em vez de evitá-los</a></span></li><li><span><a href=\"#Esta-abordagem-é...\" data-toc-modified-id=\"Esta-abordagem-é...-2.3.2\">Esta abordagem é...</a></span></li><li><span><a href=\"#Exceções-em-Python\" data-toc-modified-id=\"Exceções-em-Python-2.3.3\">Exceções em Python</a></span></li><li><span><a href=\"#Exceções-e-herança\" data-toc-modified-id=\"Exceções-e-herança-2.3.4\">Exceções e herança</a></span></li></ul></li><li><span><a href=\"#As-exceções-não-são-mais-apenas-para-erros...\" data-toc-modified-id=\"As-exceções-não-são-mais-apenas-para-erros...-2.4\">As exceções não são mais apenas para erros...</a></span><ul class=\"toc-item\"><li><span><a href=\"#Graças-à-teoria-de-Harry-Potter...\" data-toc-modified-id=\"Graças-à-teoria-de-Harry-Potter...-2.4.1\">Graças à teoria de Harry Potter...</a></span></li><li><span><a href=\"#As-exceções-são-lançadas-em-todos-os-exemplos-abaixo\" data-toc-modified-id=\"As-exceções-são-lançadas-em-todos-os-exemplos-abaixo-2.4.2\">As exceções são lançadas em todos os exemplos abaixo</a></span></li><li><span><a href=\"#SystemExit\" data-toc-modified-id=\"SystemExit-2.4.3\">SystemExit</a></span></li><li><span><a href=\"#StopIteration-e-IndexError\" data-toc-modified-id=\"StopIteration-e-IndexError-2.4.4\">StopIteration e IndexError</a></span></li><li><span><a href=\"#EOFError\" data-toc-modified-id=\"EOFError-2.4.5\">EOFError</a></span></li><li><span><a href=\"#GeneratorExit\" data-toc-modified-id=\"GeneratorExit-2.4.6\">GeneratorExit</a></span></li><li><span><a href=\"#Em-Python,-as-exceções-são-usadas--como-uma-forma-de-controlar-o-fluxo\" data-toc-modified-id=\"Em-Python,-as-exceções-são-usadas--como-uma-forma-de-controlar-o-fluxo-2.4.7\">Em Python, as exceções são usadas <br> como uma forma de controlar o fluxo</a></span></li></ul></li><li><span><a href=\"#Mas-usar-tantas-exceções-é-algo-ruim,-né?\" data-toc-modified-id=\"Mas-usar-tantas-exceções-é-algo-ruim,-né?-2.5\">Mas usar tantas exceções é algo ruim, né?</a></span><ul class=\"toc-item\"><li><span><a href=\"#Usar-exceções-corretamente-é-Pythônico\" data-toc-modified-id=\"Usar-exceções-corretamente-é-Pythônico-2.5.1\">Usar exceções corretamente é Pythônico</a></span></li><li><span><a href=\"#Mas...-o-que-é-&quot;corretamente&quot;?\" data-toc-modified-id=\"Mas...-o-que-é-&quot;corretamente&quot;?-2.5.2\">Mas... o que é \"corretamente\"?</a></span></li><li><span><a href=\"#O-que-não-fazer...\" data-toc-modified-id=\"O-que-não-fazer...-2.5.3\">O que não fazer...</a></span></li><li><span><a href=\"#As-exceções-não-são-caras-e-lentas?\" data-toc-modified-id=\"As-exceções-não-são-caras-e-lentas?-2.5.4\">As exceções não são caras e lentas?</a></span></li><li><span><a href=\"#Sim,-as-exceções-podem-ser-um-pouco-mais-lentas,-mas...\" data-toc-modified-id=\"Sim,-as-exceções-podem-ser-um-pouco-mais-lentas,-mas...-2.5.5\">Sim, as exceções podem ser um pouco mais lentas, mas...</a></span></li></ul></li><li><span><a href=\"#O-que-tudo-isso-significa?\" data-toc-modified-id=\"O-que-tudo-isso-significa?-2.6\">O que tudo isso significa?</a></span></li><li><span><a href=\"#É-mais-Pythônico-usar-exceções-do-que-verificar-tipos,-resultados,-etc.\" data-toc-modified-id=\"É-mais-Pythônico-usar-exceções-do-que-verificar-tipos,-resultados,-etc.-2.7\">É mais Pythônico usar exceções <br>do que verificar tipos, resultados, etc.</a></span><ul class=\"toc-item\"><li><span><a href=\"#Também-é-Pythônico-usá-los-também-para-controlar-o-fluxo-de-execução\" data-toc-modified-id=\"Também-é-Pythônico-usá-los-também-para-controlar-o-fluxo-de-execução-2.7.1\">Também é Pythônico usá-los também para controlar o fluxo de execução</a></span></li></ul></li><li><span><a href=\"#Sim,-(em-Python)-realmente-é-mais-fácil-pedir-perdão-do-que-permissão\" data-toc-modified-id=\"Sim,-(em-Python)-realmente-é-mais-fácil-pedir-perdão-do-que-permissão-2.8\">Sim, (em Python) realmente é mais fácil pedir perdão do que permissão</a></span></li></ul></li><li><span><a href=\"#Obrigada!\" data-toc-modified-id=\"Obrigada!-3\">Obrigada!</a></span><ul class=\"toc-item\"><li><ul class=\"toc-item\"><li><span><a href=\"#Perguntas?\" data-toc-modified-id=\"Perguntas?-3.0.1\">Perguntas?</a></span></li></ul></li></ul></li></ul></div>"
   ]
  },
  {
   "cell_type": "markdown",
   "metadata": {
    "slideshow": {
     "slide_type": "skip"
    }
   },
   "source": [
    "Python usa exceções mais do que outras linguagens porque (como a famosa Adm Grace Hopper disse) \"é mais fácil pedir perdão do que permissão\". Veremos como e por que a forma Pythônica de trabalhar não é estranha, imprudente ou ineficiente, mas uma parte integrante do Python, o que torna o código mais expressivo, mais flexível e sim mais Pythônico e eficiente."
   ]
  },
  {
   "cell_type": "markdown",
   "metadata": {
    "slideshow": {
     "slide_type": "skip"
    }
   },
   "source": [
    "É uma máxima de Python que (como a famosa Adm Grace Hopper disse) \"é mais fácil pedir perdão do que permissão\" e escrevemos código Python com a preferência de tentar fazer uma operação e, em seguida, lançar uma exceção se ocorrer um erro. Isso contrasta com muitas outras linguagens que tendem a \"olhar antes de pular\" e verificar as condições, tipos e valores antes de tentar uma operação.\n",
    "\n",
    "Essa tendência de usar exceções parece estranha, imprudente e ineficiente para programadores de outras linguagens (e também para muitos Pythonistas). As exceções devem ser usadas com tanta frequência? Certamente seria melhor checar um pouco as coisas e evitar erros, né? Usar tantas exceções torna o código lento e ineficiente?\n",
    "\n",
    "Esta palestra tratará dessas preocupações. Mostraremos como e por que a maneira como Python funciona é um ponto forte, não uma fraqueza, o que o torna mais expressivo e flexível. Depois de ver como lançar exceções, mesmo aquelas que não parecem exceções, veremos como lançar exceções é uma parte integrante do Python e é a base de muitas de suas características. Finalmente, exploraremos alguns testes simples que mostram que o uso de exceções pode tornar nosso código mais eficiente e mais Pythônico.\n",
    "\n",
    "Tabela de conteúdo\n",
    "------------------\n",
    "\n",
    "1. Introdução: 2 minutos\n",
    "2. Como os erros são tratados em outras linguagens: 3 minutos\n",
    "3. Exceções típicas do Python: 8 minutos\n",
    "    * Estrutura típica\n",
    "    * Herança\n",
    "    * Melhores práticas\n",
    "4. Exceções surpreendentes: exemplos e explicações de exceções que não são conhecidas como exceções: 10 minutos\n",
    "    * Iteração\n",
    "    * Lendo arquivos\n",
    "    * Em geradores\n",
    "    * `__getattribute__` e `__getattr__`\n",
    "5. Desempenho de exceção: 5 minutos\n",
    "6. Conclusão: 2 minutos\n",
    "7. Perguntas: se o tempo permitir"
   ]
  },
  {
   "cell_type": "markdown",
   "metadata": {
    "slideshow": {
     "slide_type": "skip"
    }
   },
   "source": [
    "Claro, esta palestra não é principalmente para desenvolvedores avançados, mas para explicar como uma parte essencial da linguagem realmente funciona para Pythonistas novos e / ou intermediários e para ajudá-los a escrever código mais Pythônico.\n",
    "\n",
    "Tenho 18 anos de experiência ensinando Python, sou a autora do Quick Python Book e apresentei muitas palestras, workshops e cursos de treinamento profissional sobre tópicos de Python em vários países. "
   ]
  },
  {
   "cell_type": "markdown",
   "metadata": {
    "slideshow": {
     "slide_type": "slide"
    }
   },
   "source": [
    "# Na verdade é mais fácil pedir perdão do que permissão\n",
    "\n",
    "### Python BR 2021\n",
    "\n",
    "\n",
    "**Naomi Ceder, @naomiceder**\n",
    "\n",
    "- **Ex-Chair, Python Software Foundation**\n",
    "- **Quick Python Book, 3rd ed**\n",
    "- **Dick Blick Art Materials**\n",
    "\n"
   ]
  },
  {
   "cell_type": "markdown",
   "metadata": {
    "slideshow": {
     "slide_type": "notes"
    }
   },
   "source": [
    "Olá, sou Naomi Ceder, a ex-presidenta da PSF, autora do Quick Python Book. Estou muito honrada em estar aqui novamente no Python Brasil, mesmo virtualmente. Espero que em breve possamos realizar conferências presenciais com segurança e um dia espero visitar o Brasil novamente.\n"
   ]
  },
  {
   "cell_type": "markdown",
   "metadata": {
    "slideshow": {
     "slide_type": "slide"
    }
   },
   "source": [
    "# Parabéns pela inclusão!\n",
    "\n",
    "* trilha em espanhol\n",
    "* interpretação em Libras\n"
   ]
  },
  {
   "cell_type": "markdown",
   "metadata": {
    "slideshow": {
     "slide_type": "notes"
    }
   },
   "source": [
    "\n",
    "Antes de começar eu tenho dois comentarios... primeiro, parabéns pela inclusão! Eu estou muito feliz de ver uma conferência de Python com trilhas tanto em português quanto em espanhol. \n",
    "\n",
    "Além de usar intérpretes de Libras, vocês estão liderando a comunidade python global em direção a uma maior inclusão e unidade"
   ]
  },
  {
   "cell_type": "markdown",
   "metadata": {
    "slideshow": {
     "slide_type": "slide"
    }
   },
   "source": [
    "![Angelica like](angelica_like.png)"
   ]
  },
  {
   "cell_type": "markdown",
   "metadata": {
    "slideshow": {
     "slide_type": "notes"
    }
   },
   "source": [
    "Meu segundo comentário é sobre os nomes das trilhas... \n",
    "\n",
    "Eu gosto muito do que as trilhas têm os nomes de inspiradoras mulheres negras. \n",
    "\n",
    "Na verdade uma delas, Angelica Ross, é minha amiga e enviei pra ela uma DM sobre sua trilha. \n",
    "\n",
    "Ela é super ocupada esses dias e não tem tempo para responder muito, mas sim, ela gosta. Aqui está a minha mensagem e seu like. "
   ]
  },
  {
   "cell_type": "markdown",
   "metadata": {
    "slideshow": {
     "slide_type": "slide"
    }
   },
   "source": [
    "## Introdução\n",
    "\n",
    "* Eu sou um entusiasta dos idiomas humanos - e das linguagens de programação também\n",
    "   * As diferenças não estão apenas no vocabulário (Google Translate Sings)\n",
    "   * A maneira de expressar as coisas varia de acordo com as línguas\n"
   ]
  },
  {
   "cell_type": "markdown",
   "metadata": {
    "slideshow": {
     "slide_type": "notes"
    }
   },
   "source": [
    "Primeiro, as línguas humanas sempre me fascinaram e é por isso que quando jovem estudei espanhol no colégio e mais tarde na universidade estudei grego, latim, sânscrito, até mesmo hieróglifos egípcios, bem como outras línguas, antigas e modernas - incluindo ultimamente o português.\n",
    "\n",
    "(Nós todos sabemos que ...)\n",
    "Os idiomas diferem uns dos outros em uma variedade fascinante de maneiras, não é apenas o vocabulário - em cada idioma você pode expressar qualquer ideia, mas cada idioma tem suas próprias maneiras diferentes de expressar ideias, descrever coisas, e tal, e é por isso que a tradução de uma língua para outra pode ser muito difícil.\n",
    "\n",
    "Não sei se vocês já viram, mas no YouTube no canal \"Google Translate Sings\" a cantora faz uma série de videos usando o Google Translate para traduzir as letras de várias canções populares para vários idiomas e finalmente de volta ao inglês... e, em seguida, canta as letras que resultam com a melodia original. Vocês podem imaginar que o resultado é divertido, é incrível, mas é claro que não é o original."
   ]
  },
  {
   "cell_type": "markdown",
   "metadata": {
    "slideshow": {
     "slide_type": "slide"
    }
   },
   "source": [
    "### Linguagens de programação não são tão complexas <br>como línguas humanas;\n",
    "#### mas as seguintes coisas são verdadeiras para ambos \n",
    "\n",
    "* a estrutura da linguagem influencia como as ideias podem ser expressas\n",
    "* Sim, tudo pode ser dito em qualquer idioma, mas não da mesma maneira"
   ]
  },
  {
   "cell_type": "markdown",
   "metadata": {
    "slideshow": {
     "slide_type": "notes"
    }
   },
   "source": [
    "(para continuar com minha história...)\n",
    "\n",
    "Quando comecei a escrever código, vi que, em muitos aspectos, as linguagens de programação eram semelhantes às linguas humanas.\n",
    "\n",
    "Em geral, você pode codificar os mesmos processos e expressar as mesmas ideias em qualquer linguagem de programação, porém, como nos idiomas humanos, nas linguagens de programação existem muitas diferenças, não só no vocabulário, mas também na estrutura e nas formas de expressão. E, como nas linguas humanas, não é fácil traduzir o código de uma linguagem para outra ou aprender uma nova linguagem fluentemente..\n"
   ]
  },
  {
   "cell_type": "markdown",
   "metadata": {
    "slideshow": {
     "slide_type": "slide"
    }
   },
   "source": [
    "## Muitas vezes nosso código corre errado...\n",
    "\n",
    "* valores incorretos\n",
    "* lógica errada\n",
    "* recursos não disponíveis\n",
    "* Etc..."
   ]
  },
  {
   "cell_type": "markdown",
   "metadata": {
    "slideshow": {
     "slide_type": "notes"
    }
   },
   "source": [
    "(Minha intenção) Nesta conversa é falar sobre uma maneira em que as linguagens diferem muito. Quero explicar como o Python lida com situações em que algo da errado.\n",
    "\n",
    "Como todos sabemos, há muitas coisas que podem correr mal quando executamos nosso código - um mau valor pode ser inserido, talvez a lógica possa estar errada, ou talvez a máquina não tenha memória ou espaço em disco suficiente ou o que for preciso."
   ]
  },
  {
   "cell_type": "markdown",
   "metadata": {
    "slideshow": {
     "slide_type": "slide"
    }
   },
   "source": [
    "### Tambem vocês poderiam dizer... \n",
    "* erros de compilação\n",
    "* erros de tempo de execução\n",
    "* erros irrecuperáveis\n",
    "* erros recuperáveis \n",
    "* erros de sintaxe\n",
    "* erros de tipo \n",
    "* erros de recursos \n",
    "* erros de procesos externos\n"
   ]
  },
  {
   "cell_type": "markdown",
   "metadata": {
    "slideshow": {
     "slide_type": "notes"
    }
   },
   "source": [
    "Existem possibilidades quase ilimitadas de erros e também existem muitas maneiras de classificá-los. Podemos falar de erros de compilação e de tempo de execução, de erros de sintaxe, de tipo, etc. Porém, o interessante não são os próprios erros, mas...\n"
   ]
  },
  {
   "cell_type": "markdown",
   "metadata": {
    "slideshow": {
     "slide_type": "slide"
    }
   },
   "source": [
    "### Como são tratados esses erros?\n",
    "\n",
    "De qualquer forma, a maneira como uma linguagem lida com erros é uma parte importante de como essa linguagem funciona;\n",
    "\n",
    "influencia tanto a estrutura quanto o fluxo do código"
   ]
  },
  {
   "cell_type": "markdown",
   "metadata": {
    "slideshow": {
     "slide_type": "notes"
    }
   },
   "source": [
    "Como são tratados esses erros?\n",
    "\n",
    "Cada linguagem trata esses erros e essas situações em sua própria maneira e tem suas próprias estruturas para fazê-lo. Portanto, entender como uma linguagem lida com erros é muito importante para entender essa linguagem e escrevê-la fluentemente.\n",
    "\n",
    "Bom, espero que vocês concordem comigo até agora.\n",
    "\n",
    "A seguir e antes de falar sobre Python, vou falar um pouco sobre algumas outras linguagens populares e suas diferenças no modo como tratam os erros."
   ]
  },
  {
   "cell_type": "markdown",
   "metadata": {
    "slideshow": {
     "slide_type": "slide"
    }
   },
   "source": [
    "### perl - faça ou morra\n",
    "\n",
    "```perl\n",
    "open(DATA, $file) || die \"Error: Couldn't open the file $!\";\n",
    "```\n",
    "\n",
    "### Java\n",
    "\n",
    "* exceções, mas muitas verificações de valor e tipo também são usadas\n",
    "* exceções \"verificadas\" e \"não verificadas\"\n"
   ]
  },
  {
   "cell_type": "markdown",
   "metadata": {
    "slideshow": {
     "slide_type": "notes"
    }
   },
   "source": [
    "Primeiro, temos Perl. \n",
    "\n",
    "Eu gosto de pensar em perl como uma linguagem do tipo \"fazer ou morrer\" (do or die). Bastante comum em perl é o uso do comando \"die\" para relatar um erro e encerrar o programa. Não é realmente elegante essa maneira de tratar os erros, mas é eficaz.\n",
    "\n",
    "Java tem um sistema complicado de exceções, incluindo \"exceções verificadas\" (que devem ser declaradas ou capturadas no método em que ocorrem) e \"exceções não verificadas\". Em qualquer caso, Java não depende muito de exceções.  Em vez disso, Java usa mais verificações de valor e tipo."
   ]
  },
  {
   "cell_type": "markdown",
   "metadata": {
    "slideshow": {
     "slide_type": "slide"
    }
   },
   "source": [
    "### Javascript\n",
    "* excepciones (6 tipos nativos)\n",
    "* pero cualquier tipo se puede lanzar como excepción\n",
    "\n",
    "```javascript\n",
    "throw new Error();\n",
    "throw true;\n",
    "```\n",
    "### Golang\n",
    "\n",
    "* retorna o resultado e o erro como valores separados\n",
    "\n",
    "```go\n",
    "      c, err = GetC(b)\n",
    "      if err == nil {\n",
    "         return c, nil\n",
    "      }\n",
    "```"
   ]
  },
  {
   "cell_type": "markdown",
   "metadata": {
    "slideshow": {
     "slide_type": "notes"
    }
   },
   "source": [
    "Javascript tem 6 exceções nativas e elas podem ser herdadas em subclasses, mas qualquer valor pode ser lançado como uma exceção. No entanto, capturar esses valores pode ser um pouco complicado.\n",
    "\n",
    "Por sua vez, Golang tem um sistema bastante diferente dos restantes - as funções devolvem um valor e um erro e é necessário verificar se ocorreu um erro. Além disso, no golang, as exceções não são lançadas automaticamente, todas as exceções devem ser lançadas explicitamente."
   ]
  },
  {
   "cell_type": "markdown",
   "metadata": {
    "slideshow": {
     "slide_type": "slide"
    }
   },
   "source": [
    "### Cada linguagem tem suas vantagens e desvantagens...\n",
    "\n",
    "mas sua abordagem aos erros reflete sua estrutura."
   ]
  },
  {
   "cell_type": "markdown",
   "metadata": {
    "slideshow": {
     "slide_type": "notes"
    }
   },
   "source": [
    "Cada linguagem tem suas vantagens e desvantagens...\n",
    "\n",
    "mas sua abordagem aos erros reflete sua estrutura.\n",
    "\n",
    "Tudo bem então..."
   ]
  },
  {
   "cell_type": "markdown",
   "metadata": {
    "slideshow": {
     "slide_type": "slide"
    }
   },
   "source": [
    "## e Python?"
   ]
  },
  {
   "cell_type": "markdown",
   "metadata": {
    "slideshow": {
     "slide_type": "notes"
    }
   },
   "source": [
    "Vimos exemplos de várias outras linguagens e veremos agora que Python tem alguns aspectos em comum com eles, mas difere em outros.\n",
    "\n",
    "Em primeiro lugar..."
   ]
  },
  {
   "cell_type": "markdown",
   "metadata": {
    "slideshow": {
     "slide_type": "slide"
    }
   },
   "source": [
    "### Python prefere lidar com erros em vez de evitá-los\n",
    "\n",
    "* EAFP - Easier to Ask Forgiveness than Permission (mais fácil pedir perdão do que permissão)\n",
    "* em comparação com, por exemplo, Java que é LBYL \"Look Before You Leap\" (pensar antes de agir)"
   ]
  },
  {
   "cell_type": "markdown",
   "metadata": {
    "slideshow": {
     "slide_type": "notes"
    }
   },
   "source": [
    "A abordagem Python da EAFP depende do poder de usar exceções com facilidade e frequência, ao contrário de outras linguagens que dependem de verificação antecipada (LBYL)"
   ]
  },
  {
   "cell_type": "markdown",
   "metadata": {
    "slideshow": {
     "slide_type": "slide"
    }
   },
   "source": [
    "### Esta abordagem é...\n",
    "* Mais simples, o código é mais fácil de ler\n",
    "* Duck typing\n",
    "* dynamic typing"
   ]
  },
  {
   "cell_type": "markdown",
   "metadata": {
    "slideshow": {
     "slide_type": "notes"
    }
   },
   "source": [
    "O que o Python ganha desta abordagem é um código mais simples e legível. O código que contém muitas verificações de operações e valores pode ser confuso e mais difícil de ler.\n",
    "\n",
    "Além disso, Python é uma linguagem de dynamic typing e depende de duck typing, que se refere à ideia de que se algo anda como um pato e soa como um pato, provavelmente é um pato ... ou pelo menos podemos tratá-lo como um pato. É por isso que verificar os tipos de variáveis não é útil e usar exceções é mais fácil e eficiente.\n",
    "\n",
    "Bem, agora veremos como as exceções funcionam em Python. Claro que vocês provavelmente conhecem a sintaxe de exceção básica do Python, mas para ter certeza de que todos começaremos do mesmo lugar, quero falar sobre o básico.\n"
   ]
  },
  {
   "cell_type": "markdown",
   "metadata": {
    "slideshow": {
     "slide_type": "slide"
    }
   },
   "source": [
    "### Exceções em Python\n",
    "\n",
    "`try:`\n",
    "\n",
    "    seguido por um bloco de código\n",
    "\n",
    "`except <Exception class> as e:`\n",
    "\n",
    "    bloco para lidar com a exceção\n",
    "\n",
    "`else:`\n",
    "\n",
    "    bloco a ser executado na condição\n",
    "    que uma exceção não é lançada\n",
    "\n",
    "`finally:`\n",
    "\n",
    "    bloco que sempre será executado,\n",
    "    por exemplo, para fechar um arquivo\n",
    "    \n",
    "As exceções também podem ser lançadas diretamente:\n",
    "`raise <subclasse de BaseException>`"
   ]
  },
  {
   "cell_type": "markdown",
   "metadata": {
    "slideshow": {
     "slide_type": "notes"
    }
   },
   "source": [
    "A primeira parte da estrutura de exceção é uma cláusula `try` com um bloco que contém o código no qual pode ocorrer um erro ou uma exceção que desejamos tratar.\n",
    "\n",
    "A segunda parte é uma cláusula (ou mais) `except` que especifica e captura a exceção (ou exceções) com o código que as trata. \n",
    "\n",
    "A terceira parte é opcional, uma cláusula `else` com código que executa somente se nenhuma exceção for lançada. \n",
    "\n",
    "Por fim, pode ser uma palavra-chave `finally`, com um bloco que é executado toda vez se um erro ocorre ou não\\. Por exemplo, se o código na cláusula `try` fosse para abrir um arquivo, a cláusula `finally` poderia garantir que o arquivo sempre seria fechado.\n",
    "\n",
    "Além disso, qualquer exceção pode ser lançada a qualquer momento usando a palavra-chave raise. No entanto, no Python 3, apenas as subclasses de `BaseException` podem ser lançadas."
   ]
  },
  {
   "cell_type": "code",
   "execution_count": null,
   "metadata": {
    "scrolled": true,
    "slideshow": {
     "slide_type": "slide"
    }
   },
   "outputs": [],
   "source": [
    "a_dict = {\"1\": 1, \"2\": 2}\n",
    "try:\n",
    "    print(\"try - código em execução\")\n",
    "    # x = a_dict[\"a\"]\n",
    "    print(\"fim de try\")\n",
    "\n",
    "except Exception as e:\n",
    "    print(f\"{type(e)} - no bloco de exceção\")\n",
    "\n",
    "else:\n",
    "    print(\"else - isto é executado se nenhuma exceção for lançada\")\n",
    "\n",
    "finally:\n",
    "    print(\"finally - isto sempre é executado\")"
   ]
  },
  {
   "cell_type": "markdown",
   "metadata": {
    "slideshow": {
     "slide_type": "notes"
    }
   },
   "source": [
    "Podemos experimentar um pouco com este exemplo. Observe que, se nenhuma exceção for lançada, os blocos `try`, `else` e `finally` serão executados. No entanto, se uma exceção for lançada, o bloco `try` será executado apenas até o local da exceção e, em seguida, os blocos `except` e `finally` serão executados."
   ]
  },
  {
   "cell_type": "markdown",
   "metadata": {
    "slideshow": {
     "slide_type": "slide"
    }
   },
   "source": [
    "### Exceções e herança\n",
    "\n",
    "* a maioria das exceções são subclasses de `Exception`\n",
    "* se uma cláusula except capturar uma classe, ela irá capturar suas subclasses também \n",
    "*  `except:` (sem exceção específica) captura `Exception` (e todas suas subclasses)"
   ]
  },
  {
   "cell_type": "markdown",
   "metadata": {
    "slideshow": {
     "slide_type": "notes"
    }
   },
   "source": [
    "Todas as exceções são classes (desde Python 1.5) e devem herdar de `BaseException` ou (mais\n",
    "comum) de `Exception` . `except` capturará a exceção especificada y todas as subclasses dela.\n",
    "\n",
    "Um except sem exceção especificada irá capturar `Exception` e todas as outras exceções\n",
    "exceto `SystemExit` , `ExitGenerator` e `KeyBoardInterrupt` que herdam de\n",
    "`BaseException`."
   ]
  },
  {
   "cell_type": "code",
   "execution_count": null,
   "metadata": {
    "slideshow": {
     "slide_type": "slide"
    }
   },
   "outputs": [],
   "source": [
    "class MinhaExceção(Exception):\n",
    "    pass\n",
    "try:\n",
    "    print(\"try - código em execução\")\n",
    "    #raise MinhaExceção\n",
    "    #raise Exception\n",
    "except MinhaExceção as e:\n",
    "#except Exception as e:\n",
    "    print(\"Exceção capturada:\", type(e))"
   ]
  },
  {
   "cell_type": "markdown",
   "metadata": {
    "slideshow": {
     "slide_type": "notes"
    }
   },
   "source": [
    "Aqui podemos ver um exemplo muito simples de como funciona a herança. `MinhaExceção` é\n",
    "uma subclasse de `Exception`. Quando o `except` está esperando uma `Exception`, tanto\n",
    "`Exception` quanto `MinhaExceção` são detectadas.\n",
    "\n",
    "Mas se o except espera a subclasse `MinhaExceção`, as exceções do tipo `Exception` (ou\n",
    "de outros tipos) não são capturadas."
   ]
  },
  {
   "cell_type": "markdown",
   "metadata": {
    "slideshow": {
     "slide_type": "slide"
    }
   },
   "source": [
    "## As exceções não são mais apenas para erros... \n",
    "\n"
   ]
  },
  {
   "cell_type": "markdown",
   "metadata": {
    "slideshow": {
     "slide_type": "notes"
    }
   },
   "source": [
    "No entanto, em Python, existem exceções que não têm nada a ver com erros."
   ]
  },
  {
   "cell_type": "markdown",
   "metadata": {
    "slideshow": {
     "slide_type": "slide"
    }
   },
   "source": [
    "### Graças à teoria de Harry Potter...\n",
    "\n",
    "Tanto na evolução do Python quanto no desenvolvimento da história de Harry, várias características foram produzidas para uma situação, mas no final ela é usada para propósitos totalmente diferentes...\n",
    "\n",
    "* Guido van Rossum, 2005 - The Harry Potter Theory of Programming Language Design, https://www.artima.com/weblogs/viewpost.jsp?thread=123234\n",
    "* e.g. for loops -> iterators/generators, `def` for methods\n"
   ]
  },
  {
   "cell_type": "markdown",
   "metadata": {
    "slideshow": {
     "slide_type": "notes"
    }
   },
   "source": [
    "A teoria de Harry Potter é de um post escrito por Guido, o criador do Python, em 2005. Guido estava lendo a série de livros Harry Potter e viu um paralelo entre o desenvolvimento de uma série de livros e uma linguagem.\n",
    "\n",
    "Em particular, ele acreditava que tanto na evolução do Python quanto no desenvolvimento da história de Harry, várias características foram produzidas para uma situação, mas no final elas são usadas para propósitos totalmente diferentes. \n",
    "\n",
    "Por exemplo, no artigo Guido diz, \"Eu nunca tinha pensado em iteradores ou geradores quando criei o loop for do Python, ou em usar % como um operador de formatação de string e, na verdade, usar 'def' para definir métodos e funções não fazia parte do plano inicial  também (embora eu goste!).\"\n",
    "\n",
    "Esse é o caso das exceções - elas foram criadas para tratar erros, mas hoje são usadas de maneiras que nada têm a ver com erros. "
   ]
  },
  {
   "cell_type": "markdown",
   "metadata": {
    "slideshow": {
     "slide_type": "slide"
    }
   },
   "source": [
    "### As exceções são lançadas em todos os exemplos abaixo\n",
    "\n",
    "Quantos vocês já conhecem?\n",
    "\n",
    "Quais exceções são lançadas?"
   ]
  },
  {
   "cell_type": "markdown",
   "metadata": {
    "slideshow": {
     "slide_type": "notes"
    }
   },
   "source": [
    "Agora veremos vários exemplos do uso de exceções em Python que não são causadas por erros. Vamos ver se vocês  conhecem quais exceções são lançadas."
   ]
  },
  {
   "cell_type": "code",
   "execution_count": null,
   "metadata": {
    "scrolled": true,
    "slideshow": {
     "slide_type": "slide"
    }
   },
   "outputs": [],
   "source": [
    "import sys\n",
    "\n",
    "sys.exit(0)"
   ]
  },
  {
   "cell_type": "markdown",
   "metadata": {
    "slideshow": {
     "slide_type": "notes"
    }
   },
   "source": [
    "Bem, começamos com um exemplo fácil, nível um ... a função `sys.exit()` é bastante comum, e quase todo mundo já a usou. Mas que exceção é lançada aqui?"
   ]
  },
  {
   "cell_type": "markdown",
   "metadata": {
    "slideshow": {
     "slide_type": "slide"
    }
   },
   "source": [
    "### SystemExit\n",
    "* `sys.exit()` lança uma exceção `SystemExit`\n",
    "* `raise SystemExit` tem o mesmo efeito que `sys.exit()`"
   ]
  },
  {
   "cell_type": "markdown",
   "metadata": {
    "slideshow": {
     "slide_type": "notes"
    }
   },
   "source": [
    "No entanto, `sys.exit()` não faz nada mais do que lançar uma exceção SystemExit que o interpretador captura."
   ]
  },
  {
   "cell_type": "code",
   "execution_count": null,
   "metadata": {
    "scrolled": true,
    "slideshow": {
     "slide_type": "fragment"
    }
   },
   "outputs": [],
   "source": [
    "raise SystemExit(0)"
   ]
  },
  {
   "cell_type": "code",
   "execution_count": null,
   "metadata": {
    "scrolled": false,
    "slideshow": {
     "slide_type": "slide"
    }
   },
   "outputs": [],
   "source": [
    "uma_lista = [1, 2, 3, 4]\n",
    "\n",
    "for i in uma_lista:\n",
    "    print(i)"
   ]
  },
  {
   "cell_type": "markdown",
   "metadata": {
    "slideshow": {
     "slide_type": "notes"
    }
   },
   "source": [
    "Aqui temos um loop for e uma iteração com uma lista. Não é visto, mas uma exceção é lançada. É um pouco mais difícil ... sabe que exceção?"
   ]
  },
  {
   "cell_type": "markdown",
   "metadata": {
    "slideshow": {
     "slide_type": "slide"
    }
   },
   "source": [
    "### StopIteration e IndexError\n",
    "\n",
    "* iteradores lançam uma exceção **`StopIteration`** para indicar que eles estão gastos.\n",
    "* alguns iteráveis com semântica de sequência também podem lançar uma exceção **`IndexError`** para sinalizar ao iterador que o final da sequência foi alcançado"
   ]
  },
  {
   "cell_type": "markdown",
   "metadata": {
    "slideshow": {
     "slide_type": "notes"
    }
   },
   "source": [
    "StopIteration é outra exceção usada para controlar o fluxo de código. Todos os iteradores lançam essa exceção como um sinal para terminar a iteração. Além disso, alguns iteráveis com semântica de sequência também podem lançar uma exceção IndexError para sinalizar ao iterador que o final da sequência foi alcançado e, nesse caso, seriam duas exceções. \n"
   ]
  },
  {
   "cell_type": "code",
   "execution_count": null,
   "metadata": {
    "scrolled": true,
    "slideshow": {
     "slide_type": "slide"
    }
   },
   "outputs": [],
   "source": [
    "for linea in open(\"arquivo_texto.txt\"):\n",
    "    print(linea)"
   ]
  },
  {
   "cell_type": "markdown",
   "metadata": {
    "slideshow": {
     "slide_type": "notes"
    }
   },
   "source": [
    "Este caso parece ser bastante semelhante ao anterior e uma exceção StopIteration é lançada que encerra a iteração. Mas essa não é a única exceção lançada - outra exceção é lançada antes da StopIteration. Qual é?"
   ]
  },
  {
   "cell_type": "markdown",
   "metadata": {
    "slideshow": {
     "slide_type": "slide"
    }
   },
   "source": [
    "### EOFError\n",
    "\n",
    "* ler um arquivo quando não há mais para ler lança uma exceção `EOFError` "
   ]
  },
  {
   "cell_type": "markdown",
   "metadata": {
    "slideshow": {
     "slide_type": "notes"
    }
   },
   "source": [
    "Cada vez que um arquivo é lido e não há mais nada para ler, uma exceção EOFError é lançada, o que, neste exemplo, faz com que o iterador encerre a iteração"
   ]
  },
  {
   "cell_type": "code",
   "execution_count": null,
   "metadata": {
    "scrolled": true,
    "slideshow": {
     "slide_type": "slide"
    }
   },
   "outputs": [],
   "source": [
    "def num_gen():\n",
    "    numeros = [1, 2, 3, 4]\n",
    "    for numero in numeros:\n",
    "        yield numero\n",
    "    print(\"Último numero enviado\")\n",
    "\n",
    "\n",
    "for numero in num_gen():\n",
    "    print(\"Recebido\", numero)\n",
    "    #if numero == 2:\n",
    "    #    break \n",
    "\n",
    "print(\"Tudo feito\") "
   ]
  },
  {
   "cell_type": "markdown",
   "metadata": {
    "slideshow": {
     "slide_type": "notes"
    }
   },
   "source": [
    "neste exemplo, temos um gerador que retorna números de uma lista. Contanto que um gerador seja um iterador, ele normalmente lançaria uma exceção StopIteration ao terminar, mas se o código sair do loop antes de o gerador terminar, assim... (Observe que a mensagem \"Último número enviado\" não é exibida)\n",
    "\n",
    "\n",
    "... o gerador ficaria parado após o `yield` de dois. É possível que algo precise ser feito nesta situação - fechar um arquivo, liberar alguns recursos, o que for."
   ]
  },
  {
   "cell_type": "code",
   "execution_count": null,
   "metadata": {
    "scrolled": false,
    "slideshow": {
     "slide_type": "slide"
    }
   },
   "outputs": [],
   "source": [
    "def num_gen():\n",
    "    numeros = [1, 2, 3, 4]\n",
    "    try:\n",
    "        for numero in numeros:\n",
    "            yield numero\n",
    "    except GeneratorExit as e:\n",
    "        print(\"GeneratorExit lançada\")\n",
    "        raise e\n",
    "    print(\"Último número enviado\")\n",
    "\n",
    "\n",
    "for numero in num_gen():\n",
    "    print(\"Recebido:\", numero)\n",
    "    #if numero == 2:\n",
    "    #    break\n",
    "\n",
    "print(\"Tudo feito\")"
   ]
  },
  {
   "cell_type": "markdown",
   "metadata": {
    "slideshow": {
     "slide_type": "notes"
    }
   },
   "source": [
    "Nesse caso, podemos capturar uma exceção do tipo `GeneratorExit`, que é lançada após o último `yield` se o gerador não terminar.\n",
    "\n",
    "Se o gerador for encerrado, nenhuma exceção for lançada, mas se o gerador não terminar a GeneratorExit é lançada."
   ]
  },
  {
   "cell_type": "markdown",
   "metadata": {
    "slideshow": {
     "slide_type": "slide"
    }
   },
   "source": [
    "### GeneratorExit\n",
    "\n",
    "* quando um objeto gerador sai sem \"completar\", `generator.close()` lança uma exceção `GeneratorExit` onde o último `yield` foi executado\n",
    "* Se não for capturada explicitamente, essa exceção passará silenciosamente."
   ]
  },
  {
   "cell_type": "markdown",
   "metadata": {
    "slideshow": {
     "slide_type": "notes"
    }
   },
   "source": [
    "No caso de que um objeto gerador não posse terminar, quando o objeto sai do escopo o metodo `generator.close()` lança uma exceção `GeneratorExit` onde o último `yield` foi executado. E se não for capturada explicitamente, essa exceção passará silenciosamente.\n"
   ]
  },
  {
   "cell_type": "markdown",
   "metadata": {
    "slideshow": {
     "slide_type": "slide"
    }
   },
   "source": [
    "### Em Python, as exceções são usadas <br> como uma forma de controlar o fluxo\n",
    "\n",
    "Principalmente quando...\n",
    "\n",
    "* Espera-se que a condição que causa a exceção seja muito rara em comparação com as outras condições\n",
    "* a condição que causa a exceção é bastante diferente da condição normal\n",
    "* usar uma exceção em vez de verificar a condição torna o código mais simples"
   ]
  },
  {
   "cell_type": "markdown",
   "metadata": {
    "slideshow": {
     "slide_type": "notes"
    }
   },
   "source": [
    "Usar exceções como essas para controlar o fluxo de execução pode parecer muito estranho e surpreendente para programadores de outras linguagens, mas espero (graças a Harry Potter) que vocês pensem elas Pythônicas... contanto que a condição que causa a exceção seja rara e bastante diferente da condição normal."
   ]
  },
  {
   "cell_type": "markdown",
   "metadata": {
    "slideshow": {
     "slide_type": "slide"
    }
   },
   "source": [
    "## Mas usar tantas exceções é algo ruim, né?\n",
    "\n",
    "* O uso de exceções não torna o código mais complexo? E mais difícil de entender e mais difícil de provar?\n",
    "* O uso de muitas exceções não afetará o desempenho?\n"
   ]
  },
  {
   "cell_type": "markdown",
   "metadata": {
    "slideshow": {
     "slide_type": "notes"
    }
   },
   "source": [
    "No entanto, suponho que alguns de vocês estejam pensando que usar tantas exceções seja simplesmente errado e que deixe o código mais complexo e difícil de ler. Ou talvez vocês pensem que as exceções deixem o código muito lento. Vamos considerar essas preocupações...\n"
   ]
  },
  {
   "cell_type": "markdown",
   "metadata": {
    "slideshow": {
     "slide_type": "slide"
    }
   },
   "source": [
    "### Usar exceções corretamente é Pythônico\n",
    "\n",
    "* As exceções são uma parte integrante do Python e são tão comuns que devem ser compreensíveis\n",
    "* Usado corretamente, as exceções tornam o código mais fácil de ler\n"
   ]
  },
  {
   "cell_type": "markdown",
   "metadata": {
    "slideshow": {
     "slide_type": "notes"
    }
   },
   "source": [
    "Obviamente, não seria Pythônico usar exceções em todos os casos, e é possível achar que as exceções são a resposta para todas as perguntas. Mas, quando usadas corretamente, as exceções podem deixar o código mais simples e fácil de ler."
   ]
  },
  {
   "cell_type": "markdown",
   "metadata": {
    "slideshow": {
     "slide_type": "slide"
    }
   },
   "source": [
    "### Mas... o que é \"corretamente\"?\n",
    "\n",
    "* As exceções devem ser infrequentes\n",
    "* As exceções capturadas devem ser específicas\n",
    "* O uso de exceções deixa o código mais legível"
   ]
  },
  {
   "cell_type": "markdown",
   "metadata": {
    "slideshow": {
     "slide_type": "notes"
    }
   },
   "source": [
    "Primeiro não seria Pythônico tentar lidar com todos erros possiveis na cada linha do código. O uso de exceções deve ser bem direcionado, e as exceções possíveis específicadas, e o código legível."
   ]
  },
  {
   "cell_type": "markdown",
   "metadata": {
    "slideshow": {
     "slide_type": "slide"
    }
   },
   "source": [
    "### O que não fazer... "
   ]
  },
  {
   "cell_type": "code",
   "execution_count": null,
   "metadata": {
    "slideshow": {
     "slide_type": "fragment"
    }
   },
   "outputs": [],
   "source": [
    "try:\n",
    "    answer = imput(\"answer\")\n",
    "except:\n",
    "    pass\n",
    "try:\n",
    "    result = anser * 10\n",
    "except:\n",
    "    pass\n",
    "try:\n",
    "    print(reslut)\n",
    "except:\n",
    "    pass"
   ]
  },
  {
   "cell_type": "markdown",
   "metadata": {
    "slideshow": {
     "slide_type": "notes"
    }
   },
   "source": [
    "Muitos anos atrás, a primeira vez que ensinei Python, tive dois jovens em minha classe que aprenderam sobre exceções e de repente não tiveram nenhuns erros - seu código funcionou, mas não fez nada. Quando olhei para o código deles, vi algo assim.\n",
    "\n",
    "Eles pensaram que estavam lidando com todos os erros, mas esses try/except's apenas deixavam o código difícil de ler, e neste caso estavam ignorando, até mesmo escondendo, todos os erros.\n",
    "\n",
    "Isso não é Pythônico... na verdade viola todas as regras e é um exemplo clássico do que não fazer. "
   ]
  },
  {
   "cell_type": "code",
   "execution_count": null,
   "metadata": {
    "scrolled": true,
    "slideshow": {
     "slide_type": "slide"
    }
   },
   "outputs": [],
   "source": [
    "# Avoiding exceptions\n",
    "\n",
    "for parametro in lista_de_parametros:\n",
    "    resultados = db_engine.execute(query, parametro)\n",
    "    if resultados is not None:\n",
    "        total_count += resultados.rowcount\n",
    "    else:\n",
    "        continue"
   ]
  },
  {
   "cell_type": "markdown",
   "metadata": {
    "slideshow": {
     "slide_type": "notes"
    }
   },
   "source": [
    "Este exemplo é uma chamada hipotética para um banco de dados. Observe que primeiro obtemos alguns resultados,  depois confirmamos que eles existe e se não, continuamos ao próximo parametro. Se os resultados existem, os adicionamos à contagem total. E não usamos exceções. Mas este código não é Pythônico, nem é fácil de ler."
   ]
  },
  {
   "cell_type": "code",
   "execution_count": null,
   "metadata": {
    "scrolled": true,
    "slideshow": {
     "slide_type": "slide"
    }
   },
   "outputs": [],
   "source": [
    "# with exceptions\n",
    "for parametro in lista_de_parametros:\n",
    "    try:\n",
    "        total_count += db_engine.execute(query, parametro).rowcount\n",
    "    except AttributeError:\n",
    "        continue"
   ]
  },
  {
   "cell_type": "markdown",
   "metadata": {
    "slideshow": {
     "slide_type": "notes"
    }
   },
   "source": [
    "Por outro lado, eu diria que esta versão é mais Pythônica e sua intenção (contar os resultados) é mais clara. O erro potencial, que o objeto `resultados` é `None`, vai lançar uma exceção AttributeError porque o objeto `None` não tem o atributo `rowcount`.  Isso é facilmente tratado pelo bloco de `except`. \n"
   ]
  },
  {
   "cell_type": "markdown",
   "metadata": {
    "slideshow": {
     "slide_type": "slide"
    }
   },
   "source": [
    "### As exceções não são caras e lentas?"
   ]
  },
  {
   "cell_type": "markdown",
   "metadata": {
    "slideshow": {
     "slide_type": "notes"
    }
   },
   "source": [
    "São as exceções caras e lentas?\n",
    "\n",
    "Já ouvi esta pergunta muitas vezes... mas é certo que as exceções são \"caras\"?"
   ]
  },
  {
   "cell_type": "markdown",
   "metadata": {
    "slideshow": {
     "slide_type": "slide"
    }
   },
   "source": [
    "### Sim, as exceções podem ser um pouco mais lentas, mas...\n",
    "\n",
    "* são otimizadas e não tão caras como, por exemplo, no início do C++\n",
    "* ocorrem tão raramente que há pouco custo\n",
    "* em geral, código mais Pythônico tende a executar mais rápido"
   ]
  },
  {
   "cell_type": "markdown",
   "metadata": {
    "slideshow": {
     "slide_type": "notes"
    }
   },
   "source": [
    "Sim, as exceções podem ser um pouco mais lentas, mas...\n",
    "\n",
    "* são otimizadas e não tão caras como, por exemplo, no início do C++\n",
    "* ocorrem tão raramente que há pouco custo\n",
    "* em geral, código mais Pythônico tende a executar \n",
    "mais rápido\n",
    "\n",
    "Por exemplo, vamos examinar os seguintes trechos de código..."
   ]
  },
  {
   "cell_type": "code",
   "execution_count": null,
   "metadata": {
    "slideshow": {
     "slide_type": "slide"
    }
   },
   "outputs": [],
   "source": [
    "def test_while_loop():\n",
    "    i = 0\n",
    "\n",
    "    while i < 1000:\n",
    "        x = i * i\n",
    "        i += 1"
   ]
  },
  {
   "cell_type": "markdown",
   "metadata": {
    "slideshow": {
     "slide_type": "notes"
    }
   },
   "source": [
    "Esta função é muito básica e não tem nada a ver com exceções. É apenas um loop while com uma variável que é incrementada para 1000. Não é muito Pythônico, na verdade parece um código antigo em C."
   ]
  },
  {
   "cell_type": "code",
   "execution_count": null,
   "metadata": {
    "slideshow": {
     "slide_type": "slide"
    }
   },
   "outputs": [],
   "source": [
    "class Conta:\n",
    "    def __init__(self, conta):\n",
    "        self.conta = conta\n",
    "\n",
    "    def __getitem__(self, key):\n",
    "        if 0 < key < self.conta:\n",
    "            return key\n",
    "        else:\n",
    "            # lanza IndexError a iterador\n",
    "            raise IndexError\n",
    "\n",
    "\n",
    "def test_conta():\n",
    "    contador = Conta(1000)\n",
    "    # iterador lanza StopIteration para terminar iteración\n",
    "    for i in contador:\n",
    "        x = i * i "
   ]
  },
  {
   "cell_type": "markdown",
   "metadata": {
    "slideshow": {
     "slide_type": "notes"
    }
   },
   "source": [
    "E este exemplo é mais complexo - criamos uma classe que é um iterável simples e que segue a semântica da sequência, ou seja, quando atinge o final de seus elementos, ele lança uma exceção IndexError.\n",
    "\n",
    "(este objeto é semelhante ao objeto integrado `range()`) \n",
    "\n",
    "E depois usamos um instancia desta classe na função. \n",
    "\n",
    "A função test_conta também tem um loop, um loop for neste caso, que cria um iterador (que é Pythônico) que lança outra exceção quando a iteração é concluída, uma exceção StopIteration. Portanto, este exemplo, apesar de ser mais Pythônico, contém duas vezes o código e duas exceções - a IndexError de a classe Conta e a StopIteration do loop for. \n",
    "\n",
    "Então, o que vocês acham? Qual função é a mais rápida? O mais simples? Ou o mais Pythônico? Alguém quer apostar? Bem, vamos experimentá-los.\n"
   ]
  },
  {
   "cell_type": "code",
   "execution_count": null,
   "metadata": {
    "scrolled": false,
    "slideshow": {
     "slide_type": "slide"
    }
   },
   "outputs": [],
   "source": [
    "print(\"test_while_loop():\")\n",
    "%timeit test_while_loop()\n",
    "\n",
    "print(\"\\ntest_conta():\")\n",
    "%timeit test_conta()"
   ]
  },
  {
   "cell_type": "markdown",
   "metadata": {
    "slideshow": {
     "slide_type": "notes"
    }
   },
   "source": [
    "Aqui estou usando um \"magic\" de Jupyter Notebook que executa a função timeit do Python... leva alguns segundos...\n",
    "\n",
    "Hmmm... acontece que a função mais Pythônica e com duas exceções é muito mais rápida, por duas ordens de magnitude.\n",
    "\n",
    "Uma razão é que o processo de contagem na primeira função requer a criação de mil objetos `int`, e criar mil objetos é muito mais lento do que uma iteração Pythônica que lança duas exceções. \n",
    "\n",
    "Em geral as padrões Pythônicas serão mais eficientes e  rápidas do que nossas tentativas de otimizar o código de outras maneiras.\n"
   ]
  },
  {
   "cell_type": "markdown",
   "metadata": {
    "slideshow": {
     "slide_type": "slide"
    }
   },
   "source": [
    "## O que tudo isso significa?\n",
    "\n",
    "* Python tem um sistema de exceções rico e bem desenvolvido\n",
    "* Como uma linguagem com duck typing, o Python é adequado para lidar com exceções e se recuperar delas\n",
    "* Exceções são usadas em Python também para controle de fluxo, não apenas para erros\n"
   ]
  },
  {
   "cell_type": "markdown",
   "metadata": {
    "slideshow": {
     "slide_type": "notes"
    }
   },
   "source": [
    "Então, tenho várias observações...\n",
    "\n",
    "* Python tem um sistema de exceções rico e bem desenvolvido\n",
    "* Como uma linguagem interpretada com duck typing, o Python é adequado para lidar com exceções e se recuperar delas\n",
    "* Exceções são usadas em Python também para controlar o fluxo, não apenas para erros\n"
   ]
  },
  {
   "cell_type": "markdown",
   "metadata": {
    "slideshow": {
     "slide_type": "slide"
    }
   },
   "source": [
    "## É mais Pythônico usar exceções <br>do que verificar tipos, resultados, etc.\n",
    "\n",
    "### Também é Pythônico usá-los também para controlar o fluxo de execução\n",
    "\n",
    "Enquanto:\n",
    "* espera-se que a exceção seja pouco frequente\n",
    "* a exceção é específica\n",
    "* o código é, portanto, mais fácil de ler ...\n"
   ]
  },
  {
   "cell_type": "markdown",
   "metadata": {
    "slideshow": {
     "slide_type": "notes"
    }
   },
   "source": [
    "É mais Pythônico usar exceções nas seguintes condições - se esperarmos que as exceções sejam infrequentes (muitas exceções deixarão seu código mais lento); se as exceções são específicas; ou se usar uma exceção deixa o código mais simples e fácil de ler.\n",
    "\n",
    "Assim, para concluir, podemos afirmar, como dissemos no início da palestra, que:"
   ]
  },
  {
   "cell_type": "markdown",
   "metadata": {
    "slideshow": {
     "slide_type": "slide"
    }
   },
   "source": [
    "\n",
    "## Sim, (em Python) realmente é mais fácil pedir perdão do que permissão"
   ]
  },
  {
   "cell_type": "markdown",
   "metadata": {
    "slideshow": {
     "slide_type": "notes"
    }
   },
   "source": [
    "Muito obrigada a todos por me ouvirem, espero que vocês tenham achado algo útil nesta palestra."
   ]
  },
  {
   "cell_type": "markdown",
   "metadata": {
    "slideshow": {
     "slide_type": "slide"
    }
   },
   "source": [
    "# Obrigada!\n",
    "\n",
    "Os slides (e o arquivo do jupyter Notebook) estão em https://github.com/nceder/ )\n",
    "\n",
    "### Perguntas?"
   ]
  },
  {
   "cell_type": "markdown",
   "metadata": {
    "slideshow": {
     "slide_type": "notes"
    }
   },
   "source": [
    "Os slides estão aqui ... e claro, se vocês tiverem alguma dúvida, terei todo o gosto em respondê-la.\n",
    "\n",
    "Alguém tem alguma pergunta?"
   ]
  }
 ],
 "metadata": {
  "celltoolbar": "Slideshow",
  "kernelspec": {
   "display_name": "Python 3 (ipykernel)",
   "language": "python",
   "name": "python3"
  },
  "language_info": {
   "codemirror_mode": {
    "name": "ipython",
    "version": 3
   },
   "file_extension": ".py",
   "mimetype": "text/x-python",
   "name": "python",
   "nbconvert_exporter": "python",
   "pygments_lexer": "ipython3",
   "version": "3.9.6"
  },
  "livereveal": {
   "scroll": true,
   "start_slideshow_at": "selected",
   "theme": "white",
   "transition": "none"
  },
  "toc": {
   "base_numbering": 1,
   "nav_menu": {},
   "number_sections": false,
   "sideBar": false,
   "skip_h1_title": false,
   "title_cell": "Table of Contents",
   "title_sidebar": "Contents",
   "toc_cell": true,
   "toc_position": {
    "height": "923.011px",
    "left": "13px",
    "right": "20px",
    "top": "115px",
    "width": "278.991px"
   },
   "toc_section_display": true,
   "toc_window_display": false
  }
 },
 "nbformat": 4,
 "nbformat_minor": 2
}
