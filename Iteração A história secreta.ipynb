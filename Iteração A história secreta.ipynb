{
 "cells": [
  {
   "cell_type": "markdown",
   "metadata": {
    "slideshow": {
     "slide_type": "skip"
    }
   },
   "source": [
    "Iteração: A história secreta - Naomi Ceder\n",
    "\n",
    "Usar laços \"for\" e \"list comprehensions é bastante comum e até básico em Python. Mas como a iteração realmente funciona em Python? As palavras \"iterador\" e \"iterável\" aparecem mais de quinhentas vezes na documentação do Python, mas o que um \"iterador\" realmente faz em comparação com um \"iterável\"? E como eles fazem isso? Nesta palestra você aprenderá os detalhes da história secreta da iteração, com um pouco de codificação ao vivo. \n"
   ]
  },
  {
   "cell_type": "markdown",
   "metadata": {
    "nbpresent": {
     "id": "ce2bdbfa-efaa-47f1-94f6-fa04558f09fc"
    },
    "slideshow": {
     "slide_type": "slide"
    }
   },
   "source": [
    "# Iteração: A história secreta\n",
    "\n",
    "## De dentro do protocolo de iteração\n",
    "\n",
    "### Python Brasil 2020\n",
    "\n",
    "Naomi Ceder\n",
    "\n",
    "**Este jupyter notebook está disponível em https://github.com/nceder/workshops**\n"
   ]
  },
  {
   "cell_type": "markdown",
   "metadata": {
    "slideshow": {
     "slide_type": "notes"
    }
   },
   "source": [
    "Olá, sou Naomi e hoje vou falar um pouco sobre o processo de iteração em Python. \n",
    "\n",
    "Em primeiro lugar, estou muito honrada em apresentar esta palestra. Há apenas 4 anos, fiz uma palestra principal na Python Brasil 12 - foi a primeira vez que visitei a América Latina e sempre penso nisso como o início de conhecer tantas pessoas incríveis em tantos países. \n",
    "\n",
    "Pra mim esta palestra é muito especial por outro motivo - é a minha primeira em português.\n",
    "\n",
    "Obrigada e espero que vocês gostem (e entendam) desta palestra.\n",
    "\n"
   ]
  },
  {
   "cell_type": "markdown",
   "metadata": {
    "slideshow": {
     "slide_type": "slide"
    }
   },
   "source": [
    "## Iteração = a repetição com código e dados"
   ]
  },
  {
   "cell_type": "markdown",
   "metadata": {
    "slideshow": {
     "slide_type": "notes"
    }
   },
   "source": [
    "Então, todos nós sabemos (ou pensamos que sabemos) o que é iteração: repetir código com dados ...\n",
    "\n",
    "Mas embora o uso de iteração seja muito comum, diria que a história de seu funcionamento não é bem conhecida.\n",
    "\n",
    "Na verdade, Dave Beazley, um grande homem do Python (e um colega aqui em Chicago) chamou a iteração de \"Python's most powerful useful feature\", ou seja, um recurso poderoso que todos nós usamos todos os dias.\n",
    "\n",
    "Eu recomendo fortemente que você assista ao vídeo de sua palestra remota na PyCon Paquistão; conta a história do protocolo de iteração dos primeiros dias do Python ... e toca a música do Monty Python em seu trombone."
   ]
  },
  {
   "cell_type": "markdown",
   "metadata": {
    "slideshow": {
     "slide_type": "fragment"
    }
   },
   "source": [
    "## “Python's most powerful useful feature” - “o recurso útil mais poderoso do Python\"”\n",
    "\n",
    "-- Dave Beazley, “[Iterations of Evolution: The Unauthorized Biography of the For-Loop](https://www.youtube.com/watch?v=2AXuhgid7E4)”"
   ]
  },
  {
   "cell_type": "markdown",
   "metadata": {
    "slideshow": {
     "slide_type": "slide"
    }
   },
   "source": [
    "### Coleções / séries repetitivas de dados estão em toda parte\n",
    "\n",
    "**por exemplo:**\n",
    "* temperaturas de um mês\n",
    "* chaves para um dicionário de números de identificação de membro: informações do membro\n",
    "* um arquivo CSV de um milhão de produtos\n",
    "* o texto do romance *Moby Dick*\n",
    "* os resultados de uma consulta de banco de dados para as vendas de ontem"
   ]
  },
  {
   "cell_type": "markdown",
   "metadata": {
    "slideshow": {
     "slide_type": "notes"
    }
   },
   "source": [
    "E, claro, existem muitas coleções de dados em todos os lugares ... podem ser... "
   ]
  },
  {
   "cell_type": "markdown",
   "metadata": {
    "slideshow": {
     "slide_type": "slide"
    }
   },
   "source": [
    "### Elas têm pouco em comum\n",
    "  * diferentes tipos de séries \n",
    "  * diferentes tipos de elementos\n",
    "\n",
    "### Mas...\n",
    "\n",
    "para todas, a mesma estrutura pode ser usada para iteração."
   ]
  },
  {
   "cell_type": "markdown",
   "metadata": {
    "slideshow": {
     "slide_type": "slide"
    }
   },
   "source": [
    "### O laço `for` Pythonico"
   ]
  },
  {
   "cell_type": "markdown",
   "metadata": {
    "slideshow": {
     "slide_type": "notes"
    }
   },
   "source": [
    "Ok ... vamos ver um loop `for`. É claro que loops `for` são usados em quase todas as linguagens de programação. Mas, como eu disse antes, nem todos funcionam da mesma maneira e Python foi um dos primeiros a iterar em uma sequência. Hoje, é claro, vários idiomas possuem esse recurso.\n",
    "\n",
    "Mas deixe-me escrever um pequeno loop...\n",
    "\n",
    "```\n",
    "for elemento in uma_lista:\n",
    "    print(elemento)\n",
    "```\n",
    "\n",
    "\n",
    "Isso funciona conforme o esperado e conta de um a quatro."
   ]
  },
  {
   "cell_type": "code",
   "execution_count": 21,
   "metadata": {
    "slideshow": {
     "slide_type": "fragment"
    }
   },
   "outputs": [
    {
     "name": "stdout",
     "output_type": "stream",
     "text": [
      "1\n",
      "2\n",
      "3\n",
      "4\n"
     ]
    }
   ],
   "source": [
    "# laço for (estilo Python)\n",
    "uma_lista = [1, 2, 3, 4]\n",
    "\n",
    "for elemento in uma_lista:\n",
    "    print(elemento)"
   ]
  },
  {
   "cell_type": "markdown",
   "metadata": {
    "slideshow": {
     "slide_type": "slide"
    }
   },
   "source": [
    "### Pergunta: nesse loop simples, quantas exceções são lançadas?\n",
    "\n",
    "* 0\n",
    "* 1\n",
    "* 4\n",
    "* 2\n",
    "\n"
   ]
  },
  {
   "cell_type": "markdown",
   "metadata": {
    "slideshow": {
     "slide_type": "notes"
    }
   },
   "source": [
    "Mas... tenho uma pergunta - nesse loop, quantas exeções são lançadas? Sabe?\n",
    "\n",
    "A certa resposta é 2 ...\n",
    "\n",
    "Você teve a resposta correta? Logo veremos por quê."
   ]
  },
  {
   "cell_type": "markdown",
   "metadata": {
    "slideshow": {
     "slide_type": "fragment"
    }
   },
   "source": [
    "A certa resposta é 2 ...\n",
    "\n",
    "Você teve a resposta correta? Logo veremos por quê."
   ]
  },
  {
   "cell_type": "markdown",
   "metadata": {
    "slideshow": {
     "slide_type": "slide"
    }
   },
   "source": [
    "## Em 1994 esse loop foi surpreendente\n",
    "\n",
    "### Python and `for` loops\n",
    "\n",
    "The `for` statement in Python differs a bit \n",
    "from what you may be\n",
    "used to in C or Pascal.  Rather than always iterating over an\n",
    "arithmetic progression of numbers (like in Pascal), or leaving the user\n",
    "completely free in the iteration test and step (as C), Python's `for` \n",
    "statement iterates over the items of any sequence (e.g., a list\n",
    "or a string), in the order that they appear in the sequence.\n",
    "\n",
    "-- Python V 1.1 Docs, 1994"
   ]
  },
  {
   "cell_type": "markdown",
   "metadata": {
    "slideshow": {
     "slide_type": "notes"
    }
   },
   "source": [
    "Não vou traduzir este parágrafo; É da documentação do Python 1.1, 25 anos atrás.\n",
    "\n",
    "O importante é que este texto assume que os leitores estavam esperando uma linguagem em que um loop `for` fosse apenas uma sequência de inteiros, como Pascal (em 1994 eu estava ensinando Pascal para alunos do ensino médio, então me lembro bem disso) ou uma linguagem na qual não há regras sobre os componentes da instrução `for` como C.\n",
    "\n",
    "(Você sabe que a instrução `for` em C requer? Apenas parênteses e dois pontos e virgulas, nada mais.)\n",
    "\n",
    "Por outro lado, Python era um pouco estranho porque a instrução `for` operava nos membros de uma sequência."
   ]
  },
  {
   "cell_type": "markdown",
   "metadata": {
    "slideshow": {
     "slide_type": "slide"
    }
   },
   "source": [
    "## Como é que isso funciona?\n",
    "\n",
    "* ** Como um loop `for` sabe qual elemento é o \"próximo\"? **\n",
    "* ** Como os loops `for` podem usar tantos tipos diferentes? **\n",
    "* ** O que faz um objeto \"funcionar\" num loop `for`? **"
   ]
  },
  {
   "cell_type": "markdown",
   "metadata": {
    "slideshow": {
     "slide_type": "slide"
    }
   },
   "source": [
    "## protocolo de iteração\n",
    "\n",
    "* iteração em Python depende de um **protocolo**, não de tipos (desde Python 2.2)\n",
    "* é um bom exemplo de \"duck typing\" em Python - qualquer objeto que siga o protocolo pode ser iterado."
   ]
  },
  {
   "cell_type": "markdown",
   "metadata": {
    "slideshow": {
     "slide_type": "notes"
    }
   },
   "source": [
    "A iteração em Python funciona com tantos tipos porque é um protocolo ... ou seja, é uma maneira especificada de iterar em sequências ou coisas que se comportam como sequências. O protocolo especifica como o seguinte é retornado e quais métodos um objeto precisa para iterar.\n",
    "\n",
    "Este é um conceito muito importante em Python, a ideia de que a forma como um objeto funciona é mais importante do que seu tipo. Em Python, às vezes chamamos isso de \"mais fácil pedir desculpas do que permissão\" - não perguntamos se um objeto é do tipo correto ... apenas tentamos e vemos se faz o que queremos."
   ]
  },
  {
   "cell_type": "markdown",
   "metadata": {
    "slideshow": {
     "slide_type": "slide"
    }
   },
   "source": [
    "### O protocolo: \n",
    "1. para iteração precisa de um objeto **iterável**\n",
    "2. e um **iterador** (que Python geralmente cria para você)"
   ]
  },
  {
   "cell_type": "markdown",
   "metadata": {
    "slideshow": {
     "slide_type": "notes"
    }
   },
   "source": [
    "O protocolo tem duas partes... \n",
    "\n",
    "Esses termos são mencionados mais de 500 vezes na documentação oficial do Python. Eles são muito semelhantes e fáceis de confundir, mas devemos entender como cada um funciona para entender a iteração em Python."
   ]
  },
  {
   "cell_type": "markdown",
   "metadata": {
    "slideshow": {
     "slide_type": "slide"
    }
   },
   "source": [
    "## O que é um ‘iterável’?\n",
    "\n",
    "* um objeto que pode retornar seus elementos **um após o outro**\n",
    "* um objeto que retorna um **iterador** se a função `iter()` é chamada com ele.\n",
    "\n",
    "#### ou seja\n",
    "* **qualquier classe** com um método **`__iter__()`** \n",
    "* ou **qualqier classe** com um método **`__getitem__()`** que implementa **semântica de sequência**.\n",
    "\n",
    "Os iteráves incluem **todos os tipos de sequência** (como `list`, `str`, e `tuple`) e **alguns tipos não  sequência** como `dict`, arquivos, etc.\n",
    "\n",
    "**Observação: sublinhados duplos são pronunciados \"dunder\" em inglês (abreviação de \"double underscore\")**"
   ]
  },
  {
   "cell_type": "markdown",
   "metadata": {
    "slideshow": {
     "slide_type": "notes"
    }
   },
   "source": [
    "Os iteráveis podem ser criados de **duas** maneiras. Se ele contém um método `__iter__` que retorna um iterador, é (como veremos) um iterável. Mas se não contiver um método `__iter__` ele ainda pode ser iterável si contiver um método `__getitem__` com semântica de sequência. E muitos objetos, como listas e strings, contém ambos."
   ]
  },
  {
   "cell_type": "markdown",
   "metadata": {
    "slideshow": {
     "slide_type": "slide"
    }
   },
   "source": [
    "### ¿Semântica de sequência?\n",
    "* um objeto acessa seus valores ou elementos em ordem\n",
    "* acessa seus elementos com colchetes `[]` e índices de inteiros começando em 0\n",
    "* lança uma execeção IndexError quando o índice está más além do final da sequência\n",
    "\n",
    "```\n",
    "x[0]\n",
    "x[1]\n",
    "x[2]\n",
    "```"
   ]
  },
  {
   "cell_type": "markdown",
   "metadata": {
    "slideshow": {
     "slide_type": "notes"
    }
   },
   "source": [
    "Mas, o que é  semântica de sequência? É quando um objeto...\n",
    "\n",
    "Neste exemplo a lista `x` contém três elementos que podemos acessar com os índices 0, 1, e 2. Se tentarmos acessar a posição 3 (ou o quarto elemento) uma execeção IndexError é lançada, porque esse elemento não existe no objeto."
   ]
  },
  {
   "cell_type": "markdown",
   "metadata": {
    "slideshow": {
     "slide_type": "slide"
    }
   },
   "source": [
    "## Vamos fazer um iterável -  `Repeater`\n",
    "\n",
    "Um objeto que pode ser iterado e retorna o mesmo valor o número especificado de vezes.\n",
    "\n",
    "```\n",
    "repeat = Repeater(\"olá\", 4)\n",
    "\n",
    "for i in repeat:\n",
    "    print(i)\n",
    "\n",
    "olá\n",
    "olá\n",
    "olá\n",
    "olá\n",
    "```"
   ]
  },
  {
   "cell_type": "markdown",
   "metadata": {
    "slideshow": {
     "slide_type": "notes"
    }
   },
   "source": [
    "Vamos ver como um iterável funciona na prática... Vou criar uma classe que é um iterável o mais simples possível. Será muito simples, retornando o mesmo valor um determinado número de vezes. \n",
    "\n",
    "Se criamos uma instância de Repeat com o valor \"olá\" e o número 4, esse iterável vai retornar \"olá\" 4 vezes."
   ]
  },
  {
   "cell_type": "markdown",
   "metadata": {
    "slideshow": {
     "slide_type": "slide"
    }
   },
   "source": [
    "### Um iterável com `__getitem__()`"
   ]
  },
  {
   "cell_type": "markdown",
   "metadata": {
    "slideshow": {
     "slide_type": "notes"
    }
   },
   "source": [
    "Porque não tem método `__iter__()`, temos que implementar a classe con `__getitem__`.\n",
    "\n",
    "Vou fazer assim...\n",
    "\n",
    "```\n",
    "    def __getitem__(self, indice):\n",
    "        if 0 <= indice < self.límite:\n",
    "            return self.valor\n",
    "        else:\n",
    "            raise IndexError\n",
    "```"
   ]
  },
  {
   "cell_type": "code",
   "execution_count": 22,
   "metadata": {
    "slideshow": {
     "slide_type": "fragment"
    }
   },
   "outputs": [],
   "source": [
    "class Repeater:\n",
    "    def __init__(self, valor, limite):\n",
    "        self.valor = valor\n",
    "        self.limite = limite\n",
    "\n",
    "    def __getitem__(self, indice):\n",
    "        if 0 <= indice < self.limite:\n",
    "            return self.valor\n",
    "        else:\n",
    "            raise IndexError"
   ]
  },
  {
   "cell_type": "code",
   "execution_count": 23,
   "metadata": {
    "slideshow": {
     "slide_type": "slide"
    }
   },
   "outputs": [],
   "source": [
    "repeat = Repeater(\"olá\", 4)\n"
   ]
  },
  {
   "cell_type": "markdown",
   "metadata": {
    "slideshow": {
     "slide_type": "notes"
    }
   },
   "source": [
    "Vamos criar uma instância desta classe... com o valor 'olá' e 4 como o número de repetições. \n",
    "\n",
    "Vamos tentar a semântica da sequência ... quais índices funcionam? e quais lançam exceções?\n",
    "\n",
    "e que retorna `iter()`?"
   ]
  },
  {
   "cell_type": "code",
   "execution_count": 24,
   "metadata": {
    "scrolled": true,
    "slideshow": {
     "slide_type": "fragment"
    }
   },
   "outputs": [
    {
     "data": {
      "text/plain": [
       "'olá'"
      ]
     },
     "execution_count": 24,
     "metadata": {},
     "output_type": "execute_result"
    }
   ],
   "source": [
    "# __getitem__ com semântica de sequência?\n",
    "\n",
    "repeat[3]"
   ]
  },
  {
   "cell_type": "code",
   "execution_count": 25,
   "metadata": {
    "slideshow": {
     "slide_type": "fragment"
    }
   },
   "outputs": [
    {
     "data": {
      "text/plain": [
       "<iterator at 0x7fab21a24850>"
      ]
     },
     "execution_count": 25,
     "metadata": {},
     "output_type": "execute_result"
    }
   ],
   "source": [
    "# retorna a função iter() um iterador?\n",
    "\n",
    "iter(repeat)"
   ]
  },
  {
   "cell_type": "code",
   "execution_count": 26,
   "metadata": {
    "slideshow": {
     "slide_type": "slide"
    }
   },
   "outputs": [
    {
     "name": "stdout",
     "output_type": "stream",
     "text": [
      "olá\n",
      "olá\n",
      "olá\n",
      "olá\n"
     ]
    }
   ],
   "source": [
    "# funciona num laço?\n",
    "for elemento in repeat:\n",
    "    print(elemento)"
   ]
  },
  {
   "cell_type": "markdown",
   "metadata": {
    "slideshow": {
     "slide_type": "notes"
    }
   },
   "source": [
    "Funciona num laço?\n",
    "\n",
    "Funciona numa lista de compreensão?"
   ]
  },
  {
   "cell_type": "code",
   "execution_count": 27,
   "metadata": {
    "scrolled": true,
    "slideshow": {
     "slide_type": "fragment"
    }
   },
   "outputs": [
    {
     "data": {
      "text/plain": [
       "['olá', 'olá', 'olá', 'olá']"
      ]
     },
     "execution_count": 27,
     "metadata": {},
     "output_type": "execute_result"
    }
   ],
   "source": [
    "# numa lista de compreensão?\n",
    "\n",
    "[x for x in repeat]"
   ]
  },
  {
   "cell_type": "markdown",
   "metadata": {
    "slideshow": {
     "slide_type": "slide"
    }
   },
   "source": [
    "### O que realmente aconteceu\n",
    "\n",
    "* o objeto `repeat` é um **iterável**\n",
    "   * pode retornar seus elementos com índices inteiros começando em 0\n",
    "   * continua até que uma exceção IndexError seja gerada\n",
    "* um **iterador** é criado do objeto `repeat` pela instrução` for`\n",
    "   * o iterador obtém cada elemento do iterável\n",
    "   * o iterador captura a exceção IndexError de iterável e para a iteração\n",
    "* toda vez que um novo processo de iteração é iniciado, um novo iterador é criado e a iteração começa do início\n",
    "\n",
    "** Observação: ** Nosso objeto de repetição lançou uma exceção IndexError ... como quase sempre em loops como este"
   ]
  },
  {
   "cell_type": "markdown",
   "metadata": {
    "slideshow": {
     "slide_type": "notes"
    }
   },
   "source": [
    "No caso da instrução `for`, ele realmente chama `iter()` para obter um iterador, e mantém o iterador em uma variável anônima."
   ]
  },
  {
   "cell_type": "markdown",
   "metadata": {
    "slideshow": {
     "slide_type": "slide"
    }
   },
   "source": [
    "## O que é um iterador?\n",
    "\n",
    "* O loop `for` em Python depende de ser capaz de obter o elemento **next** (próximo)\n",
    "* **o próprio laço não sabe e não se importa** exatamente onde na série um elemento está (ou que tipo ele é)\n",
    "* **o próprio iterável não sabe** qual elemento é o **next**\n",
    "* mas o **iterador** precisa saber qual elemento é o **next**\n",
    "\n",
    "\n",
    "Um **iterador** tem um método `__next __ ()` que retorna o próximo elemento na sequência."
   ]
  },
  {
   "cell_type": "markdown",
   "metadata": {
    "slideshow": {
     "slide_type": "slide"
    }
   },
   "source": [
    "### Um iterador\n",
    "\n",
    "* representa **um fluxo de dados**.\n",
    "* cada **chamada do método `__next __ ()` do iterador** (ou a função `next ()`) **retornará o próximo elemento** no fluxo.\n",
    "* quando **não há mais elementos, uma exceção StopIteration** é lançada.\n",
    "* o **iterador está esgotado** e se você chamar o método `__next __ ()` novamente, a exceção StopIteration é lançada..."
   ]
  },
  {
   "cell_type": "markdown",
   "metadata": {
    "slideshow": {
     "slide_type": "notes"
    }
   },
   "source": [
    "Mas o que é um iterador? Um iterador... "
   ]
  },
  {
   "cell_type": "markdown",
   "metadata": {
    "slideshow": {
     "slide_type": "slide"
    }
   },
   "source": [
    "### Todos os iteradores\n",
    "* deve ter um método `__iter__()` que retorna o próprio iterador\n",
    "   * portanto, **todos os iteradores também são iteráveis**\n",
    "   * todos os iteradores podem ser usados em locais onde outros iteráveis são aceitos."
   ]
  },
  {
   "cell_type": "markdown",
   "metadata": {
    "slideshow": {
     "slide_type": "slide"
    }
   },
   "source": [
    "### Múltiplas Iteraçôes\n",
    "* A maioria dos iteráveis (por exemplo, listas) produzem **um novo iterador por vez**.\n",
    "* **um iterador sempre retornará o mesmo iterador esgotado** da iteração anterior, como um contêiner vazio."
   ]
  },
  {
   "cell_type": "markdown",
   "metadata": {
    "slideshow": {
     "slide_type": "notes"
    }
   },
   "source": [
    "Uma diferença importante entre um iterável e um iterador é como funcionam com múltiplas iterações... "
   ]
  },
  {
   "cell_type": "markdown",
   "metadata": {
    "slideshow": {
     "slide_type": "slide"
    }
   },
   "source": [
    "### Vamos fazer um iterador - `RepeatIterator`\n",
    "\n",
    "Funcionará quase da mesma maneira, mas vamos implementá-lo como um iterador\n",
    "\n",
    "* método `__next __ ()` para retornar o próximo elemento\n",
    "* método `__iter __ ()` para retornar o próprio iterador"
   ]
  },
  {
   "cell_type": "markdown",
   "metadata": {
    "slideshow": {
     "slide_type": "notes"
    }
   },
   "source": [
    "Então... agora vamos criar um iterador\n",
    "\n",
    "como iterador, deve ter um método `__next__` e um método `__iter__`..."
   ]
  },
  {
   "cell_type": "code",
   "execution_count": 28,
   "metadata": {
    "slideshow": {
     "slide_type": "slide"
    }
   },
   "outputs": [],
   "source": [
    "class RepeatIterator:\n",
    "    def __init__(self, valor, limite):\n",
    "        self.valor = valor\n",
    "        self.limite = limite\n",
    "        self.conta = 0 \n",
    "        \n",
    "    def __next__(self):\n",
    "        if self.conta < self.limite:\n",
    "            self.conta += 1\n",
    "            return self.valor\n",
    "        else:\n",
    "            raise StopIteration\n",
    "            \n",
    "    def __iter__(self):\n",
    "        return self\n",
    " "
   ]
  },
  {
   "cell_type": "markdown",
   "metadata": {
    "slideshow": {
     "slide_type": "notes"
    }
   },
   "source": [
    "```\n",
    "class RepeatIterator:\n",
    "    def __init__(self, valor, limite):\n",
    "        self.valor = valor\n",
    "        self.limite = limite\n",
    "        self.conta = 0\n",
    "        \n",
    "    def __next__(self):\n",
    "        if self.conta < self.limite:\n",
    "            self.conta += 1\n",
    "            return self.valor\n",
    "        else:\n",
    "            raise StopIteration\n",
    "            \n",
    "    def __iter__(self):\n",
    "        return self\n",
    " ```\n",
    "\n",
    "Adicionamos uma variável de instância \"conta\" para que o objeto saiba onde está na sequência.\n",
    "\n",
    "E, neste caso, após retornar o último item, o objeto não lança uma exceção IndexError (porque não é acessado por índice), mas sim uma exceção StopIteration.\n",
    "\n",
    "E, claro, existe um método `__iter __ ()` que retorna o próprio objeto."
   ]
  },
  {
   "cell_type": "code",
   "execution_count": 29,
   "metadata": {
    "slideshow": {
     "slide_type": "slide"
    }
   },
   "outputs": [
    {
     "data": {
      "text/plain": [
       "<__main__.RepeatIterator at 0x7fab21a24550>"
      ]
     },
     "execution_count": 29,
     "metadata": {},
     "output_type": "execute_result"
    }
   ],
   "source": [
    "# é criada uma instância de RepeatIterator\n",
    "\n",
    "repeat_iter = RepeatIterator(\"Olá\", 4)\n",
    "\n",
    "repeat_iter"
   ]
  },
  {
   "cell_type": "markdown",
   "metadata": {
    "slideshow": {
     "slide_type": "notes"
    }
   },
   "source": [
    "Bom, temos uma instância de RepeatIterator. Um iterador deve retornar o próximo valor com a função `next()`...\n",
    "\n",
    "e nossa instância faz isso"
   ]
  },
  {
   "cell_type": "code",
   "execution_count": 30,
   "metadata": {
    "scrolled": true,
    "slideshow": {
     "slide_type": "fragment"
    }
   },
   "outputs": [
    {
     "data": {
      "text/plain": [
       "'Olá'"
      ]
     },
     "execution_count": 30,
     "metadata": {},
     "output_type": "execute_result"
    }
   ],
   "source": [
    "# a função next() retorna o próximo elemento?\n",
    "next(repeat_iter)"
   ]
  },
  {
   "cell_type": "code",
   "execution_count": 31,
   "metadata": {
    "slideshow": {
     "slide_type": "slide"
    }
   },
   "outputs": [
    {
     "name": "stdout",
     "output_type": "stream",
     "text": [
      "<__main__.RepeatIterator object at 0x7fab21a24550>\n",
      "<__main__.RepeatIterator object at 0x7fab21a24550>\n"
     ]
    }
   ],
   "source": [
    "# quando iter() e chamada com ela, \n",
    "# retorna o objeto mesmo?\n",
    "print(repeat_iter)\n",
    "\n",
    "repeat_iter_iter = iter(repeat_iter)\n",
    "print(repeat_iter_iter) "
   ]
  },
  {
   "cell_type": "markdown",
   "metadata": {
    "slideshow": {
     "slide_type": "slide"
    }
   },
   "source": [
    "a próxima pergunta é quando `iter()` é chamada com ela, retorna o objeto mesmo?\n",
    "\n",
    "Sim... \n",
    "\n",
    "Por outro lado quando chamamos `iter()` com nosso iterável, retorna um objeto diferente a cada vez."
   ]
  },
  {
   "cell_type": "code",
   "execution_count": 32,
   "metadata": {
    "slideshow": {
     "slide_type": "fragment"
    }
   },
   "outputs": [
    {
     "name": "stdout",
     "output_type": "stream",
     "text": [
      "<iterator object at 0x7fab2161e490>\n",
      "<iterator object at 0x7fab2161e970>\n"
     ]
    }
   ],
   "source": [
    "# chamar iter() com iterável \n",
    "# sempre retorna una iterador novo\n",
    "print(iter(repeat))\n",
    "\n",
    "print(iter(repeat))"
   ]
  },
  {
   "cell_type": "code",
   "execution_count": 33,
   "metadata": {
    "scrolled": true,
    "slideshow": {
     "slide_type": "slide"
    }
   },
   "outputs": [
    {
     "name": "stdout",
     "output_type": "stream",
     "text": [
      "Olá\n",
      "Olá\n",
      "Olá\n"
     ]
    }
   ],
   "source": [
    "# você pode usá-lo em um loop for?\n",
    "for elemento in repeat_iter:\n",
    "    print(elemento)"
   ]
  },
  {
   "cell_type": "markdown",
   "metadata": {
    "slideshow": {
     "slide_type": "slide"
    }
   },
   "source": [
    "Finalmente, podemos usá-lo em um loop?\n",
    "\n",
    "Claro, funciona perfeitamente..."
   ]
  },
  {
   "cell_type": "code",
   "execution_count": 34,
   "metadata": {
    "slideshow": {
     "slide_type": "slide"
    }
   },
   "outputs": [
    {
     "ename": "StopIteration",
     "evalue": "",
     "output_type": "error",
     "traceback": [
      "\u001b[0;31m---------------------------------------------------------------------------\u001b[0m",
      "\u001b[0;31mStopIteration\u001b[0m                             Traceback (most recent call last)",
      "\u001b[0;32m<ipython-input-34-b6938f98b49f>\u001b[0m in \u001b[0;36m<module>\u001b[0;34m\u001b[0m\n\u001b[1;32m      1\u001b[0m \u001b[0;31m# pode ser reutilizado? (com next())\u001b[0m\u001b[0;34m\u001b[0m\u001b[0;34m\u001b[0m\u001b[0;34m\u001b[0m\u001b[0m\n\u001b[0;32m----> 2\u001b[0;31m \u001b[0mnext\u001b[0m\u001b[0;34m(\u001b[0m\u001b[0mrepeat_iter\u001b[0m\u001b[0;34m)\u001b[0m\u001b[0;34m\u001b[0m\u001b[0;34m\u001b[0m\u001b[0m\n\u001b[0m",
      "\u001b[0;32m<ipython-input-28-5b31ed89c9ee>\u001b[0m in \u001b[0;36m__next__\u001b[0;34m(self)\u001b[0m\n\u001b[1;32m     10\u001b[0m             \u001b[0;32mreturn\u001b[0m \u001b[0mself\u001b[0m\u001b[0;34m.\u001b[0m\u001b[0mvalor\u001b[0m\u001b[0;34m\u001b[0m\u001b[0;34m\u001b[0m\u001b[0m\n\u001b[1;32m     11\u001b[0m         \u001b[0;32melse\u001b[0m\u001b[0;34m:\u001b[0m\u001b[0;34m\u001b[0m\u001b[0;34m\u001b[0m\u001b[0m\n\u001b[0;32m---> 12\u001b[0;31m             \u001b[0;32mraise\u001b[0m \u001b[0mStopIteration\u001b[0m\u001b[0;34m\u001b[0m\u001b[0;34m\u001b[0m\u001b[0m\n\u001b[0m\u001b[1;32m     13\u001b[0m \u001b[0;34m\u001b[0m\u001b[0m\n\u001b[1;32m     14\u001b[0m     \u001b[0;32mdef\u001b[0m \u001b[0m__iter__\u001b[0m\u001b[0;34m(\u001b[0m\u001b[0mself\u001b[0m\u001b[0;34m)\u001b[0m\u001b[0;34m:\u001b[0m\u001b[0;34m\u001b[0m\u001b[0;34m\u001b[0m\u001b[0m\n",
      "\u001b[0;31mStopIteration\u001b[0m: "
     ]
    }
   ],
   "source": [
    "# pode ser reutilizado? (com next())\n",
    "next(repeat_iter)"
   ]
  },
  {
   "cell_type": "markdown",
   "metadata": {
    "slideshow": {
     "slide_type": "slide"
    }
   },
   "source": [
    "Mas... se o iterador é esgotado y usarmos `next()` novamente... o que acontece?\n",
    "\n",
    "Lança uma exceção StopIteration... o que esperaríamos"
   ]
  },
  {
   "cell_type": "code",
   "execution_count": null,
   "metadata": {
    "slideshow": {
     "slide_type": "slide"
    }
   },
   "outputs": [],
   "source": [
    "# podemos usar-lo novamente num laço for? \n",
    "for elemento in repeat_iter:\n",
    "    print(elemento) "
   ]
  },
  {
   "cell_type": "markdown",
   "metadata": {
    "slideshow": {
     "slide_type": "slide"
    }
   },
   "source": [
    "y se usarmos o iterador esgotado num loop?\n",
    "\n",
    "Nada... exatamente como se o objeto estivesse vazio."
   ]
  },
  {
   "cell_type": "markdown",
   "metadata": {
    "slideshow": {
     "slide_type": "slide"
    }
   },
   "source": [
    "### O que realmente aconteceu\n",
    "* o `for` chamou `iter()` com `repeat_iter`, que retornou si mesmo (em uma variável anônima)\n",
    "* o `for` chamou `next()` com o iterador para obter os valores do loop\n",
    "* o `for` pegou `StopIteration` e parou a iteração"
   ]
  },
  {
   "cell_type": "markdown",
   "metadata": {
    "slideshow": {
     "slide_type": "notes"
    }
   },
   "source": [
    "o que realmente aconteceu aqui é... \n",
    "Vimos como funcionam os iteráveis e iteradores ... precisamos de ambos, mas normalmente vemos apenas os iteráveis."
   ]
  },
  {
   "cell_type": "markdown",
   "metadata": {
    "slideshow": {
     "slide_type": "slide"
    }
   },
   "source": [
    "### É por isso que havia duas exceções na minha pergunta anterior ...\n",
    "1. uma exceção IndexError é lançada pelo iterável (e capturada pelo iterador)\n",
    "2. uma exceção StopIteration é lançada pelo iterador (e capturada pelo loop `for`)\n",
    "\n",
    "(se usarmos um iterador como iterável, será apenas uma exceção)"
   ]
  },
  {
   "cell_type": "markdown",
   "metadata": {
    "slideshow": {
     "slide_type": "slide"
    }
   },
   "source": [
    "É por isso que havia duas exceções na minha pergunta anterior ...\n",
    "\n",
    "uma exceção IndexError é lançada pelo iterável (e capturada pelo iterador)\n",
    "\n",
    "e, por sua vez uma exceção StopIteration é lançada pelo iterador (e capturada pelo loop for) que para a iteração.\n"
   ]
  },
  {
   "cell_type": "markdown",
   "metadata": {
    "slideshow": {
     "slide_type": "slide"
    }
   },
   "source": [
    "### A diferença entre um iterável e um iterador é importante\n",
    "\n",
    "* para iterar sobre uma sequência, um iterável é usado e um novo iterador é criado a cada vez ...\n",
    "* para iterar sobre um arquivo ou sobre os resultados de um banco de dados, e tal, um iterador é usado e esse iterador é **o mesmo objeto** todas as vezes (a menos que você obtenha explicitamente um novo) e **o iterador esgotado parece vazio.**"
   ]
  },
  {
   "cell_type": "markdown",
   "metadata": {
    "slideshow": {
     "slide_type": "notes"
    }
   },
   "source": [
    "Deve-se enfatizar que há uma diferença básica entre iteráveis e iteradores - um novo iterador é criado cada vez que um iterável é usado, mas um iterador pode ser usado como iterável apenas uma vez.\n",
    "\n",
    "Finalmente, depois de ver como criar um iterador como classe, devo dizer que existe uma maneira mais simples e comum de criar um iterador."
   ]
  },
  {
   "cell_type": "markdown",
   "metadata": {
    "slideshow": {
     "slide_type": "slide"
    }
   },
   "source": [
    "## Criar um iterador com uma função geradora\n",
    "\n",
    "* usa `yield` em vez de `return`\n",
    "* a função retorna um objeto, que é um generador\n",
    "* os generadores são iteradores"
   ]
  },
  {
   "cell_type": "markdown",
   "metadata": {
    "slideshow": {
     "slide_type": "notes"
    }
   },
   "source": [
    "Uma função geradora é um tipo especial de função...  a instrução \"return\" não é usada dentro de um gerador, mas `yield`. Se uma função contém 'yield', ela é um gerador, e quando o código é executado, um iterador é criado\n",
    "\n",
    "```\n",
    "    conta = 0\n",
    "    while conta < limite:\n",
    "        yield valor\n",
    "        conta += 1\n",
    "```"
   ]
  },
  {
   "cell_type": "code",
   "execution_count": 35,
   "metadata": {
    "slideshow": {
     "slide_type": "fragment"
    }
   },
   "outputs": [
    {
     "name": "stdout",
     "output_type": "stream",
     "text": [
      "olá\n",
      "olá\n",
      "olá\n"
     ]
    }
   ],
   "source": [
    "def repeat_gen(valor, limite):\n",
    "    conta = 0 \n",
    "    while conta < limite:\n",
    "        yield valor\n",
    "        conta += 1\n",
    "        \n",
    "for elemento in repeat_gen(\"olá\", 3): \n",
    "    print(elemento) "
   ]
  },
  {
   "cell_type": "markdown",
   "metadata": {
    "slideshow": {
     "slide_type": "slide"
    }
   },
   "source": [
    "### O que realmente aconteceu\n",
    "\n",
    "* `repeat_gen(\"olá\", 3)` **retornou um objeto gerador que também é um iterador**\n",
    "* `for` chamou `iter()` com o gerador anônimo\n",
    "* `for` chamou `next()` com gerador para obter os valores do loop (os valores foram retornados por `yield`)\n",
    "* o gerador retornou `StopIteration` ao terminar\n",
    "* `for` capturou o `StopIteration` e interrompeu a iteração"
   ]
  },
  {
   "cell_type": "markdown",
   "metadata": {
    "slideshow": {
     "slide_type": "slide"
    }
   },
   "source": [
    "### Observação sobre funções geradoras\n",
    "\n",
    "Mesmo que a função esteja no loop for, é o objeto gerador retornado pela função que é o iterador"
   ]
  },
  {
   "cell_type": "markdown",
   "metadata": {
    "slideshow": {
     "slide_type": "notes"
    }
   },
   "source": [
    "Neste exemplo o processo é explicito y podemos ver que não é a função, mas o gerador que é o iterador."
   ]
  },
  {
   "cell_type": "code",
   "execution_count": 36,
   "metadata": {
    "scrolled": true,
    "slideshow": {
     "slide_type": "fragment"
    }
   },
   "outputs": [
    {
     "name": "stdout",
     "output_type": "stream",
     "text": [
      "olá\n",
      "olá\n",
      "olá\n"
     ]
    }
   ],
   "source": [
    "def repeat_gen(valor, limite):\n",
    "    conta = 0 \n",
    "    while conta < limite:\n",
    "        yield valor\n",
    "        conta += 1\n",
    "        \n",
    "gen_iterator = repeat_gen(\"olá\", 3)\n",
    "\n",
    "for elemento in gen_iterator: \n",
    "    print(elemento) "
   ]
  },
  {
   "cell_type": "code",
   "execution_count": 37,
   "metadata": {
    "slideshow": {
     "slide_type": "slide"
    }
   },
   "outputs": [
    {
     "data": {
      "text/plain": [
       "<function __main__.repeat_gen(valor, limite)>"
      ]
     },
     "execution_count": 37,
     "metadata": {},
     "output_type": "execute_result"
    }
   ],
   "source": [
    "repeat_gen"
   ]
  },
  {
   "cell_type": "markdown",
   "metadata": {
    "slideshow": {
     "slide_type": "notes"
    }
   },
   "source": [
    "Aqui podemos ver a diferença entre a função que cria o gerador e o própio gerador, \n",
    "que é o objeto que funciona como um iterador\n",
    "\n",
    "Como eu disse, e mais comum e mais Pythonico usar funções geradoras para criar iteradores."
   ]
  },
  {
   "cell_type": "code",
   "execution_count": 38,
   "metadata": {
    "slideshow": {
     "slide_type": "fragment"
    }
   },
   "outputs": [
    {
     "data": {
      "text/plain": [
       "<generator object repeat_gen at 0x7fab21a427b0>"
      ]
     },
     "execution_count": 38,
     "metadata": {},
     "output_type": "execute_result"
    }
   ],
   "source": [
    "gen_iterator"
   ]
  },
  {
   "cell_type": "code",
   "execution_count": 39,
   "metadata": {
    "slideshow": {
     "slide_type": "fragment"
    }
   },
   "outputs": [
    {
     "data": {
      "text/plain": [
       "<generator object repeat_gen at 0x7fab21a427b0>"
      ]
     },
     "execution_count": 39,
     "metadata": {},
     "output_type": "execute_result"
    }
   ],
   "source": [
    "iter(gen_iterator)"
   ]
  },
  {
   "cell_type": "markdown",
   "metadata": {
    "slideshow": {
     "slide_type": "slide"
    }
   },
   "source": [
    "## Iteração em Python\n",
    "\n",
    "* é um **protocolo** (desde Python 2.2)\n",
    "* precisa de um **iterável**\n",
    "* também precisa de um **iterador** (muitas vezes anônimo y criado automaticamente) para obter o **next**\n",
    "* **iteradores podem ser usados como iteráveis,** mas não são \"atualizados\"\n",
    "* geradores também são iteradores e são comumente usados em vez de criar uma classe"
   ]
  },
  {
   "cell_type": "markdown",
   "metadata": {
    "slideshow": {
     "slide_type": "notes"
    }
   },
   "source": [
    "Bom... para resumir... a iteração em Python... \n",
    "\n",
    "* é um **protocolo** (desde Python 2.2)\n",
    "* precisa de um **iterável**\n",
    "* também precisa de um **iterador** (muitas vezes anônimo y criado automaticamente) para obter o **next**\n",
    "* **iteradores podem ser usados como iteráveis,** mas não são \"atualizados\"\n",
    "* geradores também são iteradores e são comumente usados em vez de criar uma classe\n",
    "\n",
    "É isso ... Espero que agora você tenha um melhor entendimento do que realmente acontece na iteração em Python e que você nunca se deixe enganar pela diferença entre um iterável e um iterador."
   ]
  },
  {
   "cell_type": "markdown",
   "metadata": {
    "slideshow": {
     "slide_type": "slide"
    }
   },
   "source": [
    "# Muito obrigada! Perguntas?\n",
    "\n",
    "### @NaomiCeder • naomi@naomiceder.tech • www.naomiceder.tech\n",
    "\n",
    "**Este jupyter notebook está disponível em https://github.com/nceder/workshops**\n",
    "\n",
    "## Recursos para iteração\n",
    "* O Tutorial Python - https://docs.python.org/pt-br/3.8/tutorial/index.html\n",
    "   * [Comandos `for`](https://docs.python.org/pt-br/3.8/tutorial/controlflow.html#for-statements)\n",
    "   * [Iteradores](https://docs.python.org/pt-br/3.8/tutorial/classes.html#iterators)\n",
    "   * [Geradores](https://docs.python.org/pt-br/3.8/tutorial/classes.html#generators) & [Expressões geradoras](https://docs.python.org/pt-br/3.8/tutorial/classes.html#generator-expressions)\n",
    "* [Tipos de iteradores documentação](https://docs.python.org/pt-br/dev/library/stdtypes.html#iterator-types)\n",
    "* [Iteradores, Programação Funcionado COMOFAZER](https://docs.python.org/pt-br/dev/howto/functional.html#iterators)\n",
    "* [Iterations of Evolution: The Unauthorized Biography of the For-Loop](https://www.youtube.com/watch?v=2AXuhgid7E4) - Dave Beazley, PyCon Pakistan 2017"
   ]
  },
  {
   "cell_type": "markdown",
   "metadata": {
    "slideshow": {
     "slide_type": "notes"
    }
   },
   "source": [
    "Se você tiver alguma pergunta, eu adoraria respondê-la..."
   ]
  },
  {
   "cell_type": "code",
   "execution_count": null,
   "metadata": {
    "slideshow": {
     "slide_type": "skip"
    }
   },
   "outputs": [],
   "source": []
  }
 ],
 "metadata": {
  "celltoolbar": "Slideshow",
  "kernelspec": {
   "display_name": "Python 3",
   "language": "python",
   "name": "python3"
  },
  "language_info": {
   "codemirror_mode": {
    "name": "ipython",
    "version": 3
   },
   "file_extension": ".py",
   "mimetype": "text/x-python",
   "name": "python",
   "nbconvert_exporter": "python",
   "pygments_lexer": "ipython3",
   "version": "3.8.3"
  },
  "livereveal": {
   "scroll": true,
   "start_slideshow_at": "selected",
   "theme": "white",
   "transition": "none"
  },
  "toc": {
   "base_numbering": 1,
   "nav_menu": {},
   "number_sections": false,
   "sideBar": true,
   "skip_h1_title": false,
   "title_cell": "Table of Contents",
   "title_sidebar": "Contents",
   "toc_cell": true,
   "toc_position": {},
   "toc_section_display": "block",
   "toc_window_display": false
  }
 },
 "nbformat": 4,
 "nbformat_minor": 2
}
