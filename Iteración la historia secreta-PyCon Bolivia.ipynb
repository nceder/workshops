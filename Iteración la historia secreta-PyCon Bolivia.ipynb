{
 "cells": [
  {
   "cell_type": "markdown",
   "metadata": {
    "slideshow": {
     "slide_type": "skip"
    },
    "toc": true
   },
   "source": [
    "<h1>Table of Contents<span class=\"tocSkip\"></span></h1>\n",
    "<div class=\"toc\"><ul class=\"toc-item\"><li><span><a href=\"#Iteración:-la-historia-secreta\" data-toc-modified-id=\"Iteración:-la-historia-secreta-1\">Iteración: la historia secreta</a></span><ul class=\"toc-item\"><li><span><a href=\"#Desde-el-interior-del-protocolo-de-iteración\" data-toc-modified-id=\"Desde-el-interior-del-protocolo-de-iteración-1.1\">Desde el interior del protocolo de iteración</a></span><ul class=\"toc-item\"><li><span><a href=\"#PyCon-Bolivia-27-Sept-2020\" data-toc-modified-id=\"PyCon-Bolivia-27-Sept-2020-1.1.1\">PyCon Bolivia 27 Sept 2020</a></span></li></ul></li><li><span><a href=\"#Iteración-=-repetición-con-código-y-datos\" data-toc-modified-id=\"Iteración-=-repetición-con-código-y-datos-1.2\">Iteración = repetición con código y datos</a></span></li><li><span><a href=\"#“Python's-most-powerful-useful-feature”---“La-más-poderosa-característica-útil-de-Python”\" data-toc-modified-id=\"“Python's-most-powerful-useful-feature”---“La-más-poderosa-característica-útil-de-Python”-1.3\">“Python's most powerful useful feature” - “La más poderosa característica útil de Python”</a></span><ul class=\"toc-item\"><li><span><a href=\"#Colecciones/series-repetitivas-de-datos-están-en-todas-partes\" data-toc-modified-id=\"Colecciones/series-repetitivas-de-datos-están-en-todas-partes-1.3.1\">Colecciones/series repetitivas de datos están en todas partes</a></span></li><li><span><a href=\"#Tienen-poco-en-común\" data-toc-modified-id=\"Tienen-poco-en-común-1.3.2\">Tienen poco en común</a></span></li><li><span><a href=\"#Pero...\" data-toc-modified-id=\"Pero...-1.3.3\">Pero...</a></span></li><li><span><a href=\"#El-bucle-de-for-Pythonico\" data-toc-modified-id=\"El-bucle-de-for-Pythonico-1.3.4\">El bucle de <code>for</code> Pythonico</a></span></li><li><span><a href=\"#Pregunta:-en-ese-bucle-simple-cuantas-excepciones-se-lanzan?\" data-toc-modified-id=\"Pregunta:-en-ese-bucle-simple-cuantas-excepciones-se-lanzan?-1.3.5\">Pregunta: en ese bucle simple cuantas excepciones se lanzan?</a></span></li></ul></li><li><span><a href=\"#En-1994-esto-bucle-estaba-sorprendente\" data-toc-modified-id=\"En-1994-esto-bucle-estaba-sorprendente-1.4\">En 1994 esto bucle estaba sorprendente</a></span><ul class=\"toc-item\"><li><span><a href=\"#Python-and-for-loops\" data-toc-modified-id=\"Python-and-for-loops-1.4.1\">Python and <code>for</code> loops</a></span></li></ul></li><li><span><a href=\"#¿Cómo-funciona-eso?\" data-toc-modified-id=\"¿Cómo-funciona-eso?-1.5\">¿Cómo funciona eso?</a></span></li><li><span><a href=\"#protocolo-de-iteración\" data-toc-modified-id=\"protocolo-de-iteración-1.6\">protocolo de iteración</a></span><ul class=\"toc-item\"><li><span><a href=\"#El-protocolo:\" data-toc-modified-id=\"El-protocolo:-1.6.1\">El protocolo:</a></span></li></ul></li><li><span><a href=\"#¿Qué-es-un-‘iterable’?\" data-toc-modified-id=\"¿Qué-es-un-‘iterable’?-1.7\">¿Qué es un ‘iterable’?</a></span><ul class=\"toc-item\"><li><span><a href=\"#¿Semántica-de-secuencia?\" data-toc-modified-id=\"¿Semántica-de-secuencia?-1.7.1\">¿Semántica de secuencia?</a></span></li></ul></li><li><span><a href=\"#Hagamos-un-iterable----Repeater\" data-toc-modified-id=\"Hagamos-un-iterable----Repeater-1.8\">Hagamos un iterable -  <code>Repeater</code></a></span><ul class=\"toc-item\"><li><span><a href=\"#Un-iterable,-usando-__getitem__()\" data-toc-modified-id=\"Un-iterable,-usando-__getitem__()-1.8.1\">Un iterable, usando <code>__getitem__()</code></a></span></li><li><span><a href=\"#Lo-que-realmente-ha-acontecido\" data-toc-modified-id=\"Lo-que-realmente-ha-acontecido-1.8.2\">Lo que realmente ha acontecido</a></span></li></ul></li><li><span><a href=\"#¿Qué-es-un-iterador?\" data-toc-modified-id=\"¿Qué-es-un-iterador?-1.9\">¿Qué es un iterador?</a></span><ul class=\"toc-item\"><li><span><a href=\"#Un-iterador\" data-toc-modified-id=\"Un-iterador-1.9.1\">Un iterador</a></span></li><li><span><a href=\"#Todos-los-iteradores\" data-toc-modified-id=\"Todos-los-iteradores-1.9.2\">Todos los iteradores</a></span></li><li><span><a href=\"#Iteraciones--múltiples\" data-toc-modified-id=\"Iteraciones--múltiples-1.9.3\">Iteraciones  múltiples</a></span></li><li><span><a href=\"#Hagamos-un-iterador---RepeatIterator\" data-toc-modified-id=\"Hagamos-un-iterador---RepeatIterator-1.9.4\">Hagamos un iterador - <code>RepeatIterator</code></a></span></li><li><span><a href=\"#Lo-que-realmente-ha-acontecido\" data-toc-modified-id=\"Lo-que-realmente-ha-acontecido-1.9.5\">Lo que realmente ha acontecido</a></span></li><li><span><a href=\"#La-diferencia-entre-un-iterable-y-un-iterador-es-importante\" data-toc-modified-id=\"La-diferencia-entre-un-iterable-y-un-iterador-es-importante-1.9.6\">La diferencia entre un iterable y un iterador es importante</a></span></li></ul></li><li><span><a href=\"#Crear-un-iterador-con-una-función-de-generador\" data-toc-modified-id=\"Crear-un-iterador-con-una-función-de-generador-1.10\">Crear un iterador con una función de generador</a></span><ul class=\"toc-item\"><li><span><a href=\"#Lo-que-realmente-ha-acontecido\" data-toc-modified-id=\"Lo-que-realmente-ha-acontecido-1.10.1\">Lo que realmente ha acontecido</a></span></li></ul></li><li><span><a href=\"#Iteración-en-Python\" data-toc-modified-id=\"Iteración-en-Python-1.11\">Iteración en Python</a></span></li></ul></li><li><span><a href=\"#Fin\" data-toc-modified-id=\"Fin-2\">Fin</a></span><ul class=\"toc-item\"><li><span><a href=\"#Iteracion:-la-historia-secreta\" data-toc-modified-id=\"Iteracion:-la-historia-secreta-2.1\">Iteracion: la historia secreta</a></span></li></ul></li><li><span><a href=\"#¡Mil-gracias!\" data-toc-modified-id=\"¡Mil-gracias!-3\">¡Mil gracias!</a></span><ul class=\"toc-item\"><li><span><a href=\"#¿Preguntas?\" data-toc-modified-id=\"¿Preguntas?-3.1\">¿Preguntas?</a></span><ul class=\"toc-item\"><li><span><a href=\"#@NaomiCeder\" data-toc-modified-id=\"@NaomiCeder-3.1.1\">@NaomiCeder</a></span></li><li><span><a href=\"#naomi@naomiceder.tech-•-www.naomiceder.tech\" data-toc-modified-id=\"naomi@naomiceder.tech-•-www.naomiceder.tech-3.1.2\"><a href=\"mailto:naomi@naomiceder.tech\" target=\"_blank\">naomi@naomiceder.tech</a> • <a href=\"http://www.naomiceder.tech\" target=\"_blank\">www.naomiceder.tech</a></a></span></li></ul></li><li><span><a href=\"#Recursos\" data-toc-modified-id=\"Recursos-3.2\">Recursos</a></span></li></ul></li></ul></div>"
   ]
  },
  {
   "cell_type": "markdown",
   "metadata": {
    "slideshow": {
     "slide_type": "skip"
    }
   },
   "source": [
    "Iteración: la historia secreta - Naomi Ceder\n",
    "\n",
    "Usar bucles `for` y comprensiones de lista en Python es bastante común y básico. Pero ¿cómo funciona la iteración en Python en verdad? Las palabras \"iterator\" y \"iterable\" aparecen más de 500 veces en la documentación de Python, pero ¿qué hace en realidad un \"iterator\" en contraste con una \"iterable\"? Y ¿cómo lo hacen? Cognosca los detalles de la historia secreta de la iteración, con un poquito de live coding. \n",
    "\n",
    "Ademas voy a hablar un poco sobre la Python Software Foundation y qué hace, cómo funciona, y cómo qualquiera puede involucrarse. "
   ]
  },
  {
   "cell_type": "markdown",
   "metadata": {
    "nbpresent": {
     "id": "ce2bdbfa-efaa-47f1-94f6-fa04558f09fc"
    },
    "slideshow": {
     "slide_type": "slide"
    }
   },
   "source": [
    "# Iteración: la historia secreta\n",
    "\n",
    "## Desde el interior del protocolo de iteración\n",
    "\n",
    "### PyCon Bolivia 27 Sept 2020\n",
    "\n",
    "Naomi Ceder, Ex-presidenta de la PSF\n",
    "\n",
    "**Este jupyter notebook está disponible en https://github.com/nceder/workshops**\n"
   ]
  },
  {
   "cell_type": "markdown",
   "metadata": {
    "slideshow": {
     "slide_type": "notes"
    }
   },
   "source": [
    "Usar bucles `for` y comprensiones de lista en Python es bastante común y básico. \n",
    "\n",
    "Pero ¿cómo funciona la iteración en Python en verdad? \n",
    "\n",
    "Las palabras \"iterator\" y \"iterable\" aparecen más de 500 veces en la documentación de Python, pero ¿qué hace en realidad un \"iterator\" en contraste con una \"iterable\"? Y ¿cómo lo hacen? \n",
    "\n",
    "Hoy quiero contarles los detalles de la historia secreta de la iteración, con un poquito de live coding. \n"
   ]
  },
  {
   "cell_type": "markdown",
   "metadata": {
    "slideshow": {
     "slide_type": "slide"
    }
   },
   "source": [
    "## Iteración = repetición con código y datos"
   ]
  },
  {
   "cell_type": "markdown",
   "metadata": {
    "slideshow": {
     "slide_type": "notes"
    }
   },
   "source": [
    "Entonces, todos sabemos (o creyemos que sabemos) lo que es iteración - la repetición de código con datos... \n",
    "\n",
    "Pero aún que sea muy común el uso de la iteración yo diría que la historia de cómo funciona no es bien conocida.\n",
    "\n",
    "En verdad, Dave Beazley, un gran hombre de Python, (y un compañero aquí en Chicago) ha llamado iteración \"Python's most powerful useful feature\", es decir una característica poderosa que todos usamos cada día.\n",
    "\n",
    "Te recomiendo mucho que veas el video de su charla remota en PyCon Pakistan - cuenta la historia del protocolo de iteración desde los primeros días de Python... y toca la canción de Monty Python en su trombón."
   ]
  },
  {
   "cell_type": "markdown",
   "metadata": {
    "slideshow": {
     "slide_type": "fragment"
    }
   },
   "source": [
    "## “Python's most powerful useful feature” - “La más poderosa característica útil de Python”\n",
    "\n",
    "-- Dave Beazley, “[Iterations of Evolution: The Unauthorized Biography of the For-Loop](https://www.youtube.com/watch?v=2AXuhgid7E4)”"
   ]
  },
  {
   "cell_type": "markdown",
   "metadata": {
    "slideshow": {
     "slide_type": "slide"
    }
   },
   "source": [
    "### Colecciones/series repetitivas de datos están en todas partes\n",
    "\n",
    "**por ejemplo:**\n",
    "* temperaturas de un mes\n",
    "* claves de un diccionario de números de identificación de miembros: información de miembros\n",
    "* un archivo CSV de millones de productos\n",
    "* el texto de la novela *Don Quijote*\n",
    "* los resultados de un consulta de base de datos para las ventas de ayer"
   ]
  },
  {
   "cell_type": "markdown",
   "metadata": {
    "slideshow": {
     "slide_type": "notes"
    }
   },
   "source": [
    "Y por supuesto hay muchas colecciones de datos en todas partes... "
   ]
  },
  {
   "cell_type": "markdown",
   "metadata": {
    "slideshow": {
     "slide_type": "slide"
    }
   },
   "source": [
    "###  Tienen poco en común\n",
    " * tipos diferentes de series/contenedores\n",
    " * tipos diferentes de elementos\n",
    "\n",
    "### Pero... \n",
    "\n",
    "para todas, se puede usar la misma estructura para iteración.\n"
   ]
  },
  {
   "cell_type": "markdown",
   "metadata": {
    "slideshow": {
     "slide_type": "slide"
    }
   },
   "source": [
    "### El bucle de `for` Pythonico"
   ]
  },
  {
   "cell_type": "markdown",
   "metadata": {
    "slideshow": {
     "slide_type": "notes"
    }
   },
   "source": [
    "Vale... veamos un bucle de `for`. Por supuesto bucles de `for` se usan en casi todo lenguaje de programación. Pero como dije antes no todos funcionan de la misma manera y Python fue uno de los primeros en iterar sobre una secuencia. Hoy en dia, claro, varios lenguajes tienen esta característica.\n",
    "\n",
    "Pero déjame escribir un bucle pequeño...\n",
    "\n",
    "Esto funciona como se espera, y cuenta desde uno a cuatro.\n",
    "\n",
    "```\n",
    "for elemento in una_lista:\n",
    "    print(elemento)\n",
    "```"
   ]
  },
  {
   "cell_type": "code",
   "execution_count": null,
   "metadata": {
    "slideshow": {
     "slide_type": "fragment"
    }
   },
   "outputs": [],
   "source": [
    "# bucle de for (estilo de Python)\n",
    "una_lista = [1, 2, 3, 4]\n",
    "\n",
    "for elemento in una_lista:\n",
    "    print(elemento)"
   ]
  },
  {
   "cell_type": "markdown",
   "metadata": {
    "slideshow": {
     "slide_type": "slide"
    }
   },
   "source": [
    "### Pregunta: en ese bucle simple cuantas excepciones se lanzan?\n",
    "\n",
    "* 0\n",
    "* 1\n",
    "* 4\n",
    "* 2\n",
    "\n"
   ]
  },
  {
   "cell_type": "markdown",
   "metadata": {
    "slideshow": {
     "slide_type": "fragment"
    }
   },
   "source": [
    "La respuesta cierta es 2... \n",
    "\n",
    "¿Tuviste la respuesta correcta? Pronto veremos por que."
   ]
  },
  {
   "cell_type": "markdown",
   "metadata": {
    "slideshow": {
     "slide_type": "slide"
    }
   },
   "source": [
    "## En 1994 esto bucle estaba sorprendente\n",
    "\n",
    "### Python and `for` loops\n",
    "\n",
    "The `for` statement in Python differs a bit \n",
    "from what you may be\n",
    "used to in C or Pascal.  Rather than always iterating over an\n",
    "arithmetic progression of numbers (like in Pascal), or leaving the user\n",
    "completely free in the iteration test and step (as C), Python's `for` \n",
    "statement iterates over the items of any sequence (e.g., a list\n",
    "or a string), in the order that they appear in the sequence.\n",
    "\n",
    "-- Python V 1.1 Docs, 1994"
   ]
  },
  {
   "cell_type": "markdown",
   "metadata": {
    "slideshow": {
     "slide_type": "notes"
    }
   },
   "source": [
    "No voy a traducir esto párrafo; es de la documentación de Python 1.1, hace 25 años. \n",
    "\n",
    "Lo importante es que este texto asume que los lectores esperaban un lenguaje en que un bucle de `for` es solo un secuencia de enteros, como Pascal (en 1994 yo estaba enseñando Pascal a estudiantes de secundaria, así que recuerdo bién esto) o un lenguaje en que no hay ningunas reglas sobre los componentes de la sentencia `for` como C. \n",
    "\n",
    "(Sabes que la sentencia `for` en C requiere? Solo paréntesis y dos puntos y comas, nada más.)\n",
    "\n",
    "Por otro lado, Python fue un poco raro en que la sentencia `for` opera en los miembros de una secuencia."
   ]
  },
  {
   "cell_type": "markdown",
   "metadata": {
    "slideshow": {
     "slide_type": "slide"
    }
   },
   "source": [
    "## ¿Cómo funciona eso?\n",
    "\n",
    "* **Cómo un bucle `for` sabe qué elemento es “next”?**\n",
    "* **Cómo los bucles `for` pueden usar tantos tipos distintos?**\n",
    "* **Qué hace que un objeto “funcione” en un bucle `for`?**"
   ]
  },
  {
   "cell_type": "markdown",
   "metadata": {
    "slideshow": {
     "slide_type": "slide"
    }
   },
   "source": [
    "## protocolo de iteración\n",
    "\n",
    "* la iteración en Python depende de un **protocolo**, no de tipos (desde Python 2.2)\n",
    "* es un buen ejemplo de “duck typing” (tipado de pato? ;-P ) en Python - cualquier objeto que sigue el protocolo se puede iterar. "
   ]
  },
  {
   "cell_type": "markdown",
   "metadata": {
    "slideshow": {
     "slide_type": "notes"
    }
   },
   "source": [
    "Iteración en Python funciona con tantos tipos porque es un protocolo... es decir, es una manera especificada para iterar sobre secuencias or cosas que se comportan como secuencias. El protocol especifica cómo se devuelve el siguiente, y cuáles métodos necesita un objeto para que funcione en iteración.\n",
    "\n",
    "Esto es un concepto muy importante en Python, la idea de que importa más cómo funciona un objeto que qué tipo es. En Python a veces llamamos esto \"más fácil pedir perdón que permiso\" - no preguntamos si un objeto es el tipo correcto... sino que lo intentamos y ver si hace lo que queremos."
   ]
  },
  {
   "cell_type": "markdown",
   "metadata": {
    "slideshow": {
     "slide_type": "slide"
    }
   },
   "source": [
    "### El protocolo: \n",
    "1. para iteración necesitas un objeto **iterable**\n",
    "2. y un **iterador** (que Python generalmente crea para ti)"
   ]
  },
  {
   "cell_type": "markdown",
   "metadata": {
    "slideshow": {
     "slide_type": "notes"
    }
   },
   "source": [
    "Estos términos se mencionan más de 500 veces en la documentación oficial de Python. Son muy similares y fáciles de confundir, pero debemos entender cómo funciona cada uno para entender la iteración en Python."
   ]
  },
  {
   "cell_type": "markdown",
   "metadata": {
    "slideshow": {
     "slide_type": "slide"
    }
   },
   "source": [
    "## ¿Qué es un ‘iterable’?\n",
    "\n",
    "* un objeto que puede devolver sus elementos **uno detrás otro.** \n",
    "* **cualquier clase** con un **`__iter__()`** método \n",
    "* o **cualqier clase** con un **`__getitem__()`** método que implementa **semántica de secuencia**.\n",
    "* un objeto que devuelve un **iterador** si la función `iter()` está llamada con él.\n",
    "\n",
    "Los iterables incluyen **todos los tipos de secuencia** (como `list`, `str`, y `tuple`) y **algunos tipos no de secuencia** como `dict`, archivos, etc.\n",
    "\n",
    "**Nota: los guiones bajos dobles se pronuncian \"dunder\" en inglés (abreviatura de \"double underscore\")**"
   ]
  },
  {
   "cell_type": "markdown",
   "metadata": {
    "slideshow": {
     "slide_type": "notes"
    }
   },
   "source": [
    "Nota: los guiones bajos dobles se pronuncian \"dunder\" en inglés (abreviatura de \"double underscore\")\n",
    "\n",
    "Los iterables pueden crearse de **dos** maneras. Si contiene un método `__iter__` que devuelve un iterador, es (como veremos) un iterable. Pero si no contiene un `__iter__` todavía puede ser iterable si contiene un método `__getitem__` con semántica de secuencia. Y muchos objetos, como listas y cadenas, contiene los ambos."
   ]
  },
  {
   "cell_type": "markdown",
   "metadata": {
    "slideshow": {
     "slide_type": "slide"
    }
   },
   "source": [
    "### ¿Semántica de secuencia?\n",
    "* un objeto accede a sus valores o elementos en orden\n",
    "* accede a sus elementos con corchetes `[]` e índices de enteros empezando desde 0\n",
    "* lanza una IndexError cuando el índice está más allá del final de la secuencia\n",
    "\n",
    "```\n",
    "x[0]\n",
    "x[1]\n",
    "x[2]\n",
    "```"
   ]
  },
  {
   "cell_type": "markdown",
   "metadata": {
    "slideshow": {
     "slide_type": "notes"
    }
   },
   "source": [
    "En este ejemplo la list `x` contiene tres elementos a los que podemos acceder con índices 0, 1, y 2. Si intentamos acceder a posición 3 (o quarto elemento) se lanza una excepción IndexError, porque ese elemento no existe en el objeto."
   ]
  },
  {
   "cell_type": "markdown",
   "metadata": {
    "slideshow": {
     "slide_type": "slide"
    }
   },
   "source": [
    "## Hagamos un iterable -  `Repeater`\n",
    "\n",
    "Un objeto que puede estar iterado y devuelve el mismo valor el número de veces especificado.\n",
    "\n",
    "```\n",
    "repeat = Repeater(\"hola\", 4)\n",
    "\n",
    "for i in repeat:\n",
    "    print(i)\n",
    "\n",
    "hola\n",
    "hola\n",
    "hola\n",
    "hola\n",
    "```"
   ]
  },
  {
   "cell_type": "markdown",
   "metadata": {
    "slideshow": {
     "slide_type": "notes"
    }
   },
   "source": [
    "Voy a crear una clase que es un iterable lo más sencillo. Será muy simple, devolviendo el mismo valor un número especificado de veces. "
   ]
  },
  {
   "cell_type": "markdown",
   "metadata": {
    "slideshow": {
     "slide_type": "slide"
    }
   },
   "source": [
    "### Un iterable, usando `__getitem__()`"
   ]
  },
  {
   "cell_type": "code",
   "execution_count": null,
   "metadata": {
    "slideshow": {
     "slide_type": "fragment"
    }
   },
   "outputs": [],
   "source": [
    "class Repeater:\n",
    "    def __init__(self, valor, limite):\n",
    "        self.valor = valor\n",
    "        self.limite = limite\n",
    "\n",
    "    def __getitem__(self, indice):\n",
    "        if 0 <= indice < self.limite:\n",
    "            return self.valor\n",
    "        else:\n",
    "            raise IndexError"
   ]
  },
  {
   "cell_type": "markdown",
   "metadata": {
    "slideshow": {
     "slide_type": "notes"
    }
   },
   "source": [
    "Porque no he dicho qué es un iterador, tenemos que implementar la clase con `__getitem__`.\n",
    "\n",
    "```\n",
    "    def __getitem__(self, indice):\n",
    "        if 0 <= indice < self.límite:\n",
    "            return self.valor\n",
    "        else:\n",
    "            raise IndexError\n",
    "```"
   ]
  },
  {
   "cell_type": "code",
   "execution_count": null,
   "metadata": {
    "slideshow": {
     "slide_type": "slide"
    }
   },
   "outputs": [],
   "source": [
    "repeat = Repeater(\"hola\", 4)\n",
    " "
   ]
  },
  {
   "cell_type": "markdown",
   "metadata": {
    "slideshow": {
     "slide_type": "notes"
    }
   },
   "source": [
    "Vamos a crear una instancia de esta clase... con el valor 'hola' y 4 como el número de repeticones. "
   ]
  },
  {
   "cell_type": "code",
   "execution_count": null,
   "metadata": {
    "scrolled": true,
    "slideshow": {
     "slide_type": "fragment"
    }
   },
   "outputs": [],
   "source": [
    "# __getitem__ con semántica de secuencia?\n",
    "\n",
    "repeat[0]"
   ]
  },
  {
   "cell_type": "markdown",
   "metadata": {
    "slideshow": {
     "slide_type": "notes"
    }
   },
   "source": [
    "Probemos la semántica de secuencia... ¿qué índices funcionan? y ¿cuales lanzan excepciones?"
   ]
  },
  {
   "cell_type": "code",
   "execution_count": null,
   "metadata": {
    "slideshow": {
     "slide_type": "fragment"
    }
   },
   "outputs": [],
   "source": [
    "# devuelve la iter() función un iterador?\n",
    "\n",
    "iter(repeat)"
   ]
  },
  {
   "cell_type": "markdown",
   "metadata": {
    "slideshow": {
     "slide_type": "notes"
    }
   },
   "source": [
    "Y ¿qué se devuelve con `iter()`?"
   ]
  },
  {
   "cell_type": "code",
   "execution_count": null,
   "metadata": {
    "slideshow": {
     "slide_type": "slide"
    }
   },
   "outputs": [],
   "source": [
    "# funciona en un bucle?\n",
    "for elemento in repeat:\n",
    "    print(elemento)"
   ]
  },
  {
   "cell_type": "markdown",
   "metadata": {
    "slideshow": {
     "slide_type": "notes"
    }
   },
   "source": [
    "¿Functiona en un bucle?"
   ]
  },
  {
   "cell_type": "code",
   "execution_count": null,
   "metadata": {
    "scrolled": true,
    "slideshow": {
     "slide_type": "fragment"
    }
   },
   "outputs": [],
   "source": [
    "# en un lista comprensión\n",
    "\n",
    "[x for x in repeat]"
   ]
  },
  {
   "cell_type": "markdown",
   "metadata": {
    "slideshow": {
     "slide_type": "notes"
    }
   },
   "source": [
    "¿Functiona en una lista por comprénsion?"
   ]
  },
  {
   "cell_type": "markdown",
   "metadata": {
    "slideshow": {
     "slide_type": "slide"
    }
   },
   "source": [
    "### Lo que realmente ha acontecido\n",
    "\n",
    "* el objeto `repeat` es un **iterable**\n",
    "  * puede devolver sus elementos con índices enteros empezando desde 0\n",
    "  * continúa hasta un IndexError está lanzada\n",
    "* un **iterador** se crea del objeto `repeat`  por la sentencia `for`\n",
    "  * el iterador obtiene cada elemento del iterable\n",
    "  * el iterador atrapa la excepción IndexError de iterable y se detiene\n",
    "* cada vez que se itera un iterador nuevo se crea y la iteración comienza desde el principio\n",
    "\n",
    "**Nota:** Nuestro objeto repeat ha lanzado una excepción IndexError... como casi siempre en bucles como este"
   ]
  },
  {
   "cell_type": "markdown",
   "metadata": {
    "slideshow": {
     "slide_type": "notes"
    }
   },
   "source": [
    "En el caso de la sententia `for` realmente llama `iter()` y mantiene el iterador en una variable anónima."
   ]
  },
  {
   "cell_type": "markdown",
   "metadata": {
    "slideshow": {
     "slide_type": "slide"
    }
   },
   "source": [
    "## ¿Qué es un iterador?\n",
    "\n",
    "El bucle `for` en Python depende de poder obtener el elemento **next**\n",
    "* **el bucle mismo no sabe y no le importa** exactamente en qué parte de la serie está un elemento (o qué tipo es)\n",
    "* **el iterable mismo no sabe** que es siguiente\n",
    "* sino el **iterador** necesita saber qué elemento es **next**\n",
    "\n",
    "\n",
    "Un **iterador** tiene un método `__next__()`  que devuelve el siguiente elemento en la secuencia."
   ]
  },
  {
   "cell_type": "markdown",
   "metadata": {
    "slideshow": {
     "slide_type": "slide"
    }
   },
   "source": [
    "### Un iterador\n",
    "\n",
    "\n",
    "* representa **un flujo de datos**. \n",
    "* cada **llamada del método del iterador `__next__()`** (o la función `next()`) **devolverá el elemento siguiente** del flujo. \n",
    "* cuando **no hay más datos se lanza una excepción StopIteration**. \n",
    "* el **iterador es agotado** y si llamas el método `__next__()` la excepción StopIteration se lanza otra vez... \n"
   ]
  },
  {
   "cell_type": "markdown",
   "metadata": {
    "slideshow": {
     "slide_type": "slide"
    }
   },
   "source": [
    "### Todos los iteradores\n",
    "* deben tener un método `__iter__()` que devuelve el iterador mismo \n",
    "  * **todos los iteradores son iterables también** \n",
    "  * todos los iteradores se puedan usar en lugares donde otros iterables son aceptados. "
   ]
  },
  {
   "cell_type": "markdown",
   "metadata": {
    "slideshow": {
     "slide_type": "slide"
    }
   },
   "source": [
    "### Iteraciones  múltiples\n",
    "* La mayoría de los iterables (por ejemplo las listas) producen **un nuevo iterador nuevo cada vez**.\n",
    "* **un iterador devolverá el mismo iterador agotado** de la iteración anterior, como un contenedor vacío."
   ]
  },
  {
   "cell_type": "markdown",
   "metadata": {
    "slideshow": {
     "slide_type": "slide"
    }
   },
   "source": [
    "### Hagamos un iterador - `RepeatIterator`\n",
    "\n",
    "Funcionará en casi la misma manera, pero vamos a implementarlo como un iterador\n",
    "\n",
    "* `__next__()` método para devolver el elemento siguiente\n",
    "* `__iter__()` método para devolver el iterador mismo"
   ]
  },
  {
   "cell_type": "code",
   "execution_count": null,
   "metadata": {
    "slideshow": {
     "slide_type": "slide"
    }
   },
   "outputs": [],
   "source": [
    "class RepeatIterator:\n",
    "    def __init__(self, valor, limite):\n",
    "        self.valor = valor\n",
    "        self.limite = limite\n",
    "        self.cuenta = 0 \n",
    "        \n",
    "    def __next__(self):\n",
    "        if self.cuenta < self.limite:\n",
    "            self.cuenta += 1\n",
    "            return self.valor\n",
    "        else:\n",
    "            raise StopIteration\n",
    "            \n",
    "    def __iter__(self):\n",
    "        return self\n",
    " "
   ]
  },
  {
   "cell_type": "markdown",
   "metadata": {
    "slideshow": {
     "slide_type": "notes"
    }
   },
   "source": [
    "```\n",
    "class RepeatIterator:\n",
    "    def __init__(self, valor, limite):\n",
    "        self.valor = valor\n",
    "        self.limite = limite\n",
    "        self.cuenta = 0\n",
    "        \n",
    "    def __next__(self):\n",
    "        if self.cuenta < self.limite:\n",
    "            self.cuenta += 1\n",
    "            return self.valor\n",
    "        else:\n",
    "            raise StopIteration\n",
    "            \n",
    "    def __iter__(self):\n",
    "        return self\n",
    " ```\n",
    "\n",
    "Agregamos una variable de instancia \"cuenta\" para que el objeto sepa dónde está en la serie.\n",
    "\n",
    "Y en este caso, después de devolver el último elemento, el objeto no lanza una exceptión IndexError (porque no se accede a él por índice), sino que lanza una excepción StopIteration.\n",
    "\n",
    "Y por supuesto, hay un método `__iter__()` que devuelve el objeto mismo."
   ]
  },
  {
   "cell_type": "code",
   "execution_count": null,
   "metadata": {
    "slideshow": {
     "slide_type": "slide"
    }
   },
   "outputs": [],
   "source": [
    "repeat_iter = RepeatIterator(\"Hola\", 4)\n",
    "\n",
    "repeat_iter"
   ]
  },
  {
   "cell_type": "code",
   "execution_count": null,
   "metadata": {
    "scrolled": true,
    "slideshow": {
     "slide_type": "fragment"
    }
   },
   "outputs": [],
   "source": [
    "# devuelve la función next() el elemento siguiente?\n",
    "next(repeat_iter)"
   ]
  },
  {
   "cell_type": "code",
   "execution_count": null,
   "metadata": {
    "slideshow": {
     "slide_type": "slide"
    }
   },
   "outputs": [],
   "source": [
    "# cuando iter() se llama con él, \n",
    "# devuelve el objeto mismo\n",
    "print(repeat_iter)\n",
    "\n",
    "repeat_iter_iter = iter(repeat_iter)\n",
    "print(repeat_iter_iter) "
   ]
  },
  {
   "cell_type": "code",
   "execution_count": null,
   "metadata": {
    "slideshow": {
     "slide_type": "fragment"
    }
   },
   "outputs": [],
   "source": [
    "# llamar a iter() con iterable \n",
    "# siempre devuelve un iterador nuevo\n",
    "print(iter(repeat))\n",
    "\n",
    "print(iter(repeat))"
   ]
  },
  {
   "cell_type": "code",
   "execution_count": null,
   "metadata": {
    "scrolled": true,
    "slideshow": {
     "slide_type": "slide"
    }
   },
   "outputs": [],
   "source": [
    "# se puede usarlo en un bucle for?\n",
    "for elemento in repeat_iter:\n",
    "    print(elemento)"
   ]
  },
  {
   "cell_type": "code",
   "execution_count": null,
   "metadata": {
    "slideshow": {
     "slide_type": "slide"
    }
   },
   "outputs": [],
   "source": [
    "# se puede re-usarlo? (con next())\n",
    "next(repeat_iter)"
   ]
  },
  {
   "cell_type": "code",
   "execution_count": null,
   "metadata": {
    "slideshow": {
     "slide_type": "slide"
    }
   },
   "outputs": [],
   "source": [
    "# podemos usar de nuevo en un bucle for? \n",
    "for elemento in repeat_iter:\n",
    "    print(elemento) "
   ]
  },
  {
   "cell_type": "markdown",
   "metadata": {
    "slideshow": {
     "slide_type": "slide"
    }
   },
   "source": [
    "### Lo que realmente ha acontecido\n",
    "* `for` llamó `iter()` con `repeat_iter`, que devolvió se mismo (en una variable anónima)\n",
    "* `for` llamó `next()` con iterador para obener los valores para el bucle \n",
    "* `for` atrapó `StopIteration` y ha detenido la iteración"
   ]
  },
  {
   "cell_type": "markdown",
   "metadata": {
    "slideshow": {
     "slide_type": "notes"
    }
   },
   "source": [
    "Hemos visto cómo funcionan iterables y iteradores... necesitamos ambos, pero usualmente solamente vemos los iterables. \n",
    "\n",
    "Y después de ver cómo crear un iterador como una clase, tenqo que dicerles que hay una manera más simple y más común para crear iteradores."
   ]
  },
  {
   "cell_type": "markdown",
   "metadata": {
    "slideshow": {
     "slide_type": "slide"
    }
   },
   "source": [
    "### La diferencia entre un iterable y un iterador es importante\n",
    "\n",
    "* una iteración con lista y secuencias usa un iterable, y crea un iterador nueva cada vez...\n",
    "* una iteración con archivos, resultados de un base de dados, y tal usa un iterador que es **el mismo objeto** cada vez (y al menos que explicitamente consiga uno nuevo) y después **el iterador agotado parece vacío.**"
   ]
  },
  {
   "cell_type": "markdown",
   "metadata": {
    "slideshow": {
     "slide_type": "slide"
    }
   },
   "source": [
    "## Crear un iterador con una función de generador"
   ]
  },
  {
   "cell_type": "markdown",
   "metadata": {
    "slideshow": {
     "slide_type": "notes"
    }
   },
   "source": [
    "Una función generador es un tipo de función especial... no se usa el declaración \"return\" dentro un generador, pero `yield`. Si una functión contiene 'yield' es un generador, y quando el código se ejecuta, se crea un iterador \n",
    "\n",
    "```\n",
    "    while cuenta < limite:\n",
    "        yield valor\n",
    "        cuenta += 1\n",
    "```"
   ]
  },
  {
   "cell_type": "code",
   "execution_count": null,
   "metadata": {
    "slideshow": {
     "slide_type": "fragment"
    }
   },
   "outputs": [],
   "source": [
    "def repeat_gen(valor, limite):\n",
    "    cuenta = 0\n",
    "    while cuenta < limite:\n",
    "        yield valor\n",
    "        cuenta += 1\n",
    "    \n",
    "for elemento in repeat_gen(\"olá\", 3): \n",
    "    print(elemento) "
   ]
  },
  {
   "cell_type": "markdown",
   "metadata": {
    "slideshow": {
     "slide_type": "slide"
    }
   },
   "source": [
    "### Lo que realmente ha acontecido\n",
    "* `repeat_gen(\"olá\", 3)` devolvió un objeto generador que es tambien un iterador\n",
    "* `for` llamó `iter()` con el generador anónimo\n",
    "* `for` llamó `next()` con generador para obener los valores para el bucle (los valores se devolvieron por `yield`)\n",
    "* el generador devolvió `StopIteration` quando terminó\n",
    "* `for` atrapó la `StopIteration` y ha detenido la iteración"
   ]
  },
  {
   "cell_type": "markdown",
   "metadata": {
    "slideshow": {
     "slide_type": "slide"
    }
   },
   "source": [
    "## Iteración en Python\n",
    "\n",
    "* es un **protocolo** (desde Python 2.2)\n",
    "* necesita un **iterable**\n",
    "* necesita también un  **iterador** (a menudo creado automaticamente entre bastidores) para conseguir lo **next**\n",
    "* **los iteradores se pueden usar como iterables,** pero no se \"renuevan\""
   ]
  },
  {
   "cell_type": "markdown",
   "metadata": {
    "slideshow": {
     "slide_type": "notes"
    }
   },
   "source": [
    "Eso es todo... espero que ahora entiendan mejor lo que realmente acontece en la iteración en Python y que nunca les engañe la diferencia entre un iterable y un iterador. "
   ]
  },
  {
   "cell_type": "markdown",
   "metadata": {
    "slideshow": {
     "slide_type": "slide"
    }
   },
   "source": [
    "# Fin \n",
    "## Iteracion: la historia secreta\n",
    "\n",
    "Que esten atentos para el próximo episodio... <br/>**Generadores: la saga continua**"
   ]
  },
  {
   "cell_type": "markdown",
   "metadata": {
    "slideshow": {
     "slide_type": "slide"
    }
   },
   "source": [
    "# ¡Mil gracias!\n",
    "\n",
    "## ¿Preguntas?\n",
    "\n",
    "### @NaomiCeder\n",
    "### naomi@naomiceder.tech • www.naomiceder.tech"
   ]
  },
  {
   "cell_type": "markdown",
   "metadata": {
    "slideshow": {
     "slide_type": "slide"
    }
   },
   "source": [
    "## Recursos\n",
    "\n",
    "Para la PSF (@ThePSF en Twitter)\n",
    "* www.python.org/psf-landing/, www.python.org/psf/membership/, www.python.org/community/\n",
    "* psf@python.org, psf-community@python.org\n",
    "\n",
    "Para la iteración\n",
    "* [Python Tutorial - iteradores (en español)](https://docs.python.org/es/3.8/tutorial/classes.html#iterators)\n",
    "* Python Tutorial (en español) - \n",
    "   * [generadores](https://docs.python.org/es/3.8/tutorial/classes.html#generators)\n",
    "   * [generator expressions](https://docs.python.org/es/3.8/tutorial/classes.html#generator-expressions)\n",
    "* [Iterator types documentation](https://docs.python.org/dev/library/stdtypes.html#iterator-types)\n",
    "* [Iterators, Functional Programming HOWTO](https://docs.python.org/dev/howto/functional.html#iterators)\n",
    "* [Iterations of Evolution: The Unauthorized Biography of the For-Loop](https://www.youtube.com/watch?v=2AXuhgid7E4) - Dave Beazley, PyCon Pakistan 2017"
   ]
  }
 ],
 "metadata": {
  "celltoolbar": "Slideshow",
  "kernelspec": {
   "display_name": "Python 3",
   "language": "python",
   "name": "python3"
  },
  "language_info": {
   "codemirror_mode": {
    "name": "ipython",
    "version": 3
   },
   "file_extension": ".py",
   "mimetype": "text/x-python",
   "name": "python",
   "nbconvert_exporter": "python",
   "pygments_lexer": "ipython3",
   "version": "3.8.3"
  },
  "livereveal": {
   "scroll": true,
   "start_slideshow_at": "selected",
   "theme": "white",
   "transition": "none"
  },
  "toc": {
   "base_numbering": 1,
   "nav_menu": {},
   "number_sections": false,
   "sideBar": true,
   "skip_h1_title": false,
   "title_cell": "Table of Contents",
   "title_sidebar": "Contents",
   "toc_cell": true,
   "toc_position": {},
   "toc_section_display": "block",
   "toc_window_display": false
  }
 },
 "nbformat": 4,
 "nbformat_minor": 2
}
